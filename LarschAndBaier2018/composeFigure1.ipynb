{
 "cells": [
  {
   "cell_type": "code",
   "execution_count": null,
   "metadata": {},
   "outputs": [],
   "source": [
    "import svgutils.transform as sg\n",
    "import pandas as pd\n",
    "import os"
   ]
  },
  {
   "cell_type": "code",
   "execution_count": null,
   "metadata": {},
   "outputs": [],
   "source": [
    "propsFn='props.csv'\n",
    "props=pd.read_csv(propsFn, header=None, index_col=0, squeeze=True,delim_whitespace=True).to_dict()\n",
    "\n",
    "base=props['BaseDir']\n",
    "\n",
    "outputDir = os.path.join(base,props['outputDir'])+'\\\\'\n",
    "RawDataDir = os.path.join(base,'rawData\\\\')\n",
    "\n",
    "props"
   ]
  },
  {
   "cell_type": "code",
   "execution_count": null,
   "metadata": {},
   "outputs": [],
   "source": [
    "f1=RawDataDir+'artwork\\\\1A_ExperimentCartoon_skypeVsPair.svg'\n",
    "f2=outputDir+'\\\\1B_physicalVsVirtual_IAD_SI.svg'\n",
    "f3=outputDir+'\\\\1D_physicalVsVirtual_adaptation.svg'\n",
    "f4=outputDir+'\\\\1C_physicalVsVirtual_SI_correlation.svg'\n",
    "f5=outputDir+'\\\\1E_physical_SI_overAge.svg'\n",
    "f6=outputDir+'\\\\1G_physicalVsVirtual_maps.svg'\n",
    "f7=outputDir+'\\\\1Fa_DotSizePrefCurves.svg'\n",
    "f8=outputDir+'\\\\1Fb_dotSizePrefCorr.svg'\n"
   ]
  },
  {
   "cell_type": "code",
   "execution_count": null,
   "metadata": {},
   "outputs": [],
   "source": [
    "from svgutils.compose import *\n",
    "fo3=outputDir+'\\\\Figure1.svg'\n",
    "Figure(\"15cm\", \"17cm\", \n",
    "        Panel(\n",
    "              Text(\"Figure 1\", 0, -5, size=12, weight='bold')\n",
    "             ).move(10, 20),\n",
    "        Panel(\n",
    "              SVG(f1).scale(3).move(0, -60),\n",
    "              Text(\"A\", 10, 40, size=12, weight='bold')\n",
    "             ),\n",
    "        Panel(\n",
    "              SVG(f2),\n",
    "              Text(\"B\", 0, 0, size=12, weight='bold')\n",
    "             ).move(10, 100),\n",
    "       Panel(\n",
    "              SVG(f4),\n",
    "              Text(\"C\", -30, 0, size=12, weight='bold')\n",
    "             ).move(40, 290),\n",
    "       Panel(\n",
    "              SVG(f3),\n",
    "              Text(\"D\", -20, 0, size=12, weight='bold')\n",
    "             ).move(200, 290),\n",
    "       Panel(\n",
    "              SVG(f5),\n",
    "              Text(\"E\", -20, 0, size=12, weight='bold')\n",
    "             ).move(420, 290),\n",
    "       Panel(\n",
    "              SVG(f6).move(-15,0),\n",
    "              Text(\"G\", -15, 0, size=12, weight='bold')\n",
    "             ).move(350, 470),\n",
    "       Panel(\n",
    "              SVG(f7),\n",
    "              Text(\"F\", -25, 0, size=12, weight='bold')\n",
    "             ).move(40, 470),\n",
    "       Panel(\n",
    "              SVG(f8),\n",
    "             ).move(190, 470)\n",
    "        ).save(fo3)"
   ]
  },
  {
   "cell_type": "code",
   "execution_count": null,
   "metadata": {},
   "outputs": [],
   "source": []
  }
 ],
 "metadata": {
  "kernelspec": {
   "display_name": "Python 3",
   "language": "python",
   "name": "python3"
  },
  "language_info": {
   "codemirror_mode": {
    "name": "ipython",
    "version": 3
   },
   "file_extension": ".py",
   "mimetype": "text/x-python",
   "name": "python",
   "nbconvert_exporter": "python",
   "pygments_lexer": "ipython3",
   "version": "3.6.5"
  }
 },
 "nbformat": 4,
 "nbformat_minor": 1
}
