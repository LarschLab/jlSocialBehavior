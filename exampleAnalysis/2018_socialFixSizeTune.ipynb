{
 "cells": [
  {
   "cell_type": "markdown",
   "metadata": {
    "collapsed": true
   },
   "source": [
    "# Experiment analysis: Size Varying sprite discs\n",
    "## animals are tectum MTZ ablated SAGFF(LF)81C with UAS:NTR-mcherry and controls (no mcherry expression visible)"
   ]
  },
  {
   "cell_type": "code",
   "execution_count": null,
   "metadata": {
    "scrolled": false
   },
   "outputs": [],
   "source": [
    "import os\n",
    "import numpy as np\n",
    "import matplotlib.pyplot as plt\n",
    "import pandas as pd\n",
    "import seaborn as sns\n",
    "import scipy.stats as stats\n",
    "import glob\n",
    "from datetime import datetime\n",
    "\n",
    "#\n",
    "# load custom modules for social behavior analysis\n",
    "os.chdir(r'C:\\Users\\johannes\\Dropbox\\python\\zFishBehavior\\dishGroupBehavior')\n",
    "import models.experiment as xp\n",
    "import models.experiment_set as es\n",
    "import functions.matrixUtilities_joh as mu\n",
    "import functions.paperFigureProps as pfp\n",
    "\n",
    "#\n",
    "# notebook configuration\n",
    "%config InteractiveShellApp.pylab_import_all = False\n",
    "%matplotlib inline\n",
    "%pylab inline\n",
    "%reload_ext autoreload\n",
    "%autoreload 2\n",
    "\n",
    "#\n",
    "# custom paper style plotting\n",
    "pfp.paper()"
   ]
  },
  {
   "cell_type": "markdown",
   "metadata": {},
   "source": [
    "Pre-Analyze all experiments only if necessary, this takes a couple of minutes! Experiment summary csv files are saved to disk."
   ]
  },
  {
   "cell_type": "code",
   "execution_count": null,
   "metadata": {},
   "outputs": [],
   "source": [
    "#\n",
    "# path to data\n",
    "#   .avi file               raw video data\n",
    "#   .PositionTxt[...].txt   raw animal position and episode data\n",
    "#   .PL[...].txt            pair list\n",
    "\n",
    "\n",
    "startDir = os.path.normpath(r\"c:\\data\\2018\\20180509_81cNTR_MTZ_01\\a\")\n",
    "\n",
    "#\n",
    "# collect meta information and save to csv file\n",
    "info = pd.DataFrame()\n",
    "\n",
    "info['epiDur'] = [5]      # duration of individual episodes (default: 5)\n",
    "info['episodes'] = -1   # number of episodes to process: -1 to load all episodes (default: -1)\n",
    "info['set'] = 0         # experiment set: can label groups of experiments (default: 0)\n",
    "info['anID'] = 0\n",
    "info['inDish'] = 10     # time in dish before experiments started (default: 10)\n",
    "info['recomputeAnimalSize'] = 0\n",
    "info['arenaDiameter_mm'] = 100\n",
    "info['episodePLcode'] = 0\n",
    "info['SaveNeighborhoodMaps'] = 1\n",
    "info['ComputeBouts'] = 1\n",
    "info['minShift'] = 60 # minimum number of seconds to shift for control IAD\n",
    "\n",
    "birthDay = np.array(['2018-04-14'])   # birth date of animals. List all dates used in experiment, then assign below.\n",
    "birthTime = '09-00'         # birth time of animals. Use 9 am per default.\n",
    "\n",
    "#\n",
    "# specify birth day for each animal using indices from birth date list.\n",
    "birthIndex = np.array([ 0, 0, 0, 0, 0,\n",
    "                        0, 0, 0, 0, 0,\n",
    "                        0, 0, 0, 0, 0])\n",
    "\n",
    "birthDay_all = [birthDay[x]+'-'+birthTime for x in birthIndex]\n",
    "birthDay_all=' '.join(birthDay_all)\n",
    "\n",
    "# treatment of animals. List all treatments used in experiment, then assign below\n",
    "treatName = np.array(['t+d+', 't+d-', 't-d-', 't-d+'])\n",
    "\n",
    "#\n",
    "# specify experimental treatment using indices from treatment names\n",
    "treatment = np.array([0, 1, 2, 3, 0,\n",
    "                      1, 2, 3, 0, 1,\n",
    "                      2, 3, 0, 1, 2])"
   ]
  },
  {
   "cell_type": "code",
   "execution_count": null,
   "metadata": {},
   "outputs": [],
   "source": [
    "aviPath = glob.glob(startDir+'\\\\*.avi')  # infer avi file - should be the only .avi file \n",
    "posPath = glob.glob(startDir+'\\\\PositionTxt*.txt')  # infer PositionTxt tile name\n",
    "PLPath = glob.glob(startDir+'\\\\PL*.txt')  # infer pair list file name\n",
    "\n",
    "info['aviPath'] = aviPath   #avi\n",
    "info['txtPath'] = posPath\n",
    "info['pairList'] = PLPath\n",
    "info['birthDay'] = birthDay_all\n",
    "\n",
    "csvFile = os.path.join(startDir,'csvProcess_fileList.csv')\n",
    "info.to_csv(csvFile, encoding='utf-8')\n",
    "\n",
    "print('Metadata saved to:', csvFile)"
   ]
  },
  {
   "cell_type": "code",
   "execution_count": null,
   "metadata": {},
   "outputs": [],
   "source": [
    "expSet = es.experiment_set(csvFile=csvFile)\n",
    "print('done reading experiment')"
   ]
  },
  {
   "cell_type": "code",
   "execution_count": null,
   "metadata": {},
   "outputs": [],
   "source": [
    "expSet.experiments[0].pair[0].IAD_m()"
   ]
  },
  {
   "cell_type": "code",
   "execution_count": null,
   "metadata": {
    "scrolled": true
   },
   "outputs": [],
   "source": [
    "summaryFile = os.path.normpath(posPath[0][:-4]+'_siSummary_epi'+str(float(episodeDur))+'.csv')\n",
    "print(summaryFile)\n",
    "#summaryFile=posPath[0][:-4]+'_anSize'+'.csv'\n",
    "df = pd.read_csv(summaryFile,index_col=0,sep=',')\n",
    "#df['episode']=[x.strip().replace('_','') for x in df['episode']]\n",
    "#df=df[df['animalIndex']!=14]\n",
    "#df=df[df['animalIndex'].isin(np.arange(0,14,2))]\n",
    "df.head()"
   ]
  },
  {
   "cell_type": "code",
   "execution_count": null,
   "metadata": {
    "scrolled": true
   },
   "outputs": [],
   "source": [
    "d=df.time\n",
    "r=datetime(2018,1,1)\n",
    "t2=[pd.to_datetime(x).replace(day=1,month=1)for x in df.time]\n",
    "\n",
    "t3=[(x-r)/pd.Timedelta('1 hour') for x in t2]\n",
    "df['t2']=t2\n",
    "df['t3']=t3\n",
    "df.head()"
   ]
  },
  {
   "cell_type": "markdown",
   "metadata": {},
   "source": [
    "## Habituation or Fatigue within 20 hours?"
   ]
  },
  {
   "cell_type": "markdown",
   "metadata": {},
   "source": [
    "Plot shoaling index during closed loop skype episodes over time."
   ]
  },
  {
   "cell_type": "code",
   "execution_count": null,
   "metadata": {
    "scrolled": false
   },
   "outputs": [],
   "source": [
    "sns.tsplot(data=df, time=\"t3\",value=\"si\",unit=\"animalIndex\",condition=\"episode\",estimator=np.nanmean,interpolate=False,err_style=\"ci_bars\");\n",
    "plt.xlim([0,24])\n",
    "plt.axhline(0,ls=':',color='gray')"
   ]
  },
  {
   "cell_type": "code",
   "execution_count": null,
   "metadata": {},
   "outputs": [],
   "source": [
    "treatLevels=np.unique(treatment)\n",
    "treatNum=treatLevels.shape[0]\n",
    "import string\n",
    "treatNames=list(string.ascii_lowercase[:treatNum])\n",
    "\n",
    "print(treatLevels,treatNum,treatNames)"
   ]
  },
  {
   "cell_type": "code",
   "execution_count": null,
   "metadata": {
    "scrolled": false
   },
   "outputs": [],
   "source": [
    "#Limit analysis to a time window (typically ignore fist 45 minutes and times later than 350 minutes)\n",
    "tStart=45\n",
    "tEnd=350\n",
    "idx=(df['inDishTime']<tEnd) & (df['inDishTime']>tStart) & (df['animalIndex']!=11)\n",
    "dfDR=df[idx]\n",
    "\n",
    "episodeNames=df['episode'].unique()\n",
    "\n",
    "tmp=dfDR.groupby(['episode','animalIndex'],sort=True)['si']\n",
    "xax=np.array([x[-2:] for x in episodeNames]).astype('int')/1000.0\n",
    "xax=xax*25*10\n",
    "xax.sort()\n",
    "\n",
    "err=tmp.std().unstack().values.T\n",
    "\n",
    "fig, axes = plt.subplots(nrows=2, ncols=1, sharex='col', sharey=False,\n",
    "                               gridspec_kw={'height_ratios': [2, 1]},\n",
    "                               figsize=(10, 7))\n",
    "col=treatment\n",
    "\n",
    "\n",
    "lab=treatNames\n",
    "\n",
    "co=sns.color_palette(\"Dark2\", treatNum)\n",
    "\n",
    "xt=xax.copy()\n",
    "xt[0]=0\n",
    "axes[0]=tmp.mean().unstack().plot(x=xax,kind='line',marker='o',yerr=err,\n",
    "                                  linestyle=':',ax=axes[0],color=[co[c] for c in col],legend=False,\n",
    "                                 xticks=xt)\n",
    "dfSkype=df[idx]\n",
    "dfSkype=dfSkype[dfSkype['episode']==episodeNames[-1]]\n",
    "mn=dfSkype.si.mean()\n",
    "er=dfSkype.si.std()\n",
    "\n",
    "\n",
    "for s in xax:\n",
    "    c=plt.Circle((s,0),s/10,color='k')\n",
    "    axes[1].add_artist(c)\n",
    "    \n",
    "axes[1].set_aspect('equal')\n",
    "axes[1].set_xlabel('disc diameter [mm]')\n",
    "axes[0].set_ylabel('attraction index')\n",
    "plt.xlim([0,xax.max()+xax.max()*0.1])\n",
    "plt.setp(axes[1].get_yticklabels(), visible=False)\n",
    "axes[1].set_ylim([-11,11]);\n",
    "lines, labels = axes[0].get_legend_handles_labels()\n",
    "axes[0].legend([lines[x] for x in range(treatNum)], [labels[x] for x in range(treatNum)], labels=lab)\n",
    "axes[0].axhline(0,ls=':',color='k')\n",
    "#axes[0].xaxis.set_major_formatter(FormatStrFormatter('%0.1f'))\n",
    "axes[0].set_title('Individual Pair Disc Size Tuning, Night vs. Day, n=8 pairs');\n"
   ]
  },
  {
   "cell_type": "code",
   "execution_count": null,
   "metadata": {},
   "outputs": [],
   "source": [
    "dfDR.groupby(['episode','animalIndex'],sort=True)['si'].mean().unstack().plot()"
   ]
  },
  {
   "cell_type": "code",
   "execution_count": null,
   "metadata": {},
   "outputs": [],
   "source": [
    "df['treatment']=treatment[df.animalIndex.values]\n",
    "df.head()"
   ]
  },
  {
   "cell_type": "code",
   "execution_count": null,
   "metadata": {},
   "outputs": [],
   "source": [
    "social=df[idx].groupby(['treatment','episode','animalIndex']).si.mean().reset_index()\n",
    "\n",
    "social['treatName']=treatName[social.treatment.values.astype('int')]\n",
    "ax=sns.swarmplot(data=social,x='episode',hue='treatName',y='si',zorder=1,linewidth=1,edgecolor='gray')\n",
    "#sns.swarmplot(data=dfSIs,x='condition',y='si',zorder=1,linewidth=1,edgecolor='gray',color='white')\n",
    "\n",
    "\n",
    "sns.pointplot(x=\"episode\", y=\"si\", hue='treatName',data=social,ci=None,zorder=100,scale=2)\n",
    "\n",
    "handles, labels = ax.get_legend_handles_labels()\n",
    "ax.legend(handles[:treatNum], labels[:treatNum])\n",
    "plt.xlabel('dot size [mm]')\n",
    "plt.ylabel('attraction')\n",
    "plt.xticks(range(7),['0','0.5','1','2','4','8','16'])\n",
    "plt.axhline(0,ls=':',color='gray')\n",
    "sns.despine()"
   ]
  },
  {
   "cell_type": "code",
   "execution_count": null,
   "metadata": {},
   "outputs": [],
   "source": [
    "social=df[idx].groupby(['treatment','episode','animalIndex']).avgSpeed.mean().reset_index()\n",
    "social['treatName']=treatName[social.treatment.values.astype('int')]\n",
    "ax=sns.swarmplot(data=social,x='episode',hue='treatName',y='avgSpeed',zorder=1,linewidth=1,edgecolor='gray')\n",
    "#sns.swarmplot(data=dfSIs,x='condition',y='si',zorder=1,linewidth=1,edgecolor='gray',color='white')\n",
    "\n",
    "\n",
    "sns.pointplot(x=\"episode\", y=\"avgSpeed\", hue='treatName',data=social,ci=None,zorder=100,scale=2)\n",
    "\n",
    "handles, labels = ax.get_legend_handles_labels()\n",
    "ax.legend(handles[:treatNum], labels[:treatNum])\n",
    "plt.xlabel('dot size [mm]')\n",
    "plt.ylabel('average Speed [mm/sec]')\n",
    "plt.xticks(range(7),['0','0.5','1','2','4','8','16'])\n",
    "plt.axhline(0,ls=':',color='gray')\n",
    "sns.despine()"
   ]
  },
  {
   "cell_type": "code",
   "execution_count": null,
   "metadata": {},
   "outputs": [],
   "source": [
    "social=df[idx].groupby(['treatment','episode','animalIndex']).thigmoIndex.mean().reset_index()\n",
    "social['treatName']=treatName[social.treatment.values.astype('int')]\n",
    "ax=sns.swarmplot(data=social,x='episode',hue='treatName',y='thigmoIndex',zorder=1,linewidth=1,edgecolor='gray')\n",
    "#sns.swarmplot(data=dfSIs,x='condition',y='si',zorder=1,linewidth=1,edgecolor='gray',color='white')\n",
    "\n",
    "\n",
    "sns.pointplot(x=\"episode\", y=\"thigmoIndex\", hue='treatName',data=social,ci=None,zorder=100,scale=2)\n",
    "\n",
    "handles, labels = ax.get_legend_handles_labels()\n",
    "ax.legend(handles[:4], labels[:4])\n",
    "plt.xlabel('dot size [mm]')\n",
    "plt.ylabel('thigmotaxis')\n",
    "plt.xticks(range(7),['0','0.5','1','2','4','8','16'])\n",
    "plt.axhline(0,ls=':',color='gray')\n",
    "sns.despine()"
   ]
  },
  {
   "cell_type": "code",
   "execution_count": null,
   "metadata": {},
   "outputs": [],
   "source": [
    "df[idx].groupby(['treatment','animalIndex']).thigmoIndex.mean().reset_index()"
   ]
  },
  {
   "cell_type": "code",
   "execution_count": null,
   "metadata": {},
   "outputs": [],
   "source": [
    "nmatAll=np.array([y.pair.animals[0].ts.neighborMat() for y in expSet.ee])\n",
    "nmatAllC=np.array([y.sPair[0].animals[0].ts.neighborMat() for y in expSet.ee])"
   ]
  },
  {
   "cell_type": "code",
   "execution_count": null,
   "metadata": {},
   "outputs": [],
   "source": [
    "levels=df['episode'].unique()\n",
    "ans=df['animalIndex'].unique()\n",
    "avg=np.zeros((len(ans),len(levels),nmatAll.shape[1],nmatAll.shape[2]))\n",
    "avgC=np.zeros((len(ans),len(levels),nmatAll.shape[1],nmatAll.shape[2]))"
   ]
  },
  {
   "cell_type": "code",
   "execution_count": null,
   "metadata": {},
   "outputs": [],
   "source": [
    "print(levels)\n",
    "print(ans)"
   ]
  },
  {
   "cell_type": "code",
   "execution_count": null,
   "metadata": {},
   "outputs": [],
   "source": [
    "for an in ans:\n",
    "    for i in range(len(levels)):\n",
    "        ix=np.where((df['episode']==levels[i]) & (df['animalIndex']==an) & idx)[0]\n",
    "        avg[an,i,:,:]=nmatAll[ix,:,:].mean(axis=0)\n",
    "        avgC[an,i,:,:]=nmatAllC[ix,:,:].mean(axis=0)\n",
    "        "
   ]
  },
  {
   "cell_type": "code",
   "execution_count": null,
   "metadata": {
    "scrolled": false
   },
   "outputs": [],
   "source": [
    "fig, axes = plt.subplots(nrows=15, ncols=7, sharex='col', sharey=True,figsize=(10, 30))\n",
    "m=np.nanpercentile(avg,95)\n",
    "trLab=treatName\n",
    "for an in ans:\n",
    "    for i in range(len(levels)):\n",
    "        axes[an,i].imshow(avg[an,i,:,:],clim=[0,m],extent=[-31,31,-31,31])\n",
    "        axes[an,i].set_title('a:'+str(an)+trLab[treatment[an]]+ 's:'+levels[i][-2:],fontsize=10)"
   ]
  },
  {
   "cell_type": "code",
   "execution_count": null,
   "metadata": {},
   "outputs": [],
   "source": [
    "levels=df['episode'].unique()\n",
    "treat=[0,1,2,3]\n",
    "avgT=np.zeros((len(treat),len(levels),nmatAll.shape[1],nmatAll.shape[2]))\n",
    "avgTC=np.zeros((len(treat),len(levels),nmatAll.shape[1],nmatAll.shape[2]))"
   ]
  },
  {
   "cell_type": "code",
   "execution_count": null,
   "metadata": {},
   "outputs": [],
   "source": [
    "for an in treat:\n",
    "    for i in range(len(levels)):\n",
    "        ix=np.where((df['episode']==levels[i]) & (df['treatment']==an) & idx)[0]\n",
    "        avgT[an,i,:,:]=nmatAll[ix,:,:].mean(axis=0)\n",
    "        avgTC[an,i,:,:]=nmatAllC[ix,:,:].mean(axis=0)\n",
    "        "
   ]
  },
  {
   "cell_type": "code",
   "execution_count": null,
   "metadata": {},
   "outputs": [],
   "source": [
    "from mpl_toolkits.axes_grid1 import AxesGrid\n",
    "import matplotlib\n",
    "def shiftedColorMap(cmap, start=0, midpoint=0.5, stop=1.0, name='shiftedcmap'):\n",
    "    '''\n",
    "    Function to offset the \"center\" of a colormap. Useful for\n",
    "    data with a negative min and positive max and you want the\n",
    "    middle of the colormap's dynamic range to be at zero\n",
    "\n",
    "    Input\n",
    "    -----\n",
    "      cmap : The matplotlib colormap to be altered\n",
    "      start : Offset from lowest point in the colormap's range.\n",
    "          Defaults to 0.0 (no lower ofset). Should be between\n",
    "          0.0 and `midpoint`.\n",
    "      midpoint : The new center of the colormap. Defaults to \n",
    "          0.5 (no shift). Should be between 0.0 and 1.0. In\n",
    "          general, this should be  1 - vmax/(vmax + abs(vmin))\n",
    "          For example if your data range from -15.0 to +5.0 and\n",
    "          you want the center of the colormap at 0.0, `midpoint`\n",
    "          should be set to  1 - 5/(5 + 15)) or 0.75\n",
    "      stop : Offset from highets point in the colormap's range.\n",
    "          Defaults to 1.0 (no upper ofset). Should be between\n",
    "          `midpoint` and 1.0.\n",
    "    '''\n",
    "    cdict = {\n",
    "        'red': [],\n",
    "        'green': [],\n",
    "        'blue': [],\n",
    "        'alpha': []\n",
    "    }\n",
    "\n",
    "    # regular index to compute the colors\n",
    "    reg_index = np.linspace(start, stop, 257)\n",
    "\n",
    "    # shifted index to match the data\n",
    "    shift_index = np.hstack([\n",
    "        np.linspace(0.0, midpoint, 128, endpoint=False), \n",
    "        np.linspace(midpoint, 1.0, 129, endpoint=True)\n",
    "    ])\n",
    "\n",
    "    for ri, si in zip(reg_index, shift_index):\n",
    "        r, g, b, a = cmap(ri)\n",
    "\n",
    "        cdict['red'].append((si, r, r))\n",
    "        cdict['green'].append((si, g, g))\n",
    "        cdict['blue'].append((si, b, b))\n",
    "        cdict['alpha'].append((si, a, a))\n",
    "\n",
    "    newcmap = matplotlib.colors.LinearSegmentedColormap(name, cdict)\n",
    "    plt.register_cmap(cmap=newcmap)\n",
    "\n",
    "    return newcmap"
   ]
  },
  {
   "cell_type": "code",
   "execution_count": null,
   "metadata": {},
   "outputs": [],
   "source": [
    "import matplotlib.gridspec as gridspec\n",
    "\n",
    "pfp.paper()\n",
    "inToCm=2.54\n",
    "\n",
    "outer = gridspec.GridSpec(2, 2, width_ratios = [5,.1], wspace = 0.05) \n",
    "#make nested gridspecs\n",
    "gs2 = gridspec.GridSpecFromSubplotSpec(4, 7, subplot_spec = outer[0])\n",
    "gs3 = gridspec.GridSpecFromSubplotSpec(1, 1, subplot_spec = outer[1])\n",
    "#gs4 = gridspec.GridSpecFromSubplotSpec(2, 7, subplot_spec = outer[2])\n",
    "\n",
    "fig = plt.figure(figsize=(11/inToCm,11/inToCm))\n",
    "axes = [fig.add_subplot(gs2[i]) for i in range(28)]\n",
    "axesCB=[fig.add_subplot(gs3[i]) for i in range(1)]\n",
    "\n",
    "axesSP=fig.add_subplot(outer[2])\n",
    "\n",
    "m=np.nanpercentile(avgT,99)\n",
    "orig_cmap = matplotlib.cm.bwr\n",
    "cmap=shiftedColorMap(orig_cmap,midpoint=1-(m/(m+1)))\n",
    "trLab=treatName\n",
    "pal=['gray','r','g','m']\n",
    "for an in treat:\n",
    "    for i in range(len(levels)):\n",
    "        ind=i+(7*an)\n",
    "        im = axes[ind].imshow(avgT[an,i,:,:],clim=[0,m],extent=[-31,31,-31,31],origin='lower',cmap=cmap)\n",
    "        axes[ind].tick_params(axis='y', which='both',length=0)\n",
    "        axes[ind].tick_params(axis='x', which='both',length=0)\n",
    "        axes[ind].set_xticks([])\n",
    "        axes[ind].set_yticks([])\n",
    "        axes[ind].spines['top'].set_color('white')\n",
    "        axes[ind].spines['bottom'].set_color('white')\n",
    "        axes[ind].spines['left'].set_color('white')\n",
    "        axes[ind].spines['right'].set_color('white')\n",
    "        #axes[an,i].set_title('a:'+str(an)+trLab[an]+ 's:'+levels[i][-2:],fontsize=10)\n",
    "        #if an==1:\n",
    "            #axes[ind].set_xlabel(int(levels[i][-2:])/2.,fontsize=10)\n",
    "        if i==0:\n",
    "            axes[ind].set_title(trLab[an],fontsize=8,color=pal[an])\n",
    "            \n",
    "        if (i==5)&(an==0):\n",
    "            axes[ind].set_title('neighbor density',fontsize=9)\n",
    "\n",
    "#plt.colorbar(im)\n",
    "cbar=plt.colorbar(im,cax=axesCB[0],ticks=np.round([0,1,m-0.1]))\n",
    "\n",
    "plt.subplots_adjust(wspace=0, hspace=0.1)\n",
    "\n",
    "social=df[idx].groupby(['treatment','episode','animalIndex']).si.mean().reset_index()\n",
    "social['xpretty']=[int(ss[-2:])/2. for ss in social.episode]\n",
    "#treatName=np.array(['CTR+MTZ','C81+MTZ'])\n",
    "social['treatName']=treatName[social.treatment.values.astype('int')]\n",
    "sns.swarmplot(data=social,x='xpretty',hue='treatName',y='si',\n",
    "              zorder=1,linewidth=1,edgecolor='gray',ax=axesSP,palette=pal,alpha=0.7)\n",
    "#sns.swarmplot(data=dfSIs,x='condition',y='si',zorder=1,linewidth=1,edgecolor='gray',color='white')\n",
    "\n",
    "\n",
    "sns.pointplot(x=\"xpretty\", y=\"si\", hue='treatName',data=social,ci=None,zorder=100,scale=2,ax=axesSP,palette=pal,\n",
    "              linewidth=1,edgecolor='gray')\n",
    "axesSP.spines['top'].set_color('white')\n",
    "axesSP.spines['bottom'].set_color('white')\n",
    "#axesSP.spines['left'].set_color('white')\n",
    "axesSP.spines['right'].set_color('white')\n",
    "axesSP.tick_params(axis='x', which='both',length=0)\n",
    "#axes[ind].set_xticks([])\n",
    "#axesSP.set_xticks([])\n",
    "axesSP.yaxis.tick_left()\n",
    "axesSP.set_xlabel('dot diameter [mm]')\n",
    "axesSP.set_ylabel('attraction')\n",
    "handles, labels = axesSP.get_legend_handles_labels()\n",
    "axesSP.legend(handles[:4], labels[:4])\n",
    "#plt.xlabel('dot size [mm]')\n",
    "#plt.ylabel('attraction')\n",
    "#plt.xticks(range(7),['0','0.5','1','2','4','8','16'])\n",
    "axesSP.axhline(0,ls=':',color='k')\n",
    "#sns.despine()\n",
    "\n",
    "#fig.text(0.5, -0.11, 'dot diameter [mm]', ha='center',fontsize=12)\n",
    "\n",
    "#figPath='C:\\\\Users\\\\johannes\\\\Dropbox\\\\00_CurrentManuscript\\\\5_MTZ_mapsAndAttraction.svg'\n",
    "#plt.savefig(figPath)"
   ]
  },
  {
   "cell_type": "code",
   "execution_count": null,
   "metadata": {},
   "outputs": [],
   "source": [
    "pfp.paper()\n",
    "fig, ax = plt.subplots(figsize=(2/inToCm,4.5/inToCm))\n",
    "\n",
    "social=df[idx].groupby(['treatment','animalIndex']).avgSpeed.mean().reset_index()\n",
    "#treatName=np.array(['CTR+MTZ','C81+MTZ'])\n",
    "social['treatName']=treatName[social.treatment.values.astype('int')]\n",
    "sns.boxplot(y=\"avgSpeed\", x='treatName',data=social,ax=ax,palette=pal,linewidth=2)\n",
    "\n",
    "#sns.swarmplot(data=dfSIs,x='condition',y='si',zorder=1,linewidth=1,edgecolor='gray',color='white')\n",
    "\n",
    "# Select which box you want to change    \n",
    "for i,artist in enumerate(ax.artists):\n",
    "# Change the appearance of that box\n",
    "    #mybox.set_linecolor('red')\n",
    "    artist.set_edgecolor('k')\n",
    "    for j in range(i*6,i*6+6):\n",
    "        line = ax.lines[j]\n",
    "        line.set_color('k')\n",
    "        line.set_mfc('k')\n",
    "        line.set_mec('k')\n",
    "\n",
    "sns.swarmplot(data=social,x='treatName',y='avgSpeed',zorder=100,linewidth=1,ax=ax,palette=pal,alpha=0.7,edgecolor='k')\n",
    "\n",
    "plt.xlabel('')\n",
    "plt.xticks([])\n",
    "plt.ylabel('average Speed \\n [mm/sec]')\n",
    "#plt.xticks(range(7),['0','0.5','1','2','4','8','16'])\n",
    "#plt.axhline(0,ls=':',color='gray')\n",
    "#for tick in ax.xaxis.get_major_ticks():\n",
    "#    tick.label.set_rotation(45)\n",
    "plt.ylim([0,7])\n",
    "sns.despine()\n",
    "plt.subplots_adjust(wspace=0, hspace=0)\n",
    "#figPath='C:\\\\Users\\\\johannes\\\\Dropbox\\\\00_CurrentManuscript\\\\5_MTZ_AvgSpeed.svg'\n",
    "#plt.savefig(figPath)"
   ]
  },
  {
   "cell_type": "code",
   "execution_count": null,
   "metadata": {},
   "outputs": [],
   "source": [
    "fig, axes = plt.subplots(nrows=treatNum, ncols=7, sharex=True, sharey=True,figsize=(10,10))\n",
    "m=np.nanpercentile(avg,95)\n",
    "trLab=treatNames\n",
    "for an in treat:\n",
    "    for i in range(len(levels)):\n",
    "        profile=avgT[an,i,:,29:31].mean(axis=1)\n",
    "        axes[an,i].plot(profile,np.arange(profile.shape[0])-30)\n",
    "        axes[an,i].set_title('a:'+str(an)+trLab[an]+ 's:'+levels[i][-2:],fontsize=10)\n",
    "        axes[an,i].axhline(0,ls=':',color='gray')\n",
    "        profile=avgTC[an,i,:,29:31].mean(axis=1)\n",
    "        axes[an,i].plot(profile,np.arange(profile.shape[0])-30,ls=':',color='k')\n",
    "        axes[an,i].axvline(0,color='k',linewidth=1)\n",
    "        axes[an,i].set_ylim([-30,30])"
   ]
  },
  {
   "cell_type": "code",
   "execution_count": null,
   "metadata": {},
   "outputs": [],
   "source": [
    "fig, axes = plt.subplots(nrows=treatNum, ncols=len(levels), sharex='col', sharey=True,figsize=(10, 10))\n",
    "m=np.nanpercentile(avg,95)\n",
    "trLab=treatNames\n",
    "for an in treat:\n",
    "    for i in range(len(levels)):\n",
    "        axes[an,i].plot(avgT[an,i,29:31,:].mean(axis=0))\n",
    "        axes[an,i].set_title('a:'+str(an)+trLab[an]+ 's:'+levels[i][-2:],fontsize=10)\n",
    "        axes[an,i].axvline(30)"
   ]
  },
  {
   "cell_type": "code",
   "execution_count": null,
   "metadata": {},
   "outputs": [],
   "source": []
  }
 ],
 "metadata": {
  "kernelspec": {
   "display_name": "Python 3",
   "language": "python",
   "name": "python3"
  },
  "language_info": {
   "codemirror_mode": {
    "name": "ipython",
    "version": 3
   },
   "file_extension": ".py",
   "mimetype": "text/x-python",
   "name": "python",
   "nbconvert_exporter": "python",
   "pygments_lexer": "ipython3",
   "version": "3.6.5"
  }
 },
 "nbformat": 4,
 "nbformat_minor": 1
}
