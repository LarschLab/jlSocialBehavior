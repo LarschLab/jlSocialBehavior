{
 "cells": [
  {
   "cell_type": "markdown",
   "metadata": {
    "collapsed": true
   },
   "source": [
    "# Summary analysis: Intermittent motion - frequency tuning\n",
    "## effect of social isolation\n"
   ]
  },
  {
   "cell_type": "markdown",
   "metadata": {},
   "source": []
  },
  {
   "cell_type": "code",
   "execution_count": null,
   "metadata": {
    "scrolled": true
   },
   "outputs": [],
   "source": [
    "%config InteractiveShellApp.pylab_import_all = False\n",
    "%matplotlib inline\n",
    "%pylab inline\n",
    "%reload_ext autoreload\n",
    "%autoreload 2\n",
    "\n",
    "import sys\n",
    "import os\n",
    "import fnmatch\n",
    "\n",
    "import numpy as np\n",
    "import math\n",
    "import matplotlib.pyplot as plt\n",
    "import pandas as pd\n",
    "from pandas import DataFrame, Series\n",
    "import seaborn as sns\n",
    "import glob\n",
    "from datetime import datetime\n",
    "\n",
    "if 'startDirMaster' not in locals():\n",
    "    startDirMaster=os.getcwd()\n",
    "\n",
    "propsFn=startDirMaster+'\\\\props.csv'\n",
    "props=pd.read_csv(propsFn, header=None, index_col=0, squeeze=True,delim_whitespace=True).to_dict()\n",
    "\n",
    "base=props['BaseDir']\n",
    "expFile=props['allExpFn']\n",
    "\n",
    "RawDataDir = os.path.join(base,props['RawDataDir'])+'\\\\'\n",
    "ProcessingDir = os.path.join(base,props['ProcessingDir'])+'\\\\Fig2E_isolation\\\\'\n",
    "outputDir = os.path.join(base,props['outputDir'])+'\\\\'\n",
    "\n",
    "if not os.path.isdir(ProcessingDir):\n",
    "    os.makedirs(ProcessingDir)\n",
    "if not os.path.isdir(outputDir):\n",
    "    os.makedirs(outputDir)\n",
    "\n",
    "os.chdir('..\\\\')\n",
    "import functions.matrixUtilities_joh as mu\n",
    "import matplotlib.pyplot as plt\n",
    "import models.experiment as xp\n",
    "import models.experiment_set as es\n",
    "import functions.paperFigureProps as pfp\n",
    "pfp.paper()\n",
    "inToCm=2.54\n"
   ]
  },
  {
   "cell_type": "code",
   "execution_count": null,
   "metadata": {},
   "outputs": [],
   "source": [
    "info=pd.read_csv(expFile, sep=',')#pd.read_csv(expFile,quotechar='\"', sep=',', converters={'bdGroup':ast.literal_eval})\n",
    "info=info[info.stimulusProtocol=='3dIso']\n",
    "info"
   ]
  },
  {
   "cell_type": "code",
   "execution_count": null,
   "metadata": {},
   "outputs": [],
   "source": [
    "condition=np.array([1,0,1,0,1,\n",
    "                   0,1,0,1,0,\n",
    "                   1,0,1,0,1,\n",
    "                   1,0,1,0,1,\n",
    "                   0,1,0,1,0,\n",
    "                   1,0,1,0,1])"
   ]
  },
  {
   "cell_type": "code",
   "execution_count": null,
   "metadata": {},
   "outputs": [],
   "source": [
    "# collect meta information and save to new csv file for batch processing\n",
    "\n",
    "aviPath=[]\n",
    "posPath=[]\n",
    "PLPath=[]\n",
    "expTime = []\n",
    "    \n",
    "for index,row in info.iterrows():\n",
    "    startDir=RawDataDir+row.path+'\\\\'\n",
    "    #startDir='D:\\\\data\\\\b\\\\2017\\\\'+row.path+'\\\\'\n",
    "    #if not os.path.isdir(startDir):\n",
    "    #    startDir='E:\\\\b\\\\2017\\\\'+row.path+'\\\\'\n",
    "        \n",
    "    posPath.append(glob.glob(startDir+'PositionTxt*.txt')[0])\n",
    "    PLPath.append(glob.glob(startDir+'PL*.txt')[0])\n",
    "    \n",
    "    head, tail = os.path.split(posPath[-1])\n",
    "    currTime=datetime.strptime(tail[-23:-4], '%Y-%m-%dT%H_%M_%S')\n",
    "    expTime.append(currTime)\n",
    "    \n",
    "info['txtPath']=posPath\n",
    "info['pairList']=PLPath\n",
    "\n",
    "info['epiDur'] = 5      # duration of individual episodes (default: 5 minutes)\n",
    "info['episodes'] = -1   # number of episodes to process: -1 to load all episodes (default: -1)\n",
    "info['inDish'] = 10#np.arange(len(posPath))*120     # time in dish before experiments started (default: 10)\n",
    "info['arenaDiameter_mm'] = 100 # arena diameter (default: 100 mm)\n",
    "info['minShift'] = 60 # minimum number of seconds to shift for control IAD\n",
    "info['episodePLcode'] = 0 # flag if first two characters of episode name encode animal pair matrix (default: 0)\n",
    "info['recomputeAnimalSize'] = 1 # flag to compute animals size from avi file (takes time, default: 1)\n",
    "info['SaveNeighborhoodMaps'] = 0 # flag to save neighborhood maps for subsequent analysis (takes time, default: 1)\n",
    "info['computeLeadership'] = 0 # flag to compute leadership index (takes time, default: 1)\n",
    "info['ComputeBouts'] = 1 # flag to compute swim bout frequency (takes time, default: 1)\n",
    "info['set'] = np.arange(len(posPath))   # experiment set: can label groups of experiments (default: 0)\n",
    "info['ProcessingDir']=ProcessingDir\n",
    "info['outputDir']=outputDir\n",
    "\n",
    "info['expTime']=expTime\n",
    "\n",
    "csvFile=os.path.join(ProcessingDir,'Fig2_E_isolation.csv')\n",
    "info.to_csv(csvFile,encoding='utf-8')\n",
    "info"
   ]
  },
  {
   "cell_type": "code",
   "execution_count": null,
   "metadata": {},
   "outputs": [],
   "source": [
    "def readExperiment(keepData=False):\n",
    "    tmp=es.experiment_set(csvFile=csvFile)\n",
    "    if keepData:\n",
    "        return tmp\n",
    "    else:\n",
    "        return 1\n",
    "\n",
    "expSet=readExperiment(keepData=True)"
   ]
  },
  {
   "cell_type": "code",
   "execution_count": null,
   "metadata": {},
   "outputs": [],
   "source": [
    "csvPath = []\n",
    "for f in [mu.splitall(x)[-1][:-4] for x in info.txtPath]:\n",
    "    csvPath.append(glob.glob(ProcessingDir+f+'*siSummary*.csv')[0])\n",
    "\n",
    "df=pd.DataFrame()\n",
    "i=0\n",
    "for fn in csvPath:\n",
    "    print(fn)\n",
    "    tmp=pd.read_csv(fn,index_col=0,sep=',')\n",
    "    tmp.animalSet=i\n",
    "    tmp.animalIndex=tmp.animalIndex+((i)*15)\n",
    "    df=pd.concat([df,tmp])\n",
    "    i+=1\n",
    "df['episode']=[x.strip().replace('_','') for x in df['episode']]\n",
    "\n",
    "print('df shape',df.shape)"
   ]
  },
  {
   "cell_type": "code",
   "execution_count": null,
   "metadata": {
    "scrolled": false
   },
   "outputs": [],
   "source": [
    "d=df.time\n",
    "r=datetime(2017,1,1)\n",
    "t2=[pd.to_datetime(x).replace(day=1,month=1)for x in df.time]\n",
    "t3=[(x-r)/pd.Timedelta('1 hour') for x in t2]\n",
    "df['t2']=t2\n",
    "df['t3']=t3\n",
    "df.head()"
   ]
  },
  {
   "cell_type": "markdown",
   "metadata": {},
   "source": [
    "## Habituation or Fatigue within 20 hours?"
   ]
  },
  {
   "cell_type": "markdown",
   "metadata": {},
   "source": [
    "Plot shoaling index during closed loop skype episodes over time."
   ]
  },
  {
   "cell_type": "code",
   "execution_count": null,
   "metadata": {
    "scrolled": false
   },
   "outputs": [],
   "source": [
    "sns.tsplot(data=df, time=\"inDishTime\",value=\"si\",unit=\"animalIndex\",condition=\"episode\",estimator=np.nanmean,interpolate=False,err_style=\"ci_bars\");\n",
    "plt.xlim([0,8*60])"
   ]
  },
  {
   "cell_type": "code",
   "execution_count": null,
   "metadata": {},
   "outputs": [],
   "source": [
    "df['condition']=condition[df.animalIndex]\n",
    "sns.tsplot(data=df[df.episode=='01real'], time=\"inDishTime\",value=\"si\",unit=\"animalIndex\",condition=\"condition\");"
   ]
  },
  {
   "cell_type": "markdown",
   "metadata": {},
   "source": [
    "# Mean response over all stimuli per animal"
   ]
  },
  {
   "cell_type": "code",
   "execution_count": null,
   "metadata": {},
   "outputs": [],
   "source": [
    "sns.set_palette('viridis',30)\n",
    "co=sns.color_palette(\"viridis\", 30)\n",
    "idx=(df['inDishTime']<400) & (df['inDishTime']>45)\n",
    "dfDR=df[idx]\n",
    "dfEpiAn=dfDR.groupby(['episode','animalIndex'],sort=True).mean().reset_index()\n",
    "sns.stripplot(data=dfEpiAn,x='episode',y='si',zorder=-1,hue='animalIndex')\n",
    "sns.pointplot(data=dfEpiAn,x='episode',y='si',hue='animalIndex',zorder=100,scale=0.2,palette=['gray'])\n",
    "sns.pointplot(data=dfEpiAn,x='episode',y='si',join=False,zorder=100)\n",
    "ax=plt.gca()\n",
    "ax.legend_.remove()"
   ]
  },
  {
   "cell_type": "code",
   "execution_count": null,
   "metadata": {},
   "outputs": [],
   "source": []
  },
  {
   "cell_type": "code",
   "execution_count": null,
   "metadata": {},
   "outputs": [],
   "source": [
    "sns.set_palette('viridis',2)\n",
    "co=sns.color_palette(\"viridis\", 2)\n",
    "fig, axes = plt.subplots(figsize=(5, 5))\n",
    "sns.pointplot(data=dfEpiAn,x='episode',y='si',hue='condition',zorder=100,scale=1)\n",
    "sns.despine()\n",
    "\n",
    "axes.set_ylabel('attraction index')\n",
    "axes.axhline(0,ls=':',color='k')\n",
    "axes.set_title('Frequency tuning per age group');\n",
    "plt.legend(title='age')"
   ]
  },
  {
   "cell_type": "code",
   "execution_count": null,
   "metadata": {},
   "outputs": [],
   "source": [
    "xax=np.array([-.5, 1/30., 1./(30./5), 1./(30./10), 1./(30./20), 1./(30./30), 1./(30./40), 1./(30./50)])\n",
    "\n",
    "g_epiAg=dfEpiAn.groupby(['episode','condition'],sort=True)[['si']]\n",
    "var_group=g_epiAg.std().unstack().values.T\n",
    "si_group=g_epiAg.mean().unstack().reset_index()\n",
    "\n",
    "si_group['xax']=xax\n",
    "fig, axes = plt.subplots(figsize=(5, 5))\n",
    "\n",
    "axes=si_group.plot(x='xax',\n",
    "                   y='si',\n",
    "                   kind='line',\n",
    "                   marker='o',\n",
    "                   linestyle=':',\n",
    "                   ax=axes,\n",
    "                   legend=True)\n",
    "\n",
    "axes.set_ylabel('attraction index')\n",
    "plt.xlim([0,xax.max()+xax.max()*0.1])\n",
    "axes.axhline(0,ls=':',color='k')\n",
    "axes.set_title('group frequency tuning');"
   ]
  },
  {
   "cell_type": "code",
   "execution_count": null,
   "metadata": {},
   "outputs": [],
   "source": [
    "col=['gray','k']\n",
    "\n",
    "fig, axes = plt.subplots(figsize=(4.5/inToCm,4.5/inToCm))\n",
    "\n",
    "# plot dots for age groups\n",
    "si_group.plot(kind='line',\n",
    "            marker='o',\n",
    "            ls='',\n",
    "            x='xax',\n",
    "            y='si',\n",
    "            ax=axes,\n",
    "            ms=5,\n",
    "            markeredgecolor='k',\n",
    "            markeredgewidth=1,\n",
    "            legend=True,\n",
    "             color = col)\n",
    "\n",
    "#connect frequency tuning with a line\n",
    "si_group[si_group.xax>0].plot(kind='line',\n",
    "            x='xax',\n",
    "            y='si',\n",
    "            ax=axes,\n",
    "            ms=0,\n",
    "            legend=False,\n",
    "            label='',\n",
    "                             color=col)\n",
    "\n",
    "# draw error bars (+/- 1SD)\n",
    "ii=0\n",
    "for i in [0,1]:\n",
    "    y=si_group.si.iloc[:,i].values\n",
    "    x=xax+(ii-.5)*0.05\n",
    "    \n",
    "    e=var_group[i]\n",
    "    c=col[i]\n",
    "    axes.errorbar(x,y,e,fmt='none',color=c,alpha=0.5)\n",
    "    ii+=1\n",
    "    \n",
    "axes.set_xticks(xax);\n",
    "xls='real %.2f %.1f %.1f %.1f %.1f %.1f %.1f' % tuple(xax[1:])\n",
    "xls=[x.lstrip('0') for x in xls.split()]\n",
    "xls[2]=''\n",
    "xls[5]='1'\n",
    "axes.set_xticklabels(xls,fontsize=8);\n",
    "axes.set_yticks([0,.2,.4]);\n",
    "axes.set_ylim([-.15,.5]);\n",
    "axes.set_xlim([-0.7,2])\n",
    "axes.set_xlabel('Bout interval (sec)')\n",
    "axes.set_title('Isolated animals')\n",
    "axes.set_ylabel('Attraction')\n",
    "fig.subplots_adjust(top=0.75)\n",
    "sns.despine()\n",
    "#plt.legend(loc='upper right')\n",
    "\n",
    "# pretty Legend\n",
    "handles, labels = axes.get_legend_handles_labels()\n",
    "labels=np.array(labels)\n",
    "handles=np.array(handles)\n",
    "li=np.array([0,1])\n",
    "L = plt.legend(handles[li],\n",
    "               labels[li], \n",
    "               bbox_to_anchor=(.6, 1.05), \n",
    "               loc=2, \n",
    "               borderaxespad=0.,\n",
    "               title='Rearing')\n",
    "L.get_texts()[0].set_text('Group')\n",
    "L.get_texts()[1].set_text('Isolated')\n",
    "axes.axhline(0,ls=':',color='gray')\n",
    "\n",
    "figPath=outputDir+'\\\\2Ea_BoutFreq_isolated.svg'\n",
    "plt.savefig(figPath)"
   ]
  },
  {
   "cell_type": "code",
   "execution_count": null,
   "metadata": {},
   "outputs": [],
   "source": []
  },
  {
   "cell_type": "code",
   "execution_count": null,
   "metadata": {},
   "outputs": [],
   "source": [
    "sns.set_palette('viridis',30)\n",
    "co=sns.color_palette(\"viridis\", 30)\n",
    "\n",
    "g_epiAn=dfEpiAn.groupby(['episode','animalIndex'],sort=True)[['si']]\n",
    "si_an=g_epiAn.mean().unstack().reset_index()\n",
    "si_an['xax']=xax\n",
    "\n",
    "fig, axes = plt.subplots(figsize=(3, 3))\n",
    "\n",
    "axes=si_an.plot(x='xax',\n",
    "                   y='si',\n",
    "                   kind='line',\n",
    "                   marker='.',\n",
    "                   yerr=0,\n",
    "                   linestyle=':',\n",
    "                   ax=axes,\n",
    "                   legend=True)\n",
    "\n",
    "axes.set_ylabel('attraction index')\n",
    "plt.xlim([0,xax.max()+xax.max()*0.1])\n",
    "axes.axhline(0,ls=':',color='k')\n",
    "axes.set_title('group frequency tuning');\n",
    "\n",
    "axes.legend_.remove()"
   ]
  },
  {
   "cell_type": "code",
   "execution_count": null,
   "metadata": {},
   "outputs": [],
   "source": []
  },
  {
   "cell_type": "code",
   "execution_count": null,
   "metadata": {},
   "outputs": [],
   "source": [
    "fig, ax = plt.subplots(nrows=2, ncols=15, sharex=True, sharey=True,figsize=(30/inToCm,10/inToCm))\n",
    "ax=ax.ravel()\n",
    "col1=['gray','k']\n",
    "\n",
    "maxPosAllRawMax=[]\n",
    "maxPosAllRawMaxTr=[] \n",
    "ageAll=[]\n",
    "x=xax[1:]\n",
    "\n",
    "for i in range(si_an.si.shape[1]):\n",
    "    y=si_an.si.values[1:,i]\n",
    "    z=np.polyfit(x,y,2)\n",
    "    p = np.poly1d(z)\n",
    "    xp = np.linspace(0, 1.7, 1000)\n",
    "    ax[i].plot(x, y, '.', xp, p(xp), '-')\n",
    "    ax[i].set_ylim([-.20,.6])\n",
    "    ax[i].axis('off')\n",
    "    ax[i].set_title('Animal '+str(i))\n",
    "    putativeMax=x[np.argmax(y)]\n",
    "    maxPosAllRawMax.append(putativeMax) # all animals\n",
    "    if (y.max()>0.05): #only animals above threshold \n",
    "        maxPosAllRawMaxTr.append(putativeMax)\n",
    "        interpolated=np.argmax(p(xp))/(1000/1.7)\n",
    "        ax[i].axvline(interpolated)\n",
    "        ax[i].axvline(maxPosAllRawMaxTr[-1],color='r')\n",
    "    else:\n",
    "        maxPosAllRawMaxTr.append(np.nan)\n",
    "    ageAll.append(df[df.animalIndex==si_an.si.columns[i]].condition.values[0])\n",
    "\n",
    "mpa=pd.DataFrame({'condition':ageAll,'mp':maxPosAllRawMaxTr}) #mpa: max per animal, only animals above threshold\n",
    "maxPosIndMn=mpa.groupby(['condition']).mean().mp\n",
    "maxPosIndSTD=mpa.groupby(['condition']).std().mp\n",
    "print([maxPosIndMn,maxPosIndSTD])\n",
    "\n",
    "mpaAll=pd.DataFrame({'condition':ageAll,'mp':maxPosAllRawMax}) #mpa: max per animal, all animals\n",
    "maxPosIndMnAll=mpaAll.groupby(['condition']).mean().mp\n",
    "maxPosIndSTDAll=mpaAll.groupby(['condition']).std().mp\n",
    "print([maxPosIndMnAll,maxPosIndSTDAll])"
   ]
  },
  {
   "cell_type": "code",
   "execution_count": null,
   "metadata": {},
   "outputs": [],
   "source": [
    "#visualize maxima per over age for individual animals. Note discrete max levels\n",
    "\n",
    "sns.jointplot(mpa.condition,mpa.mp,alpha=0.2)"
   ]
  },
  {
   "cell_type": "code",
   "execution_count": null,
   "metadata": {},
   "outputs": [],
   "source": [
    "\n",
    "mpa.head()"
   ]
  },
  {
   "cell_type": "code",
   "execution_count": null,
   "metadata": {},
   "outputs": [],
   "source": [
    "fig, ax = plt.subplots(sharex=True, sharey=True,figsize=(2/inToCm,4.5/inToCm))\n",
    "col1=['gray','k']\n",
    "\n",
    "\n",
    "sns.swarmplot(data=mpa,x='condition',y='mp',ax=ax,palette=col1,zorder=0,size=2.3)\n",
    "sns.pointplot(data=mpa,x='condition',y='mp',ax=ax,palette=['k'],zorder=100,markers=['_'],scale=3,errwidth=1,capsize=.3)\n",
    "sns.pointplot(data=mpa,x='condition',y='mp',ax=ax,palette=['r'],zorder=100,markers=['_'],scale=3,ci=None)\n",
    "plt.ylabel('Optimal interval (sec)')\n",
    "plt.xlabel('')\n",
    "plt.yticks(np.arange(0,1.8,.4))\n",
    "ax.set_ylim([0,1.6])\n",
    "\n",
    "ax.set_xticklabels(['Group','Isolated'])\n",
    "\n",
    "for tick in ax.xaxis.get_major_ticks():\n",
    "    #tick.label.set_fontsize(12) \n",
    "    tick.label.set_rotation(45)\n",
    "    \n",
    "#plt.xticks([])\n",
    "sns.despine()\n",
    "\n",
    "x1, x2 = 0, 1   # columns\n",
    "l=0.05\n",
    "y, h, col = mpa.mp.max() + l, l, 'k'\n",
    "plt.plot([x1, x1, x2, x2], [y, y+h, y+h, y], lw=1.5, c=col)\n",
    "plt.text((x1+x2)*.5, y+h, \"ns\", ha='center', va='bottom', color=col,size=10)\n",
    "\n",
    "\n",
    "figPath=outputDir+'\\\\2Eb_BoutFreq_isolatedBar.svg'\n",
    "plt.savefig(figPath)"
   ]
  },
  {
   "cell_type": "code",
   "execution_count": null,
   "metadata": {},
   "outputs": [],
   "source": [
    "maxPosIndMn=mpa.groupby(['condition']).mean().mp\n",
    "maxPosIndSTD=mpa.groupby(['condition']).std().mp\n",
    "maxPosIndMn"
   ]
  },
  {
   "cell_type": "code",
   "execution_count": null,
   "metadata": {},
   "outputs": [],
   "source": [
    "forPrism=mpa.copy().sort_values(by=['condition'])\n",
    "forPrism['an']=np.concatenate([np.arange(14),np.arange(16)])\n",
    "forPrism\n",
    "forPrism=forPrism.pivot_table(columns='condition',values='mp',index='an').reset_index()\n",
    "forPrism.to_csv(outputDir+'Fig2E.csv')\n",
    "forPrism"
   ]
  },
  {
   "cell_type": "markdown",
   "metadata": {},
   "source": [
    "# Prism statistical analysis"
   ]
  },
  {
   "cell_type": "markdown",
   "metadata": {},
   "source": [
    "Table Analyzed\tData 1\n",
    "\t\n",
    "Column B\tData Set-B\n",
    "vs.\tvs.\n",
    "Column A\tData Set-A\n",
    "\t\n",
    "Mann Whitney test\t\n",
    "  P value\t0.5463\n",
    "  Exact or approximate P value?\tExact\n",
    "  P value summary\tns\n",
    "  Significantly different (P < 0.05)?\tNo\n",
    "  One- or two-tailed P value?\tTwo-tailed\n",
    "  Sum of  ranks in column A,B\t229.5 , 235.5\n",
    "  Mann-Whitney U\t99.5\n",
    "\t\n",
    "Difference between medians\t\n",
    "  Median of column A\t0.6667, n=14\n",
    "  Median of column B\t0.6667, n=16\n",
    "  Difference: Actual\t0\n",
    "  Difference: Hodges-Lehmann\t0"
   ]
  },
  {
   "cell_type": "markdown",
   "metadata": {},
   "source": [
    "from shutil import copy2\n",
    "\n",
    "def splitall(path):\n",
    "    allparts = []\n",
    "    while 1:\n",
    "        parts = os.path.split(path)\n",
    "        if parts[0] == path:  # sentinel for absolute paths\n",
    "            allparts.insert(0, parts[0])\n",
    "            break\n",
    "        elif parts[1] == path: # sentinel for relative paths\n",
    "            allparts.insert(0, parts[1])\n",
    "            break\n",
    "        else:\n",
    "            path = parts[0]\n",
    "            allparts.insert(0, parts[1])\n",
    "    return allparts\n",
    "\n",
    "\n",
    "\n",
    "for i,row in info.iterrows():\n",
    "    fn=row.txtPath\n",
    "    head, tail = os.path.split(fn)\n",
    "\n",
    "    copyList=[]\n",
    "    copyList.append(glob.glob(head+'\\\\ROI*.csv')[0])\n",
    "    copyList.append(glob.glob(head+'\\\\PositionTxt*.txt')[0])\n",
    "    copyList.append(glob.glob(head+'\\\\PL*.txt')[0])\n",
    "    copyList.append(glob.glob(head+'\\\\*anSize.csv')[0])\n",
    "    \n",
    "    for f in copyList:\n",
    "        print(f)\n",
    "        if f[0]=='E':\n",
    "            keepSlash=3\n",
    "        else:\n",
    "            keepSlash=4\n",
    "        toDirectory = \"e:\\\\b\\\\LarschAndBaier2018\\\\RawData\\\\\" + os.path.join(*splitall(f)[keepSlash:-1])+\"\\\\\"\n",
    "        #toDirectory = \"e:\\\\b\\\\LarschAndBaier2018\\\\RawData\\\\\" \n",
    "        if not os.path.isdir(toDirectory):\n",
    "            os.makedirs(toDirectory)\n",
    "        \n",
    "        copy2(f, toDirectory)\n"
   ]
  },
  {
   "cell_type": "code",
   "execution_count": null,
   "metadata": {},
   "outputs": [],
   "source": []
  }
 ],
 "metadata": {
  "kernelspec": {
   "display_name": "Python 3",
   "language": "python",
   "name": "python3"
  },
  "language_info": {
   "codemirror_mode": {
    "name": "ipython",
    "version": 3
   },
   "file_extension": ".py",
   "mimetype": "text/x-python",
   "name": "python",
   "nbconvert_exporter": "python",
   "pygments_lexer": "ipython3",
   "version": "3.6.5"
  }
 },
 "nbformat": 4,
 "nbformat_minor": 1
}
