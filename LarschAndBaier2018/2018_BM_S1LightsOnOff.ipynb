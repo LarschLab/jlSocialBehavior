{
 "cells": [
  {
   "cell_type": "markdown",
   "metadata": {
    "collapsed": true
   },
   "source": [
    "# Summary analysis: Skype vs fixed trajectory\n",
    "## 4 experiments, 2 animals each responding to black disc moving on various paths"
   ]
  },
  {
   "cell_type": "code",
   "execution_count": null,
   "metadata": {
    "scrolled": true
   },
   "outputs": [],
   "source": [
    "%config InteractiveShellApp.pylab_import_all = False\n",
    "%matplotlib inline\n",
    "%pylab inline\n",
    "%reload_ext autoreload\n",
    "%autoreload 2\n",
    "\n",
    "import sys\n",
    "import os\n",
    "import fnmatch\n",
    "\n",
    "import numpy as np\n",
    "import math\n",
    "import matplotlib.pyplot as plt\n",
    "import pandas as pd\n",
    "from pandas import DataFrame, Series\n",
    "import seaborn as sns\n",
    "import glob\n",
    "from datetime import datetime\n",
    "\n",
    "propsFn='props.csv'\n",
    "props=pd.read_csv(propsFn, header=None, index_col=0, squeeze=True,delim_whitespace=True).to_dict()\n",
    "\n",
    "base=props['BaseDir']\n",
    "expFile=props['allExpFn']\n",
    "\n",
    "RawDataDir = os.path.join(base,props['RawDataDir'])+'\\\\'\n",
    "ProcessingDir = os.path.join(base,props['ProcessingDir'])+'\\\\FigS1\\\\'\n",
    "outputDir = os.path.join(base,props['outputDir'])+'\\\\'\n",
    "\n",
    "if not os.path.isdir(ProcessingDir):\n",
    "    os.makedirs(ProcessingDir)\n",
    "if not os.path.isdir(outputDir):\n",
    "    os.makedirs(outputDir)\n",
    "\n",
    "os.chdir('..\\\\')\n",
    "\n",
    "import functions.matrixUtilities_joh as mu\n",
    "import matplotlib.pyplot as plt\n",
    "import models.experiment as xp\n",
    "import models.experiment_set as es\n",
    "import functions.paperFigureProps as pfp\n",
    "pfp.paper()\n",
    "inToCm=2.54\n"
   ]
  },
  {
   "cell_type": "code",
   "execution_count": null,
   "metadata": {},
   "outputs": [],
   "source": [
    "info=pd.read_csv(expFile, sep=',')#pd.read_csv(expFile,quotechar='\"', sep=',', converters={'bdGroup':ast.literal_eval})\n",
    "info=info[info.stimulusProtocol=='LightOnOff']\n",
    "info"
   ]
  },
  {
   "cell_type": "code",
   "execution_count": null,
   "metadata": {
    "scrolled": true
   },
   "outputs": [],
   "source": [
    "posPath = []\n",
    "aviPath=[]\n",
    "bdGroupAll=[]\n",
    "bgAll=[]\n",
    "expTimeAll=[]\n",
    "\n",
    "for index,row in info.iterrows():\n",
    "    currTime=datetime.strptime(row.date, '%Y%m%d%H%M%S')\n",
    "    DishDir=RawDataDir+row.path\n",
    "    #DishDir='D:\\\\data\\\\b\\\\2016\\\\'+row.path\n",
    "    \n",
    "\n",
    "    for root, dirnames, filenames in os.walk(DishDir):\n",
    "        for filename in fnmatch.filter(filenames, '*nogaps*.txt'):\n",
    "            posPath.append(os.path.join(root, filename))\n",
    "            bdGroupAll.append('0 0')\n",
    "            bgAll.append(row.bd)\n",
    "            #currTime=datetime.strptime(filename[-23:-4], '%Y-%m-%dT%H_%M_%S')\n",
    "            expTimeAll.append(currTime)\n",
    "        for filename in fnmatch.filter(filenames, '*split*.avi'):\n",
    "            aviPath.append(os.path.join(root, filename))\n",
    "\n",
    "\n",
    "infoPAll=pd.DataFrame({'txtPath': posPath})\n",
    "infoPAll['epiDur']=75\n",
    "infoPAll['bd']=bgAll\n",
    "infoPAll['bdGroup']=bdGroupAll\n",
    "infoPAll['episodes']=-1\n",
    "infoPAll['inDish']=10\n",
    "#info['stimulusProtocol']=8\n",
    "infoPAll['arenaDiameter_mm'] = 100 # arena diameter (default: 100 mm)\n",
    "infoPAll['minShift'] = 60 # minimum number of seconds to shift for control IAD\n",
    "infoPAll['episodePLcode'] = 0 # flag if first two characters of episode name encode animal pair matrix (default: 0)\n",
    "infoPAll['recomputeAnimalSize'] = 0 # flag to compute animals size from avi file (takes time, default: 1)\n",
    "infoPAll['SaveNeighborhoodMaps'] = 0 # flag to save neighborhood maps for subsequent analysis (takes time, default: 1)\n",
    "infoPAll['computeLeadership'] = 0 # flag to compute leadership index (takes time, default: 1)\n",
    "infoPAll['ComputeBouts'] = 0 # flag to compute swim bout frequency (takes time, default: 1)\n",
    "infoPAll['set'] = np.arange(len(posPath))   # experiment set: can label groups of experiments (default: 0)\n",
    "infoPAll['expTime']=expTimeAll\n",
    "infoPAll['pxPmm']=8\n",
    "infoPAll['ProcessingDir']=ProcessingDir\n",
    "infoPAll['outputDir']=outputDir\n",
    "infoPAll['allowEpisodeSwitch']=1\n",
    "\n",
    "\n",
    "\n",
    "csvFile=os.path.join(ProcessingDir,'FigS1.csv')\n",
    "infoPAll.to_csv(csvFile,encoding='utf-8')\n",
    "\n",
    "infoPAll"
   ]
  },
  {
   "cell_type": "markdown",
   "metadata": {},
   "source": [
    "Pre-Analyze all experiments only if necessary, this takes a couple of minutes! Experiment summary csv files are saved to disk."
   ]
  },
  {
   "cell_type": "code",
   "execution_count": null,
   "metadata": {
    "scrolled": true
   },
   "outputs": [],
   "source": [
    "def readExperiment(keepData=False):\n",
    "    tmp=es.experiment_set(csvFile=csvFile)\n",
    "    if keepData:\n",
    "        return tmp\n",
    "    else:\n",
    "        return 1\n",
    "\n",
    "expSet=readExperiment(keepData=True)"
   ]
  },
  {
   "cell_type": "code",
   "execution_count": null,
   "metadata": {},
   "outputs": [],
   "source": [
    "csvPath = []\n",
    "for f in [mu.splitall(x)[-1][:-4] for x in infoPAll.txtPath]:\n",
    "    csvPath.append(glob.glob(ProcessingDir+f+'*siSummary*.csv')[0])\n",
    "\n",
    "\n",
    "df=pd.DataFrame()\n",
    "i=0\n",
    "for fn in csvPath:\n",
    "    print(fn)\n",
    "    tmp=pd.read_csv(fn,index_col=0,sep=',')\n",
    "    tmp.animalSet=i\n",
    "    tmp['animalIndexCont']=tmp.animalIndex+((i)*15)\n",
    "    df=pd.concat([df,tmp])\n",
    "    i+=1\n",
    "\n",
    "df=df[df['animalIndex'].isin(np.arange(0,14,2))]\n",
    "df['episode']='skype'\n",
    "print('df shape',df.shape)\n",
    "\n",
    "d=df.time\n",
    "r=datetime(2016,1,1)\n",
    "t2=[pd.to_datetime(x).replace(day=1,month=1)for x in df.time]\n",
    "\n",
    "t3=[(x-r)/pd.Timedelta('1 hour') for x in t2]\n",
    "df['t2']=t2\n",
    "df['t3']=t3\n",
    "df.head()"
   ]
  },
  {
   "cell_type": "code",
   "execution_count": null,
   "metadata": {},
   "outputs": [],
   "source": [
    "expSet.experiments[0].pair[0].IAD"
   ]
  },
  {
   "cell_type": "code",
   "execution_count": null,
   "metadata": {},
   "outputs": [],
   "source": [
    "tmp=[x.pair[0].IAD() for x in expSet.experiments]"
   ]
  },
  {
   "cell_type": "code",
   "execution_count": null,
   "metadata": {},
   "outputs": [],
   "source": [
    "minLen=np.min([t.shape for t in tmp])\n",
    "iadAll=np.array([t[:minLen] for t in tmp])\n",
    "iadAll.shape"
   ]
  },
  {
   "cell_type": "code",
   "execution_count": null,
   "metadata": {},
   "outputs": [],
   "source": [
    "spIAD=np.mean([x.pair[0].spIAD_m() for x in expSet.experiments])\n"
   ]
  },
  {
   "cell_type": "code",
   "execution_count": null,
   "metadata": {},
   "outputs": [],
   "source": [
    "iadAllm=iadAll.mean(axis=0)\n",
    "iadAllms=mu.smooth(iadAll.T,window_len=30,window='hamming').T"
   ]
  },
  {
   "cell_type": "code",
   "execution_count": null,
   "metadata": {},
   "outputs": [],
   "source": [
    "iadPlot=iadAll[:,::30*10]\n",
    "time=np.arange(iadPlot.shape[1])/60.*10"
   ]
  },
  {
   "cell_type": "code",
   "execution_count": null,
   "metadata": {},
   "outputs": [],
   "source": [
    "pfp.paper()\n",
    "inToCm=2.54\n",
    "fig, ax = plt.subplots(sharex=True, sharey=True,figsize=(9/inToCm,4.5/inToCm))\n",
    "\n",
    "#plt.plot(time,iadPlot.mean(axis=0),'k')\n",
    "sns.tsplot(iadPlot,time=time,color=['k'])\n",
    "\n",
    "plt.axhline(spIAD,ls=':',color='gray')\n",
    "\n",
    "plt.vlines(range(10,80,10),0,89,linestyles='dashed',color=['k','gray'])\n",
    "\n",
    "lights=np.zeros(time.shape)\n",
    "lights[np.remainder(time,20)>10]=-10\n",
    "lights[-1]=-10\n",
    "plt.plot(time,lights+99,'k')\n",
    "plt.text(0,103,'Light on/off')\n",
    "plt.xlim([0,80])\n",
    "plt.ylim([0,100])\n",
    "plt.xlabel('Time (minutes)')\n",
    "plt.ylabel('Inter animal \\n distance (mm)')\n",
    "sns.despine()\n",
    "\n",
    "figPath=outputDir+'\\\\S1a_LightsOnOff.svg'\n",
    "plt.savefig(figPath)"
   ]
  },
  {
   "cell_type": "markdown",
   "metadata": {},
   "source": [
    "from shutil import copy2\n",
    "\n",
    "def splitall(path):\n",
    "    allparts = []\n",
    "    while 1:\n",
    "        parts = os.path.split(path)\n",
    "        if parts[0] == path:  # sentinel for absolute paths\n",
    "            allparts.insert(0, parts[0])\n",
    "            break\n",
    "        elif parts[1] == path: # sentinel for relative paths\n",
    "            allparts.insert(0, parts[1])\n",
    "            break\n",
    "        else:\n",
    "            path = parts[0]\n",
    "            allparts.insert(0, parts[1])\n",
    "    return allparts\n",
    "\n",
    "\n",
    "for i,row in infoPAll.iterrows():\n",
    "    fn=row.txtPath\n",
    "    head, tail = os.path.split(fn)\n",
    "\n",
    "    copyList=[]\n",
    "    \n",
    "    copyList.append(glob.glob(head+'\\\\*nogaps.txt')[0])\n",
    "    copyList.append(glob.glob(head+'\\\\*animalSize.txt')[0])\n",
    "    #aviTime=glob.glob(head+'\\\\*.avi')[0][-18:-4]\n",
    "    aviTime=row.expTime#datetime.strptime(aviTime,'%Y%m%d%H%M%S')\n",
    "\n",
    "\n",
    "    for f in copyList:\n",
    "        print(f)\n",
    "        if f[0]=='E':\n",
    "            keepSlash=3\n",
    "        else:\n",
    "            keepSlash=4\n",
    "        toDirectory = \"e:\\\\b\\\\LarschAndBaier2018\\\\RawData\\\\\" + os.path.join(*splitall(f)[keepSlash:-1])+\"\\\\\"\n",
    "        #toDirectory = \"e:\\\\b\\\\LarschAndBaier2018\\\\RawData\\\\\" \n",
    "        if not os.path.isdir(toDirectory):\n",
    "            os.makedirs(toDirectory)\n",
    "        \n",
    "        copy2(f, toDirectory)\n",
    "        #os.chdir(toDirectory)\n",
    "        if 'nogaps.txt' in f:\n",
    "            \n",
    "            old=glob.glob(toDirectory+'\\\\*nogaps.txt')[0]\n",
    "            #t=datetime.strftime(row.expTime, '%Y-%m-%dT%H_%M_%S')\n",
    "            t=datetime.strftime(aviTime, '%Y-%m-%dT%H_%M_%S')\n",
    "            #t=aviTime#, '%Y%m%d%H%M%S'\n",
    "            new=old[:-4]+str(i).zfill(2)+\"_\"+t+'.txt'\n",
    "            os.rename(old,new)\n",
    "            print(new)"
   ]
  },
  {
   "cell_type": "code",
   "execution_count": null,
   "metadata": {},
   "outputs": [],
   "source": []
  }
 ],
 "metadata": {
  "kernelspec": {
   "display_name": "Python 3",
   "language": "python",
   "name": "python3"
  },
  "language_info": {
   "codemirror_mode": {
    "name": "ipython",
    "version": 3
   },
   "file_extension": ".py",
   "mimetype": "text/x-python",
   "name": "python",
   "nbconvert_exporter": "python",
   "pygments_lexer": "ipython3",
   "version": "3.6.5"
  }
 },
 "nbformat": 4,
 "nbformat_minor": 1
}
