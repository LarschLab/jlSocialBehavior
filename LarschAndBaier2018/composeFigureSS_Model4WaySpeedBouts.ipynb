{
 "cells": [
  {
   "cell_type": "code",
   "execution_count": 2,
   "metadata": {},
   "outputs": [],
   "source": [
    "import svgutils.transform as sg\n"
   ]
  },
  {
   "cell_type": "code",
   "execution_count": 27,
   "metadata": {},
   "outputs": [],
   "source": [
    "f5='C:\\\\Users\\\\johannes\\\\Dropbox\\\\00_CurrentManuscript\\\\SS_Model_QuartetSpeedBout1.svg'\n",
    "f2='C:\\\\Users\\\\johannes\\\\Dropbox\\\\00_CurrentManuscript\\\\SS_Model_QuartetSpeedBout2.svg'\n",
    "f3='C:\\\\Users\\\\johannes\\\\Dropbox\\\\00_CurrentManuscript\\\\SS_Model_QuartetSpeedBout3.svg'\n",
    "f4='C:\\\\Users\\\\johannes\\\\Dropbox\\\\00_CurrentManuscript\\\\SS_Model_QuartetSpeedBout4.svg'\n",
    "f1='C:\\\\Users\\\\johannes\\\\Dropbox\\\\00_CurrentManuscript\\\\SS_Model_QuartetExplicitPreference.svg'"
   ]
  },
  {
   "cell_type": "code",
   "execution_count": 29,
   "metadata": {},
   "outputs": [],
   "source": [
    "from svgutils.compose import *\n",
    "fo3='C:\\\\Users\\\\johannes\\\\Dropbox\\\\00_CurrentManuscript\\\\FigureSS_model4WaySpeedBouts.svg'\n",
    "Figure(\"15cm\", \"22cm\", \n",
    "        \n",
    "        Panel(\n",
    "              SVG(f1).move(10, 0),\n",
    "              Text(\"A\", 0, 0, size=12, weight='bold')\n",
    "             ).move(0, 10),\n",
    "        Panel(\n",
    "              SVG(f2).move(10, 0),\n",
    "              Text(\"B\", 0, 0, size=12, weight='bold')\n",
    "             ).move(280, 10),\n",
    "       Panel(\n",
    "              SVG(f3).move(10, 0),\n",
    "              Text(\"C\", 0, 0, size=12, weight='bold')\n",
    "             ).move(0, 290),\n",
    "       Panel(\n",
    "              SVG(f4).move(10, 0),\n",
    "              Text(\"D\", 0, 0, size=12, weight='bold')\n",
    "             ).move(280, 290),\n",
    "        Panel(\n",
    "              SVG(f5).move(10, 0),\n",
    "              Text(\"E\", 0, 0, size=12, weight='bold')\n",
    "             ).move(0, 570)\n",
    "      ).save(fo3)"
   ]
  },
  {
   "cell_type": "code",
   "execution_count": null,
   "metadata": {},
   "outputs": [],
   "source": []
  },
  {
   "cell_type": "code",
   "execution_count": null,
   "metadata": {},
   "outputs": [],
   "source": []
  }
 ],
 "metadata": {
  "kernelspec": {
   "display_name": "Python 2",
   "language": "python",
   "name": "python2"
  },
  "language_info": {
   "codemirror_mode": {
    "name": "ipython",
    "version": 2
   },
   "file_extension": ".py",
   "mimetype": "text/x-python",
   "name": "python",
   "nbconvert_exporter": "python",
   "pygments_lexer": "ipython2",
   "version": "2.7.13"
  }
 },
 "nbformat": 4,
 "nbformat_minor": 1
}
