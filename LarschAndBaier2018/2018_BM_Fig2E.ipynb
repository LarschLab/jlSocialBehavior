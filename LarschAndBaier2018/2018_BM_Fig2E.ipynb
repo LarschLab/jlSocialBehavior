{
 "cells": [
  {
   "cell_type": "markdown",
   "metadata": {
    "collapsed": true
   },
   "source": [
    "# Summary analysis: Intermittent motion - frequency tuning\n",
    "## effect of social isolation\n"
   ]
  },
  {
   "cell_type": "markdown",
   "metadata": {},
   "source": []
  },
  {
   "cell_type": "code",
   "execution_count": null,
   "metadata": {
    "scrolled": true
   },
   "outputs": [],
   "source": [
    "%config InteractiveShellApp.pylab_import_all = False\n",
    "%matplotlib inline\n",
    "%pylab inline\n",
    "%reload_ext autoreload\n",
    "%autoreload 2\n",
    "\n",
    "import sys\n",
    "import os\n",
    "import fnmatch\n",
    "\n",
    "import numpy as np\n",
    "import math\n",
    "import matplotlib.pyplot as plt\n",
    "import pandas as pd\n",
    "from pandas import DataFrame, Series\n",
    "import seaborn as sns\n",
    "import glob\n",
    "from datetime import datetime\n",
    "\n",
    "propsFn='props.csv'\n",
    "props=pd.read_csv(propsFn, header=None, index_col=0, squeeze=True,delim_whitespace=True).to_dict()\n",
    "\n",
    "base=props['BaseDir']\n",
    "expFile=props['allExpFn']\n",
    "\n",
    "RawDataDir = os.path.join(base,props['RawDataDir'])+'\\\\'\n",
    "ProcessingDir = os.path.join(base,props['ProcessingDir'])+'\\\\Fig2E_isolation\\\\'\n",
    "outputDir = os.path.join(base,props['outputDir'])+'\\\\'\n",
    "\n",
    "if not os.path.isdir(ProcessingDir):\n",
    "    os.makedirs(ProcessingDir)\n",
    "if not os.path.isdir(outputDir):\n",
    "    os.makedirs(outputDir)\n",
    "\n",
    "os.chdir('..\\\\')\n",
    "import functions.matrixUtilities_joh as mu\n",
    "import matplotlib.pyplot as plt\n",
    "import models.experiment as xp\n",
    "import models.experiment_set as es\n",
    "import functions.paperFigureProps as pfp\n",
    "pfp.paper()\n",
    "inToCm=2.54\n"
   ]
  },
  {
   "cell_type": "code",
   "execution_count": null,
   "metadata": {},
   "outputs": [],
   "source": [
    "info=pd.read_csv(expFile, sep=',')#pd.read_csv(expFile,quotechar='\"', sep=',', converters={'bdGroup':ast.literal_eval})\n",
    "info=info[info.stimulusProtocol=='3dIso']\n",
    "info"
   ]
  },
  {
   "cell_type": "code",
   "execution_count": null,
   "metadata": {},
   "outputs": [],
   "source": [
    "condition=np.array([1,0,1,0,1,\n",
    "                   0,1,0,1,0,\n",
    "                   1,0,1,0,1,\n",
    "                   1,0,1,0,1,\n",
    "                   0,1,0,1,0,\n",
    "                   1,0,1,0,1])"
   ]
  },
  {
   "cell_type": "code",
   "execution_count": null,
   "metadata": {},
   "outputs": [],
   "source": [
    "# collect meta information and save to new csv file for batch processing\n",
    "\n",
    "aviPath=[]\n",
    "posPath=[]\n",
    "PLPath=[]\n",
    "expTime = []\n",
    "    \n",
    "for index,row in info.iterrows():\n",
    "    startDir=RawDataDir+row.path+'\\\\'\n",
    "    #startDir='D:\\\\data\\\\b\\\\2017\\\\'+row.path+'\\\\'\n",
    "    #if not os.path.isdir(startDir):\n",
    "    #    startDir='E:\\\\b\\\\2017\\\\'+row.path+'\\\\'\n",
    "        \n",
    "    posPath.append(glob.glob(startDir+'PositionTxt*.txt')[0])\n",
    "    PLPath.append(glob.glob(startDir+'PL*.txt')[0])\n",
    "    \n",
    "    head, tail = os.path.split(posPath[-1])\n",
    "    currTime=datetime.strptime(tail[-23:-4], '%Y-%m-%dT%H_%M_%S')\n",
    "    expTime.append(currTime)\n",
    "    \n",
    "info['txtPath']=posPath\n",
    "info['pairList']=PLPath\n",
    "\n",
    "info['epiDur'] = 5      # duration of individual episodes (default: 5 minutes)\n",
    "info['episodes'] = -1   # number of episodes to process: -1 to load all episodes (default: -1)\n",
    "info['inDish'] = 10#np.arange(len(posPath))*120     # time in dish before experiments started (default: 10)\n",
    "info['arenaDiameter_mm'] = 100 # arena diameter (default: 100 mm)\n",
    "info['minShift'] = 60 # minimum number of seconds to shift for control IAD\n",
    "info['episodePLcode'] = 0 # flag if first two characters of episode name encode animal pair matrix (default: 0)\n",
    "info['recomputeAnimalSize'] = 1 # flag to compute animals size from avi file (takes time, default: 1)\n",
    "info['SaveNeighborhoodMaps'] = 0 # flag to save neighborhood maps for subsequent analysis (takes time, default: 1)\n",
    "info['computeLeadership'] = 0 # flag to compute leadership index (takes time, default: 1)\n",
    "info['ComputeBouts'] = 1 # flag to compute swim bout frequency (takes time, default: 1)\n",
    "info['set'] = np.arange(len(posPath))   # experiment set: can label groups of experiments (default: 0)\n",
    "info['ProcessingDir']=ProcessingDir\n",
    "info['outputDir']=outputDir\n",
    "\n",
    "info['expTime']=expTime\n",
    "\n",
    "csvFile=os.path.join(ProcessingDir,'Fig2_E_isolation.csv')\n",
    "info.to_csv(csvFile,encoding='utf-8')\n",
    "info"
   ]
  },
  {
   "cell_type": "code",
   "execution_count": null,
   "metadata": {},
   "outputs": [],
   "source": [
    "def readExperiment(keepData=False):\n",
    "    tmp=es.experiment_set(csvFile=csvFile)\n",
    "    if keepData:\n",
    "        return tmp\n",
    "    else:\n",
    "        return 1\n",
    "\n",
    "expSet=readExperiment(keepData=True)"
   ]
  },
  {
   "cell_type": "code",
   "execution_count": null,
   "metadata": {},
   "outputs": [],
   "source": [
    "csvPath = []\n",
    "for f in [mu.splitall(x)[-1][:-4] for x in info.txtPath]:\n",
    "    csvPath.append(glob.glob(ProcessingDir+f+'*siSummary*.csv')[0])\n",
    "\n",
    "df=pd.DataFrame()\n",
    "i=0\n",
    "for fn in csvPath:\n",
    "    print(fn)\n",
    "    tmp=pd.read_csv(fn,index_col=0,sep=',')\n",
    "    tmp.animalSet=i\n",
    "    tmp.animalIndex=tmp.animalIndex+((i)*15)\n",
    "    df=pd.concat([df,tmp])\n",
    "    i+=1\n",
    "df['episode']=[x.strip().replace('_','') for x in df['episode']]\n",
    "\n",
    "print('df shape',df.shape)"
   ]
  },
  {
   "cell_type": "code",
   "execution_count": null,
   "metadata": {
    "scrolled": false
   },
   "outputs": [],
   "source": [
    "d=df.time\n",
    "r=datetime(2017,1,1)\n",
    "t2=[pd.to_datetime(x).replace(day=1,month=1)for x in df.time]\n",
    "t3=[(x-r)/pd.Timedelta('1 hour') for x in t2]\n",
    "df['t2']=t2\n",
    "df['t3']=t3\n",
    "df.head()"
   ]
  },
  {
   "cell_type": "markdown",
   "metadata": {},
   "source": [
    "## Habituation or Fatigue within 20 hours?"
   ]
  },
  {
   "cell_type": "markdown",
   "metadata": {},
   "source": [
    "Plot shoaling index during closed loop skype episodes over time."
   ]
  },
  {
   "cell_type": "code",
   "execution_count": null,
   "metadata": {
    "scrolled": false
   },
   "outputs": [],
   "source": [
    "sns.tsplot(data=df, time=\"inDishTime\",value=\"si\",unit=\"animalIndex\",condition=\"episode\",estimator=np.nanmean,interpolate=False,err_style=\"ci_bars\");\n",
    "plt.xlim([0,8*60])"
   ]
  },
  {
   "cell_type": "code",
   "execution_count": null,
   "metadata": {},
   "outputs": [],
   "source": [
    "df['condition']=condition[df.animalIndex]\n",
    "sns.tsplot(data=df[df.episode=='01real'], time=\"inDishTime\",value=\"si\",unit=\"animalIndex\",condition=\"condition\");"
   ]
  },
  {
   "cell_type": "code",
   "execution_count": null,
   "metadata": {
    "scrolled": false
   },
   "outputs": [],
   "source": [
    "idx=(df['inDishTime']<350) & (df['inDishTime']>45)\n",
    "episodeNames=df['episode'].unique()\n",
    "dfDR=df[idx]\n",
    "tmp=dfDR.groupby(['episode','animalIndex'],sort=True)[['si']]\n",
    "xax=np.arange(episodeNames.shape[0])\n",
    "\n",
    "\n",
    "fig, axes = plt.subplots(figsize=(10, 7))\n",
    "tmp=tmp.mean().unstack()\n",
    "tmp['xax']=xax\n",
    "\n",
    "axes=tmp.plot(x='xax',kind='line',marker='o',\n",
    "                                  linestyle=':',ax=axes,legend=False)\n",
    "\n",
    "dfSkype=df[idx]\n",
    "dfSkype=dfSkype[dfSkype['episode']==episodeNames[-1]]\n",
    "mn=dfSkype.si.mean()\n",
    "er=dfSkype.si.std()\n",
    "\n",
    "\n",
    "\n",
    "\n",
    "axes.set_ylabel('attraction index')\n",
    "plt.xlim([0,xax.max()+xax.max()*0.1])\n",
    "axes.axhline(0,ls=':',color='k')\n",
    "axes.set_title('Individual Pair Disc Size Tuning, Night vs. Day, n=8 pairs');\n"
   ]
  },
  {
   "cell_type": "code",
   "execution_count": null,
   "metadata": {},
   "outputs": [],
   "source": [
    "idx=(df['inDishTime']<350) & (df['inDishTime']>0)\n",
    "episodeNames=df['episode'].unique()\n",
    "dfDR=df[idx]\n",
    "tmp=dfDR.groupby(['episode','condition'],sort=True)[['si']]\n",
    "xax=np.arange(episodeNames.shape[0])\n",
    "\n",
    "err=tmp.std().unstack().values.T\n",
    "mndf=tmp.mean().unstack().reset_index()\n",
    "mndf['xax']=xax\n",
    "fig, axes = plt.subplots(figsize=(10, 7))\n",
    "\n",
    "\n",
    "\n",
    "\n",
    "\n",
    "axes=mndf.plot(x='xax',y='si',kind='line',marker='o',yerr=0,\n",
    "                                  linestyle=':',ax=axes,legend=True)\n",
    "\n",
    "\n",
    "dfSkype=df[idx]\n",
    "dfSkype=dfSkype[dfSkype['episode']==episodeNames[-1]]\n",
    "mn=dfSkype.si.mean()\n",
    "er=dfSkype.si.std()\n",
    "\n",
    "\n",
    "\n",
    "\n",
    "axes.set_ylabel('attraction index')\n",
    "plt.xlim([0,xax.max()+xax.max()*0.1])\n",
    "axes.axhline(0,ls=':',color='k')\n",
    "axes.set_title('Individual Pair Disc Size Tuning, Night vs. Day, n=8 pairs');\n"
   ]
  },
  {
   "cell_type": "code",
   "execution_count": null,
   "metadata": {},
   "outputs": [],
   "source": [
    "\n",
    "\n",
    "col=['gray','k']\n",
    "sns.set_palette(col)\n",
    "leg=['group','isolated']\n",
    "inToCm=2.54\n",
    "\n",
    "#fig, axes = plt.subplots(nrows=1, ncols=2, sharex=True, sharey=True,figsize=(9/inToCm,4.5/inToCm))\n",
    "\n",
    "fig, axes = plt.subplots(sharex=True, sharey=True,figsize=(4.5/inToCm,4.5/inToCm))\n",
    "\n",
    "\n",
    "mean=mndf.values[:,1:-1]\n",
    "sd=err.T[:,:]\n",
    "xax=np.array([-.5, 1/30., 1./(30./5), 1./(30./10), 1./(30./20), 1./(30./30), 1./(30./40), 1./(30./50)])\n",
    "\n",
    "\n",
    "axes.axhline(0,ls=':',color='gray')\n",
    "axes.plot(xax[1:],mean[1:])\n",
    "dfx=pd.DataFrame(mean,columns=df.age.unique()[::-1])\n",
    "dfx.columns=leg\n",
    "dfx['xax']=xax\n",
    "ax=dfx.plot(kind='line',marker='o',ls='',x='xax',\n",
    "                 ax=axes,color=col,ms=5,\n",
    "                 markeredgecolor='k',markeredgewidth=1)#,legend=True,label=leg)\n",
    "\n",
    "\n",
    "axes.set_xticks(xax);\n",
    "xls='real %.2f %.1f %.1f %.1f %.1f %.1f %.1f' % tuple(xax[1:])\n",
    "xls=[x.lstrip('0') for x in xls.split()]\n",
    "xls[2]=''\n",
    "xls[5]='1'\n",
    "axes.set_xticklabels(xls,fontsize=8);\n",
    "axes.set_yticks([0,.2,.4]);\n",
    "axes.set_ylim([-.05,.45]);\n",
    "axes.set_xlim([-0.7,2])\n",
    "axes.set_xlabel('Bout interval (sec)')\n",
    "axes.set_title('Isolated animals')\n",
    "axes.set_ylabel('Attraction')\n",
    "axes.axvline(xax[4],ls='dashed',color='red')\n",
    "fig.subplots_adjust(top=0.75)\n",
    "sns.despine()\n",
    "#plt.legend(loc='upper right')\n",
    "plt.legend(bbox_to_anchor=(.6, 1), loc=2, borderaxespad=0.,title='Rearing')\n",
    "figPath=outputDir+'\\\\2Ea_BoutFreq_isolated.svg'\n",
    "plt.savefig(figPath)"
   ]
  },
  {
   "cell_type": "code",
   "execution_count": null,
   "metadata": {},
   "outputs": [],
   "source": [
    "dfx"
   ]
  },
  {
   "cell_type": "code",
   "execution_count": null,
   "metadata": {},
   "outputs": [],
   "source": [
    "inToCm=2.54\n",
    "\n",
    "\n",
    "fig, axes = plt.subplots(sharex=True, sharey=True,figsize=(4.5/inToCm,4.5/inToCm))\n",
    "\n",
    "\n",
    "co=sns.color_palette(\"Dark2\", 8)\n",
    "mean=mndf.values[1:,1:-1]\n",
    "dfx=pd.DataFrame(mean,columns=np.sort(df.condition.unique()))\n",
    "sns.heatmap(dfx.values.astype('float').T,center=0,cmap='seismic',ax=axes)\n",
    "plt.yticks(range(2),np.sort(df.condition.unique()));\n",
    "\n"
   ]
  },
  {
   "cell_type": "code",
   "execution_count": null,
   "metadata": {},
   "outputs": [],
   "source": [
    "maxPos=[]\n",
    "nAges=df.condition.unique().shape[0]\n",
    "fig, ax = plt.subplots(nrows=nAges, ncols=1, sharex=True, sharey=True,figsize=(4.5/inToCm,15/inToCm))\n",
    "x=xax[1:]\n",
    "print(x)\n",
    "for i in range(nAges):\n",
    "    y=dfx.values[:,i]\n",
    "    z=np.polyfit(x,y,4)\n",
    "    p = np.poly1d(z)\n",
    "    xp = np.linspace(0, 1.7, 1000)\n",
    "    if np.max(p(xp)[:800])>.02:\n",
    "        print(i, np.max(p(xp)[:800]))\n",
    "        maxPos.append(np.argmax(p(xp)[:800])/(1000/1.7))\n",
    "        print(maxPos)\n",
    "        ax[i].axvline(maxPos[-1])\n",
    "    else:\n",
    "        maxPos.append(np.nan)\n",
    "\n",
    "    ax[i].plot(x, y, '.', xp, p(xp), '-')\n",
    "    ax[i].set_ylim([-.10,.4])"
   ]
  },
  {
   "cell_type": "code",
   "execution_count": null,
   "metadata": {},
   "outputs": [],
   "source": [
    "dfx"
   ]
  },
  {
   "cell_type": "markdown",
   "metadata": {},
   "source": [
    "# Individual animal analysis\n",
    "\n"
   ]
  },
  {
   "cell_type": "code",
   "execution_count": null,
   "metadata": {},
   "outputs": [],
   "source": [
    "dfDR=df[idx]\n",
    "tmp=dfDR.groupby(['episode','animalIndex'],sort=True)[['si','condition','anSize']]\n",
    "mn=tmp.mean().si.unstack().reset_index()\n",
    "\n",
    "mean=mn.values[:7,1:]\n",
    "dfx=mn\n",
    "dfx=dfx.drop('episode',axis=1)\n",
    "sns.heatmap(dfx.values.astype('float').T,center=0,cmap='seismic')\n"
   ]
  },
  {
   "cell_type": "code",
   "execution_count": null,
   "metadata": {},
   "outputs": [],
   "source": [
    "maxPosAll=[]\n",
    "ageAll=[]\n",
    "x=xax[1:]\n",
    "for i in range(dfx.shape[1]):\n",
    "    y=dfx.values[1:,i]\n",
    "    z=np.polyfit(x,y,4)\n",
    "    p = np.poly1d(z)\n",
    "    xp = np.linspace(0, 1.7, 1000)\n",
    "    if np.max(p(xp)[:950])>.05:\n",
    "        maxPosAll.append(np.argmax(p(xp)[:950])/(1000/1.7))\n",
    "    else:\n",
    "        maxPosAll.append(np.nan)\n",
    "    ageAll.append(df[df.animalIndex==dfx.columns[i]].condition.values[0])"
   ]
  },
  {
   "cell_type": "code",
   "execution_count": null,
   "metadata": {},
   "outputs": [],
   "source": [
    "mpa=pd.DataFrame({'condition':ageAll,'mp':maxPosAll})\n",
    "mpa.head()"
   ]
  },
  {
   "cell_type": "code",
   "execution_count": null,
   "metadata": {},
   "outputs": [],
   "source": [
    "fig, ax = plt.subplots(sharex=True, sharey=True,figsize=(2/inToCm,4.5/inToCm))\n",
    "col1=['gray','k']\n",
    "\n",
    "\n",
    "sns.swarmplot(data=mpa,x='condition',y='mp',ax=ax,palette=col1,zorder=0)\n",
    "sns.pointplot(data=mpa,x='condition',y='mp',ax=ax,palette=['k'],zorder=100,markers=['_'],scale=3,errwidth=1,capsize=.3)\n",
    "sns.pointplot(data=mpa,x='condition',y='mp',ax=ax,palette=['r'],zorder=100,markers=['_'],scale=3,ci=None)\n",
    "plt.ylabel('Optimal interval (sec)')\n",
    "plt.xlabel('')\n",
    "plt.yticks(np.arange(0,1.8,.4))\n",
    "ax.set_ylim([0,1.6])\n",
    "\n",
    "ax.set_xticklabels(['Group','Isolated'])\n",
    "\n",
    "for tick in ax.xaxis.get_major_ticks():\n",
    "    #tick.label.set_fontsize(12) \n",
    "    tick.label.set_rotation(45)\n",
    "    \n",
    "#plt.xticks([])\n",
    "sns.despine()\n",
    "\n",
    "x1, x2 = 0, 1   # columns\n",
    "l=0.05\n",
    "y, h, col = mpa.mp.max() + l, l, 'k'\n",
    "plt.plot([x1, x1, x2, x2], [y, y+h, y+h, y], lw=1.5, c=col)\n",
    "plt.text((x1+x2)*.5, y+h, \"ns\", ha='center', va='bottom', color=col,size=10)\n",
    "\n",
    "\n",
    "figPath=outputDir+'\\\\2Eb_BoutFreq_isolatedBar.svg'\n",
    "plt.savefig(figPath)"
   ]
  },
  {
   "cell_type": "code",
   "execution_count": null,
   "metadata": {},
   "outputs": [],
   "source": [
    "maxPosIndMn=mpa.groupby(['condition']).mean().mp\n",
    "maxPosIndSTD=mpa.groupby(['condition']).std().mp\n",
    "maxPosIndMn"
   ]
  },
  {
   "cell_type": "markdown",
   "metadata": {},
   "source": [
    "from shutil import copy2\n",
    "\n",
    "def splitall(path):\n",
    "    allparts = []\n",
    "    while 1:\n",
    "        parts = os.path.split(path)\n",
    "        if parts[0] == path:  # sentinel for absolute paths\n",
    "            allparts.insert(0, parts[0])\n",
    "            break\n",
    "        elif parts[1] == path: # sentinel for relative paths\n",
    "            allparts.insert(0, parts[1])\n",
    "            break\n",
    "        else:\n",
    "            path = parts[0]\n",
    "            allparts.insert(0, parts[1])\n",
    "    return allparts\n",
    "\n",
    "\n",
    "\n",
    "for i,row in info.iterrows():\n",
    "    fn=row.txtPath\n",
    "    head, tail = os.path.split(fn)\n",
    "\n",
    "    copyList=[]\n",
    "    copyList.append(glob.glob(head+'\\\\ROI*.csv')[0])\n",
    "    copyList.append(glob.glob(head+'\\\\PositionTxt*.txt')[0])\n",
    "    copyList.append(glob.glob(head+'\\\\PL*.txt')[0])\n",
    "    copyList.append(glob.glob(head+'\\\\*anSize.csv')[0])\n",
    "    \n",
    "    for f in copyList:\n",
    "        print(f)\n",
    "        if f[0]=='E':\n",
    "            keepSlash=3\n",
    "        else:\n",
    "            keepSlash=4\n",
    "        toDirectory = \"e:\\\\b\\\\LarschAndBaier2018\\\\RawData\\\\\" + os.path.join(*splitall(f)[keepSlash:-1])+\"\\\\\"\n",
    "        #toDirectory = \"e:\\\\b\\\\LarschAndBaier2018\\\\RawData\\\\\" \n",
    "        if not os.path.isdir(toDirectory):\n",
    "            os.makedirs(toDirectory)\n",
    "        \n",
    "        copy2(f, toDirectory)\n"
   ]
  },
  {
   "cell_type": "code",
   "execution_count": null,
   "metadata": {},
   "outputs": [],
   "source": []
  }
 ],
 "metadata": {
  "kernelspec": {
   "display_name": "Python 3",
   "language": "python",
   "name": "python3"
  },
  "language_info": {
   "codemirror_mode": {
    "name": "ipython",
    "version": 3
   },
   "file_extension": ".py",
   "mimetype": "text/x-python",
   "name": "python",
   "nbconvert_exporter": "python",
   "pygments_lexer": "ipython3",
   "version": "3.6.5"
  }
 },
 "nbformat": 4,
 "nbformat_minor": 1
}
