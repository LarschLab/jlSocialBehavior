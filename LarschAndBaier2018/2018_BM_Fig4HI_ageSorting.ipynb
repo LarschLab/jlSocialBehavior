{
 "cells": [
  {
   "cell_type": "markdown",
   "metadata": {},
   "source": [
    "# Analysis of assortative shoaling in quartets consisting of 2 age groups each\n",
    "\n",
    "## (16,17,18)dpf and  (23,24,25)dpf animals\n",
    "\n",
    "## experiments 1-3 summary"
   ]
  },
  {
   "cell_type": "markdown",
   "metadata": {},
   "source": [
    "Each of the experiments has the following structure:\n",
    "\n",
    "Groups of 4 animals are considered one quartet. Each experiment has three quartets and 3 additional animals which are not analyzed.\n",
    "\n",
    "The stimulus protocol sequentially links the animals of a quartet for quartet interactions and pair-wise interactions:\n",
    "    1. 00pairs: quartet interactions\n",
    "    2. 01pairs - 03pairs: pair-wise interactions"
   ]
  },
  {
   "cell_type": "code",
   "execution_count": null,
   "metadata": {},
   "outputs": [],
   "source": [
    "%config InteractiveShellApp.pylab_import_all = False\n",
    "%matplotlib inline\n",
    "%pylab inline\n",
    "%reload_ext autoreload\n",
    "%autoreload 2\n",
    "\n",
    "import sys\n",
    "import os\n",
    "import fnmatch\n",
    "\n",
    "import numpy as np\n",
    "import math\n",
    "import matplotlib.pyplot as plt\n",
    "import pandas as pd\n",
    "from pandas import DataFrame, Series\n",
    "import seaborn as sns\n",
    "import glob\n",
    "from datetime import datetime\n",
    "\n",
    "propsFn='props.csv'\n",
    "props=pd.read_csv(propsFn, header=None, index_col=0, squeeze=True,delim_whitespace=True).to_dict()\n",
    "\n",
    "base=props['BaseDir']\n",
    "expFile=props['allExpFn']\n",
    "\n",
    "RawDataDir = os.path.join(base,props['RawDataDir'])+'\\\\'\n",
    "ProcessingDir = os.path.join(base,props['ProcessingDir'])+'\\\\Fig4I_ageSorting\\\\'\n",
    "outputDir = os.path.join(base,props['outputDir'])+'\\\\'\n",
    "\n",
    "if not os.path.isdir(ProcessingDir):\n",
    "    os.makedirs(ProcessingDir)\n",
    "if not os.path.isdir(outputDir):\n",
    "    os.makedirs(outputDir)\n",
    "\n",
    "os.chdir('..\\\\')\n",
    "import functions.matrixUtilities_joh as mu\n",
    "import matplotlib.pyplot as plt\n",
    "import models.experiment as xp\n",
    "import models.experiment_set as es\n",
    "import functions.paperFigureProps as pfp\n",
    "pfp.paper()\n",
    "inToCm=2.54\n"
   ]
  },
  {
   "cell_type": "code",
   "execution_count": null,
   "metadata": {},
   "outputs": [],
   "source": [
    "info=pd.read_csv(expFile, sep=',')\n",
    "info=info[info.stimulusProtocol=='pc']\n",
    "info"
   ]
  },
  {
   "cell_type": "code",
   "execution_count": null,
   "metadata": {},
   "outputs": [],
   "source": [
    "# collect meta information and save to new csv file for batch processing\n",
    "\n",
    "aviPath=[]\n",
    "posPath=[]\n",
    "PLPath=[]\n",
    "expTime = []\n",
    "    \n",
    "for index,row in info.iterrows():\n",
    "    startDir=RawDataDir+row.path+'\\\\'\n",
    "    #startDir='D:\\\\data\\\\b\\\\2017\\\\'+row.path+'\\\\'\n",
    "    #if not os.path.isdir(startDir):\n",
    "    #    startDir='E:\\\\b\\\\2017\\\\'+row.path+'\\\\'\n",
    "        \n",
    "    posPath.append(glob.glob(startDir+'PositionTxt*.txt')[0])\n",
    "    PLPath.append(glob.glob(startDir+'PL*.csv')[0])\n",
    "    \n",
    "    head, tail = os.path.split(posPath[-1])\n",
    "    currTime=datetime.strptime(tail[-23:-4], '%Y-%m-%dT%H_%M_%S')\n",
    "    expTime.append(currTime)\n",
    "    \n",
    "info['txtPath']=posPath\n",
    "info['pairList']=PLPath\n",
    "\n",
    "info['epiDur'] = 5      # duration of individual episodes (default: 5 minutes)\n",
    "info['episodes'] = -1   # number of episodes to process: -1 to load all episodes (default: -1)\n",
    "info['inDish'] = 10#np.arange(len(posPath))*120     # time in dish before experiments started (default: 10)\n",
    "info['arenaDiameter_mm'] = 100 # arena diameter (default: 100 mm)\n",
    "info['minShift'] = 60 # minimum number of seconds to shift for control IAD\n",
    "info['episodePLcode'] = 1 # flag if first two characters of episode name encode animal pair matrix (default: 0)\n",
    "info['recomputeAnimalSize'] = 1 # flag to compute animals size from avi file (takes time, default: 1)\n",
    "info['SaveNeighborhoodMaps'] = 0 # flag to save neighborhood maps for subsequent analysis (takes time, default: 1)\n",
    "info['computeLeadership'] = 0 # flag to compute leadership index (takes time, default: 1)\n",
    "info['ComputeBouts'] = 0 # flag to compute swim bout frequency (takes time, default: 1)\n",
    "info['set'] = np.arange(len(posPath))   # experiment set: can label groups of experiments (default: 0)\n",
    "info['ProcessingDir']=ProcessingDir\n",
    "info['outputDir']=outputDir\n",
    "info['allowEpisodeSwitch']=1\n",
    "\n",
    "info['expTime']=expTime\n",
    "\n",
    "csvFile=os.path.join(ProcessingDir,'Fig4I_ageSorting.csv')\n",
    "info.to_csv(csvFile,encoding='utf-8')\n",
    "info"
   ]
  },
  {
   "cell_type": "code",
   "execution_count": null,
   "metadata": {},
   "outputs": [],
   "source": [
    "def readExperiment(keepData=False):\n",
    "    tmp=es.experiment_set(csvFile=csvFile)\n",
    "    if keepData:\n",
    "        return tmp\n",
    "    else:\n",
    "        return 1\n",
    "\n",
    "expSet=readExperiment(keepData=True)"
   ]
  },
  {
   "cell_type": "markdown",
   "metadata": {},
   "source": [
    "## structure of the summary file:\n",
    "### episode column indicates interactions\n",
    "\n",
    "00pairs is the quartet interaction\n",
    "\n",
    "    for each 00pair episode, there are 3 rows per animal, corresponding to the pairings with each other animal indicated by columns animalIndex and CurrentPartner\n",
    "\n",
    "01pairs - 03pairs are 2-way interactions\n",
    "\n",
    "    for each of those, there is only one row\n"
   ]
  },
  {
   "cell_type": "code",
   "execution_count": null,
   "metadata": {},
   "outputs": [],
   "source": [
    "csvPath = []\n",
    "for f in [mu.splitall(x)[-1][:-4] for x in info.txtPath]:\n",
    "    csvPath.append(glob.glob(ProcessingDir+f+'*siSummary*.csv')[0])\n",
    "\n",
    "df=pd.DataFrame()\n",
    "i=0\n",
    "for fn in csvPath:\n",
    "    print(fn)\n",
    "    tmp=pd.read_csv(fn,index_col=0,sep=',')\n",
    "    tmp.animalSet=i\n",
    "    tmp['animalIndexCont']=tmp.animalIndex+((i)*15)\n",
    "    tmp['CurrentPartnerCont']=tmp.CurrentPartner+((i)*15)\n",
    "    df=pd.concat([df,tmp])\n",
    "    i+=1\n",
    "df['episode']=[x.strip().replace('_','') for x in df['episode']]\n",
    "\n",
    "print('df shape',df.shape)\n",
    "\n",
    "d=df.time\n",
    "r=datetime(2017,1,1)\n",
    "t2=[pd.to_datetime(x).replace(day=1,month=1)for x in df.time]\n",
    "\n",
    "t3=[(x-r)/pd.Timedelta('1 hour') for x in t2]\n",
    "df['t2']=t2\n",
    "df['t3']=t3\n",
    "df.head()"
   ]
  },
  {
   "cell_type": "markdown",
   "metadata": {},
   "source": [
    "## Shoaling preferences during 4-way interaction"
   ]
  },
  {
   "cell_type": "code",
   "execution_count": null,
   "metadata": {},
   "outputs": [],
   "source": [
    "#first, analyze 4-way interactions (only use animals 0-11, 12-14 are not a group of 4)\n",
    "iQuad=(df.episode=='00pairs')&(df.animalIndex<12)&(df.inDishTime<355)\n",
    "dfq=df[iQuad]\n",
    "\n",
    "#adjust 'animalIndex' and 'currentPartner' such that animalIndex is always the lower number\n",
    "#this is legit because 0-1 designates the same pair as 1-0\n",
    "aa=dfq[['animalIndexCont','CurrentPartnerCont']].values\n",
    "dfq.loc[:,['animalIndexCont','CurrentPartnerCont']]=np.sort(aa,axis=1)\n"
   ]
  },
  {
   "cell_type": "code",
   "execution_count": null,
   "metadata": {},
   "outputs": [],
   "source": [
    "#get the data for \n",
    "dfqSI=dfq.groupby(['animalIndexCont','CurrentPartnerCont','inDishTime']).mean().si.reset_index()"
   ]
  },
  {
   "cell_type": "code",
   "execution_count": null,
   "metadata": {},
   "outputs": [],
   "source": [
    "# during 4-way interactions, calculate the average of the 4 possible small-large pairings\n",
    "comboGroups=np.array([0,1,1,1,1,2]) #sm-sm, sm-lg, lg-lg\n",
    "\n",
    "#cg 0: small small\n",
    "#cg 1: small large\n",
    "#cg 2: large large\n",
    "dfqSI['cg']=np.repeat(np.tile(comboGroups,9),dfq.inDishTime.unique().shape[0])\n",
    "\n",
    "\n",
    "dfqSI['gi']=np.repeat(np.arange(9),6*dfq.inDishTime.unique().shape[0])\n",
    "\n",
    "dfqSI.head()"
   ]
  },
  {
   "cell_type": "code",
   "execution_count": null,
   "metadata": {},
   "outputs": [],
   "source": [
    "dfqSI=dfqSI.groupby(['animalIndexCont','CurrentPartnerCont','inDishTime','cg','gi']).mean().si.reset_index()"
   ]
  },
  {
   "cell_type": "code",
   "execution_count": null,
   "metadata": {},
   "outputs": [],
   "source": [
    "sns.tsplot(data=dfqSI.groupby(['inDishTime','cg','gi']).mean().si.reset_index(),time='inDishTime',unit='gi',value='si',condition='cg')"
   ]
  },
  {
   "cell_type": "markdown",
   "metadata": {},
   "source": [
    "## Shoaling preferences during pair-wise interaction 01pairs (small-small and large-large) and 02pairs/03pairs (small-large combinations)"
   ]
  },
  {
   "cell_type": "code",
   "execution_count": null,
   "metadata": {},
   "outputs": [],
   "source": [
    "iSameDub=(df.episode.isin(['01pairs']))&(df.animalIndex.isin(np.arange(0,12,2)))&(df.inDishTime<355)\n",
    "dfsd=df[iSameDub]\n",
    "dfsdSI=dfsd.groupby(['animalIndexCont','CurrentPartnerCont','age','inDishTime']).mean().si.reset_index()\n",
    "dfsdSI['cg']=3\n",
    "dfsdSI['gi']=np.repeat(np.repeat(np.arange(9),2),dfsdSI.inDishTime.unique().shape[0])\n",
    "\n",
    "ix=(dfsdSI.age>20)\n",
    "dfsdSI.loc[ix,'cg']=5\n",
    "dfsdSI=dfsdSI.drop('age',axis=1)\n",
    "sns.tsplot(data=dfsdSI,time='inDishTime',unit='animalIndexCont',value='si',condition='cg')\n",
    "plt.ylim([-.1,.5])"
   ]
  },
  {
   "cell_type": "code",
   "execution_count": null,
   "metadata": {},
   "outputs": [],
   "source": [
    "iCrossDub=(df.episode.isin(['03pairs','02pairs']))&(df.animalIndex<12)&(df.inDishTime<355)\n",
    "\n",
    "\n",
    "dfcd=df[iCrossDub]\n",
    "\n",
    "#adjust 'animalIndex' and 'currentPartner' such that animalIndex is always the lower number\n",
    "#this is legit because 0-1 designates the same pair as 1-0\n",
    "aa=dfcd[['animalIndexCont','CurrentPartnerCont']].values\n",
    "dfcd.loc[:,['animalIndexCont','CurrentPartnerCont']]=np.sort(aa,axis=1)\n",
    "\n",
    "dfcdSI=dfcd.groupby(['animalIndexCont','CurrentPartnerCont','inDishTime']).mean().si.reset_index()\n",
    "dfcdSI['cg']=4\n",
    "\n",
    "dfcdSI['gi']=np.repeat(np.repeat(np.arange(9),4),dfcdSI.inDishTime.unique().shape[0]/2)\n",
    "sns.tsplot(data=dfcdSI,time='inDishTime',unit='animalIndexCont',value='si',condition='cg')\n",
    "plt.ylim([-.1,.5])"
   ]
  },
  {
   "cell_type": "code",
   "execution_count": null,
   "metadata": {},
   "outputs": [],
   "source": [
    "dfAllT=pd.concat([dfqSI,dfsdSI,dfcdSI],sort=True)"
   ]
  },
  {
   "cell_type": "code",
   "execution_count": null,
   "metadata": {},
   "outputs": [],
   "source": [
    "sns.tsplot(data=dfAllT.groupby(['inDishTime','gi','cg']).mean().reset_index(),time='inDishTime',unit='gi',value='si',condition='cg')\n"
   ]
  },
  {
   "cell_type": "code",
   "execution_count": null,
   "metadata": {},
   "outputs": [],
   "source": [
    "tidx=(dfAllT.inDishTime>60)&(dfAllT.inDishTime<350)\n",
    "dfAll=dfAllT[tidx].groupby(['cg','gi']).mean().si.reset_index()\n",
    "sns.swarmplot(data=dfAll,x='cg',y='si')\n",
    "plt.axhline(0)"
   ]
  },
  {
   "cell_type": "code",
   "execution_count": null,
   "metadata": {},
   "outputs": [],
   "source": [
    "fig, axes = plt.subplots(figsize=(5, 7))\n",
    "sns.pointplot(data=dfAll[dfAll.cg<3],x='cg',y='si',hue='gi',ax=axes)\n",
    "axes.set_xticklabels(['sm-sm','sm-lg','lg-lg'])\n",
    "axes.set_xlabel('')\n",
    "axes.set_ylabel('attraction')\n",
    "sns.despine()"
   ]
  },
  {
   "cell_type": "code",
   "execution_count": null,
   "metadata": {},
   "outputs": [],
   "source": [
    "quadOnly=dfAll[dfAll.cg<3]\n",
    "quadOnly.head()"
   ]
  },
  {
   "cell_type": "code",
   "execution_count": null,
   "metadata": {},
   "outputs": [],
   "source": [
    "q=dfAll.pivot_table(index='gi',columns='cg',values='si').reset_index()\n",
    "q"
   ]
  },
  {
   "cell_type": "code",
   "execution_count": null,
   "metadata": {},
   "outputs": [],
   "source": [
    "q['6']=(q[q.columns[1]]+q[q.columns[3]])/2.\n",
    "q['7']=(q[q.columns[4]]+q[q.columns[6]])/2.\n",
    "qq=q.drop('gi',axis=1).stack().reset_index()\n",
    "qq.columns=['gi','cg','si']\n",
    "qq.head()"
   ]
  },
  {
   "cell_type": "code",
   "execution_count": null,
   "metadata": {},
   "outputs": [],
   "source": [
    "fig, axes = plt.subplots(figsize=(4, 7))\n",
    "#sns.boxplot(data=qq,x='cg',y='si',notch=True)\n",
    "\n",
    "#sns.swarmplot(data=qq,x='cg',y='si',ax=axes,zorder=1)\n",
    "sns.pointplot(data=qq,x='cg',y='si',ax=axes,zorder=1,hue='gi')\n",
    "              \n",
    "sns.pointplot(data=qq,x='cg',y='si',ax=axes,join=False,\n",
    "              palette=['k'],\n",
    "              zorder=100,\n",
    "              legend=False,\n",
    "              ci='sd',\n",
    "              errwidth=1,\n",
    "              capsize=.3)"
   ]
  },
  {
   "cell_type": "code",
   "execution_count": null,
   "metadata": {},
   "outputs": [],
   "source": [
    "fig, axes = plt.subplots(figsize=(4, 7))\n",
    "sns.boxplot(data=qq,x='cg',y='si',notch=True)"
   ]
  },
  {
   "cell_type": "code",
   "execution_count": null,
   "metadata": {},
   "outputs": [],
   "source": [
    "q.columns"
   ]
  },
  {
   "cell_type": "code",
   "execution_count": null,
   "metadata": {},
   "outputs": [],
   "source": [
    "from scipy import stats\n",
    "a=q[q.columns[2]]\n",
    "b=q[q.columns[7]]\n",
    "c=q[q.columns[3]]\n",
    "print(a,b)\n",
    "print('related samples',stats.ttest_rel(a,b),stats.ttest_rel(b,c))\n",
    "print('independent samples',stats.ttest_ind(a,b),stats.ttest_ind(b,c))"
   ]
  },
  {
   "cell_type": "code",
   "execution_count": null,
   "metadata": {},
   "outputs": [],
   "source": [
    "dyadOnly=dfAll[dfAll.cg>2]\n",
    "dyadOnly.head()"
   ]
  },
  {
   "cell_type": "code",
   "execution_count": null,
   "metadata": {},
   "outputs": [],
   "source": [
    "fig, axes = plt.subplots(figsize=(5, 7))\n",
    "sns.pointplot(data=qq,x='cg',y='si',hue='gi',ax=axes)\n",
    "axes.set_xticklabels(['sm-sm','sm-lg','lg-lg'])\n",
    "axes.set_xlabel('')\n",
    "axes.set_ylabel('attraction')\n",
    "sns.despine()"
   ]
  },
  {
   "cell_type": "code",
   "execution_count": null,
   "metadata": {},
   "outputs": [],
   "source": [
    "fig, axes = plt.subplots(figsize=(5, 7))\n",
    "sns.boxplot(data=qq,x='cg',y='si',ax=axes)\n",
    "sns.pointplot(data=qq,x='cg',y='si',ax=axes)\n",
    "axes.set_xticklabels(['sm-sm','sm-lg','lg-lg'])\n",
    "axes.set_xlabel('')\n",
    "axes.set_ylabel('attraction')\n",
    "sns.despine()\n",
    "\n"
   ]
  },
  {
   "cell_type": "code",
   "execution_count": null,
   "metadata": {},
   "outputs": [],
   "source": [
    "pfp.paper()\n",
    "inToCm=2.54\n",
    "plt.figure(figsize=(9/inToCm,4.5/inToCm))\n",
    "ax = plt.gca()\n",
    "\n",
    "col=['gray','k',[0,0.6,0],[0,.35,0]]\n",
    "sns.set_palette(col)\n",
    "qq.cg=qq.cg.astype('int')\n",
    "#sns.boxplot(data=dfAll,x='cg',y='si',ax=axes)\n",
    "lab=np.array(['Quartet','Pair','Model','Model2'])\n",
    "plotGroups=np.array([0,0,0,1,1,1,2,3])\n",
    "\n",
    "\n",
    "sns.pointplot(data=qq,x='cg',y='si',ax=ax,hue='gi',zorder=0,order=[0,1,6,2,3,4,7,5],\n",
    "             palette=['gray'],\n",
    "             scale=0.2)\n",
    "sns.stripplot(data=qq,x='cg',y='si',ax=ax,hue=lab[plotGroups[qq.cg.values]],zorder=1,order=[0,1,6,2,3,4,7,5])\n",
    "\n",
    "sns.pointplot(data=qq,x='cg',y='si',ax=ax,join=False,hue=lab[plotGroups[qq.cg.values]],\n",
    "              palette=['k'],\n",
    "              zorder=1000,\n",
    "              legend=False,\n",
    "              ci='sd',\n",
    "              errwidth=1,\n",
    "              capsize=.3,order=[0,1,6,2,3,4,7,5])\n",
    "\n",
    "sns.pointplot(data=qq,x='cg',y='si',ax=ax,join=False,hue=lab[plotGroups[qq.cg.values]],\n",
    "              palette=['r'],\n",
    "              zorder=1000,\n",
    "              ci=None,\n",
    "              legend=False,\n",
    "              markers='_',\n",
    "              scale=3,order=[0,1,6,2,3,4,7,5])\n",
    "\n",
    "\n",
    "ax.set_xticklabels(['s-s','s-L','s-L \\n Model','L-L','s-s','s-L','s-L \\n Model','L-L'])\n",
    "ax.set_yticks(np.arange(0,.5,.2))\n",
    "ax.set_xlabel('')\n",
    "ax.set_ylabel('Attraction')\n",
    "\n",
    "# Get the handles and labels. For this example it'll be 2 tuples\n",
    "# of length 4 each.\n",
    "handles, labels = ax.get_legend_handles_labels()\n",
    "\n",
    "# When creating the legend, only use the first two elements\n",
    "# to effectively remove the last two.\n",
    "labels=np.array(labels)\n",
    "handles=np.array(handles)\n",
    "li=np.array([9,11,10])\n",
    "l = plt.legend(handles[li], labels[li], ncol=3, loc='upper center', borderaxespad=0.)\n",
    "\n",
    "ax.axvline(3.5,ls=':',color='gray')\n",
    "\n",
    "\n",
    "# statistical annotation, see below for stats!\n",
    "x1, x2 = 1, 2   # columns\n",
    "l=0.025\n",
    "y, h, col = .32 + l, l, 'k'\n",
    "plt.plot([x1, x1, x2, x2], [y, y+h, y+h, y], lw=1.5, c=col)\n",
    "plt.text((x1+x2)*.5, y+h, \"***\", ha='center', va='bottom', color=col,size=10)\n",
    "\n",
    "# statistical annotation\n",
    "x1, x2 = 5, 6   # columns\n",
    "l=0.025\n",
    "y, h, col = .32 + l, l, 'k'\n",
    "plt.plot([x1, x1, x2, x2], [y, y+h, y+h, y], lw=1.5, c=col)\n",
    "plt.text((x1+x2)*.5, y+h, \"***\", ha='center', va='bottom', color=col,size=10)\n",
    "\n",
    "\n",
    "\n",
    "sns.despine()\n",
    "figPath=outputDir+'\\\\4I_PairChoice.svg'\n",
    "plt.savefig(figPath)"
   ]
  },
  {
   "cell_type": "code",
   "execution_count": null,
   "metadata": {},
   "outputs": [],
   "source": [
    "def normGroup(x):\n",
    "    return x.si/x.si.values[1]\n",
    "\n",
    "dfNorm=dfAll[dfAll.cg<3].groupby(['gi']).apply(normGroup).reset_index()\n",
    "dfNorm['cg']=np.tile(np.arange(3),dfAll[dfAll.cg<3].gi.unique().shape[0])\n",
    "dfNorm.head()"
   ]
  },
  {
   "cell_type": "code",
   "execution_count": null,
   "metadata": {},
   "outputs": [],
   "source": [
    "fig, axes = plt.subplots(figsize=(5, 7))\n",
    "colors=np.repeat('k',dfAll.gi.unique().shape[0])\n",
    "sns.pointplot(data=dfNorm,x='cg',y='si',hue='gi',ax=axes)\n",
    "axes.set_xticklabels(['sm-sm','sm-lg','lg-lg'])\n",
    "axes.set_xlabel('')\n",
    "axes.set_ylabel('relative attraction')\n",
    "axes.set_ylim([-1,5])\n",
    "plt.legend(title='quartet number',loc='best')\n",
    "sns.despine()"
   ]
  },
  {
   "cell_type": "code",
   "execution_count": null,
   "metadata": {},
   "outputs": [],
   "source": [
    "pfp.paper()\n",
    "inToCm=2.54\n",
    "fig, axes = plt.subplots(figsize=(4.5/inToCm,4.5/inToCm))\n",
    "#sns.boxplot(data=dfNorm,x='cg',y='si',ax=axes,color='gray',notch=True)\n",
    "\n",
    "sns.pointplot(data=dfNorm,x='cg',y='si',hue='gi',ax=axes,linewidth=0.5,scale=0.5,zorder=-100)\n",
    "plt.setp(axes.collections, sizes=[50],zorder=-100)\n",
    "plt.setp(axes.lines, zorder=-100)\n",
    "\n",
    "sns.pointplot(data=dfNorm,x='cg',y='si',\n",
    "                color='k',\n",
    "                ax=axes,\n",
    "                estimator=np.median,\n",
    "                ci ='sd',\n",
    "                zorder=100,\n",
    "                edgecolor='k',\n",
    "                join=False,\n",
    "                markers=['_'],\n",
    "                scale=4,\n",
    "             errwidth=1)\n",
    "\n",
    "#sns.swarmplot(data=dfNorm,x='cg',y='si',ax=axes,size=10,edgecolor='k',linewidth=1,color='k')\n",
    "axes.set_xticklabels(['sm-sm','sm-lg','lg-lg'])\n",
    "axes.set_xlabel('')\n",
    "axes.set_ylabel('relative attraction')\n",
    "axes.set_ylim([0,4])\n",
    "#plt.legend(title='quartet number',loc='best')\n",
    "axes.legend_.remove()\n",
    "sns.despine()"
   ]
  },
  {
   "cell_type": "code",
   "execution_count": null,
   "metadata": {},
   "outputs": [],
   "source": []
  },
  {
   "cell_type": "code",
   "execution_count": null,
   "metadata": {},
   "outputs": [],
   "source": [
    "csvFileNetLogo=os.path.join(RawDataDir,'20180316_netLogo4Animals\\\\Shoaling_4an 4An_socia_Paper-table.csv')\n",
    "\n",
    "df_NL=pd.read_csv(csvFileNetLogo,skiprows=6)\n",
    "df_NL=df_NL.groupby(['[run number]','t1-Social','t2-Social']).mean().reset_index() #drop other columns\n",
    "\n",
    "#calculate shoaling index, using IAD when both agents have Ps<0.01\n",
    "idx=(df_NL['t1-Social']<0.01) & (df_NL['t2-Social']<0.01) \n",
    "IADs=df_NL[idx].IAD11\n",
    "print('mean IAD without attraction: ',IADs.mean())\n",
    "df_NL['SI11']=(IADs.mean()-df_NL.IAD11)/IADs.mean()\n",
    "df_NL['SI12']=(IADs.mean()-df_NL.IAD12)/IADs.mean()\n",
    "df_NL['SI22']=(IADs.mean()-df_NL.IAD22)/IADs.mean()\n",
    "df_NL.head()"
   ]
  },
  {
   "cell_type": "code",
   "execution_count": null,
   "metadata": {},
   "outputs": [],
   "source": [
    "pfp.paper()\n",
    "inToCm=2.54\n",
    "fig, ax = plt.subplots(figsize=(10/inToCm,10/inToCm))\n",
    "\n",
    "sns.pointplot(data=df_NL,x='t1-Social',hue='t2-Social',y='SI11',ax=ax,estimator=np.mean)"
   ]
  },
  {
   "cell_type": "code",
   "execution_count": null,
   "metadata": {},
   "outputs": [],
   "source": [
    "pfp.paper()\n",
    "inToCm=2.54\n",
    "fig, ax = plt.subplots(figsize=(10/inToCm,10/inToCm))\n",
    "\n",
    "sns.pointplot(data=df_NL,x='t1-Social',hue='t2-Social',y='SI12',ax=ax,estimator=np.mean)"
   ]
  },
  {
   "cell_type": "code",
   "execution_count": null,
   "metadata": {},
   "outputs": [],
   "source": [
    "pfp.paper()\n",
    "inToCm=2.54\n",
    "fig, ax = plt.subplots(figsize=(10/inToCm,10/inToCm))\n",
    "\n",
    "sns.pointplot(data=df_NL,x='t1-Social',hue='t2-Social',y='SI22',ax=ax,estimator=np.mean)"
   ]
  },
  {
   "cell_type": "code",
   "execution_count": null,
   "metadata": {},
   "outputs": [],
   "source": [
    "pfp.paper()\n",
    "sns.set_palette('viridis',6)\n",
    "\n",
    "\n",
    "fig, ax = plt.subplots(figsize=(3/inToCm,4.5/inToCm))\n",
    "for i in range(9):\n",
    "    Sa1=i/20.\n",
    "    idx=(df_NL['t1-Social']==Sa1) &(df_NL['t2-Social']==.10)\n",
    "    print(Sa1, np.sum(idx))\n",
    "    if np.sum(idx)>0:\n",
    "        \n",
    "        a=df_NL[idx].SI11.mean()\n",
    "        b=df_NL[idx].SI12.mean()\n",
    "        c=df_NL[idx].SI22.mean()\n",
    "        plt.plot([a,b,c],'.-',label=Sa1)\n",
    "\n",
    "\n",
    "\n",
    "plt.xticks([0,1,2],['t1-t1','t1-t2','t2-t2'])\n",
    "plt.xlim([-.1,2.3])\n",
    "plt.ylim([-.1,1])\n",
    "sns.despine() \n",
    "plt.ylabel('Model attraction')\n",
    "plt.title('Ps type 2: 0.15')\n",
    "plt.legend(title='Ps type 1:',ncol=1,\n",
    "          bbox_to_anchor=(0.75, .9, 1., .102),\n",
    "          handletextpad=0.1);\n",
    "figPath=outputDir+'\\\\4H_Model_QuartetCombinations.svg'\n",
    "plt.savefig(figPath)"
   ]
  },
  {
   "cell_type": "code",
   "execution_count": null,
   "metadata": {},
   "outputs": [],
   "source": []
  },
  {
   "cell_type": "code",
   "execution_count": null,
   "metadata": {},
   "outputs": [],
   "source": []
  },
  {
   "cell_type": "code",
   "execution_count": null,
   "metadata": {},
   "outputs": [],
   "source": []
  },
  {
   "cell_type": "markdown",
   "metadata": {},
   "source": [
    "from shutil import copy2\n",
    "\n",
    "def splitall(path):\n",
    "    allparts = []\n",
    "    while 1:\n",
    "        parts = os.path.split(path)\n",
    "        if parts[0] == path:  # sentinel for absolute paths\n",
    "            allparts.insert(0, parts[0])\n",
    "            break\n",
    "        elif parts[1] == path: # sentinel for relative paths\n",
    "            allparts.insert(0, parts[1])\n",
    "            break\n",
    "        else:\n",
    "            path = parts[0]\n",
    "            allparts.insert(0, parts[1])\n",
    "    return allparts\n",
    "\n",
    "\n",
    "\n",
    "for i,row in info.iterrows():\n",
    "    fn=row.txtPath\n",
    "    head, tail = os.path.split(fn)\n",
    "\n",
    "    copyList=[]\n",
    "    copyList.append(glob.glob(head+'\\\\ROI*.csv')[0])\n",
    "    copyList.append(glob.glob(head+'\\\\PositionTxt*.txt')[0])\n",
    "    copyList.append(glob.glob(head+'\\\\PL*.csv')[0])\n",
    "    copyList.append(glob.glob(head+'\\\\*anSize.csv')[0])\n",
    "    \n",
    "    for f in copyList:\n",
    "        print(f)\n",
    "        if f[0]=='E':\n",
    "            keepSlash=3\n",
    "        else:\n",
    "            keepSlash=4\n",
    "        toDirectory = \"e:\\\\b\\\\LarschAndBaier2018\\\\RawData\\\\\" + os.path.join(*splitall(f)[keepSlash:-1])+\"\\\\\"\n",
    "        #toDirectory = \"e:\\\\b\\\\LarschAndBaier2018\\\\RawData\\\\\" \n",
    "        if not os.path.isdir(toDirectory):\n",
    "            os.makedirs(toDirectory)\n",
    "        \n",
    "        copy2(f, toDirectory)\n"
   ]
  },
  {
   "cell_type": "code",
   "execution_count": null,
   "metadata": {},
   "outputs": [],
   "source": []
  }
 ],
 "metadata": {
  "kernelspec": {
   "display_name": "Python 3",
   "language": "python",
   "name": "python3"
  },
  "language_info": {
   "codemirror_mode": {
    "name": "ipython",
    "version": 3
   },
   "file_extension": ".py",
   "mimetype": "text/x-python",
   "name": "python",
   "nbconvert_exporter": "python",
   "pygments_lexer": "ipython3",
   "version": "3.6.5"
  }
 },
 "nbformat": 4,
 "nbformat_minor": 2
}
