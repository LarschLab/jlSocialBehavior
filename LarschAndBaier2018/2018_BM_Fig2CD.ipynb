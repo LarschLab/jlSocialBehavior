{
 "cells": [
  {
   "cell_type": "markdown",
   "metadata": {
    "collapsed": true
   },
   "source": [
    "# Summary analysis: Kinetic parameters 3d\n",
    "\n",
    "## Jump Distance on Knot trajectory\n",
    "\n",
    "### speed = 0.7 px / frame\n",
    "\n"
   ]
  },
  {
   "cell_type": "markdown",
   "metadata": {},
   "source": []
  },
  {
   "cell_type": "code",
   "execution_count": null,
   "metadata": {
    "scrolled": true
   },
   "outputs": [],
   "source": [
    "%config InteractiveShellApp.pylab_import_all = False\n",
    "%matplotlib inline\n",
    "%pylab inline\n",
    "%reload_ext autoreload\n",
    "%autoreload 2\n",
    "\n",
    "import sys\n",
    "import os\n",
    "import fnmatch\n",
    "\n",
    "import numpy as np\n",
    "import math\n",
    "import matplotlib.pyplot as plt\n",
    "import pandas as pd\n",
    "from pandas import DataFrame, Series\n",
    "import seaborn as sns\n",
    "import glob\n",
    "from datetime import datetime\n",
    "from sklearn.metrics import r2_score\n",
    "from scipy import stats\n",
    "\n",
    "\n",
    "if 'startDirMaster' not in locals():\n",
    "    startDirMaster=os.getcwd()\n",
    "\n",
    "propsFn=startDirMaster+'\\\\props.csv'\n",
    "props=pd.read_csv(propsFn, header=None, index_col=0, squeeze=True,delim_whitespace=True).to_dict()\n",
    "\n",
    "base=props['BaseDir']\n",
    "expFile=props['allExpFn']\n",
    "\n",
    "RawDataDir = os.path.join(base,props['RawDataDir'])+'\\\\'\n",
    "ProcessingDir = os.path.join(base,props['ProcessingDir'])+'\\\\Fig2CD\\\\'\n",
    "outputDir = os.path.join(base,props['outputDir'])+'\\\\'\n",
    "\n",
    "if not os.path.isdir(ProcessingDir):\n",
    "    os.makedirs(ProcessingDir)\n",
    "if not os.path.isdir(outputDir):\n",
    "    os.makedirs(outputDir)\n",
    "\n",
    "os.chdir('..\\\\')\n",
    "import functions.matrixUtilities_joh as mu\n",
    "import matplotlib.pyplot as plt\n",
    "import models.experiment as xp\n",
    "import models.experiment_set as es\n",
    "import functions.paperFigureProps as pfp\n",
    "pfp.paper()\n",
    "inToCm=2.54\n"
   ]
  },
  {
   "cell_type": "code",
   "execution_count": null,
   "metadata": {},
   "outputs": [],
   "source": [
    "info=pd.read_csv(expFile, sep=',')#pd.read_csv(expFile,quotechar='\"', sep=',', converters={'bdGroup':ast.literal_eval})\n",
    "info=info[info.stimulusProtocol=='3d']\n",
    "info"
   ]
  },
  {
   "cell_type": "code",
   "execution_count": null,
   "metadata": {},
   "outputs": [],
   "source": [
    "# collect meta information and save to new csv file for batch processing\n",
    "\n",
    "aviPath=[]\n",
    "posPath=[]\n",
    "PLPath=[]\n",
    "expTime = []\n",
    "    \n",
    "for index,row in info.iterrows():\n",
    "    startDir=RawDataDir+row.path+'\\\\'\n",
    "    #startDir='D:\\\\data\\\\b\\\\2017\\\\'+row.path+'\\\\'\n",
    "    #if not os.path.isdir(startDir):\n",
    "    #    startDir='E:\\\\b\\\\2017\\\\'+row.path+'\\\\'\n",
    "        \n",
    "    posPath.append(glob.glob(startDir+'PositionTxt*.txt')[0])\n",
    "    PLPath.append(glob.glob(startDir+'PL*.txt')[0])\n",
    "    \n",
    "    head, tail = os.path.split(posPath[-1])\n",
    "    currTime=datetime.strptime(tail[-23:-4], '%Y-%m-%dT%H_%M_%S')\n",
    "    expTime.append(currTime)\n",
    "    \n",
    "info['txtPath']=posPath\n",
    "info['pairList']=PLPath\n",
    "\n",
    "info['epiDur'] = 5      # duration of individual episodes (default: 5 minutes)\n",
    "info['episodes'] = -1   # number of episodes to process: -1 to load all episodes (default: -1)\n",
    "info['inDish'] = 10#np.arange(len(posPath))*120     # time in dish before experiments started (default: 10)\n",
    "info['arenaDiameter_mm'] = 100 # arena diameter (default: 100 mm)\n",
    "info['minShift'] = 60 # minimum number of seconds to shift for control IAD\n",
    "info['episodePLcode'] = 0 # flag if first two characters of episode name encode animal pair matrix (default: 0)\n",
    "info['recomputeAnimalSize'] = 1 # flag to compute animals size from avi file (takes time, default: 1)\n",
    "info['SaveNeighborhoodMaps'] = 0 # flag to save neighborhood maps for subsequent analysis (takes time, default: 1)\n",
    "info['computeLeadership'] = 0 # flag to compute leadership index (takes time, default: 1)\n",
    "info['ComputeBouts'] = 1 # flag to compute swim bout frequency (takes time, default: 1)\n",
    "info['set'] = np.arange(len(posPath))   # experiment set: can label groups of experiments (default: 0)\n",
    "info['ProcessingDir']=ProcessingDir\n",
    "info['outputDir']=outputDir\n",
    "\n",
    "info['expTime']=expTime\n",
    "\n",
    "csvFile=os.path.join(ProcessingDir,'Fig2_CD.csv')\n",
    "info.to_csv(csvFile,encoding='utf-8')\n",
    "info"
   ]
  },
  {
   "cell_type": "code",
   "execution_count": null,
   "metadata": {},
   "outputs": [],
   "source": [
    "def readExperiment(keepData=False):\n",
    "    tmp=es.experiment_set(csvFile=csvFile)\n",
    "    if keepData:\n",
    "        return tmp\n",
    "    else:\n",
    "        return 1\n",
    "\n",
    "expSet=readExperiment(keepData=True)"
   ]
  },
  {
   "cell_type": "code",
   "execution_count": null,
   "metadata": {},
   "outputs": [],
   "source": [
    "csvPath = []\n",
    "for f in [mu.splitall(x)[-1][:-4] for x in info.txtPath]:\n",
    "    csvPath.append(glob.glob(ProcessingDir+f+'*siSummary*.csv')[0])\n",
    "csvPath"
   ]
  },
  {
   "cell_type": "code",
   "execution_count": null,
   "metadata": {},
   "outputs": [],
   "source": [
    "\n",
    "df=pd.DataFrame()\n",
    "i=0\n",
    "for fn in csvPath:\n",
    "    print(fn)\n",
    "    tmp=pd.read_csv(fn,index_col=0,sep=',')\n",
    "    tmp.animalSet=i\n",
    "    tmp.animalIndex=tmp.animalIndex+((i)*15)\n",
    "    df=pd.concat([df,tmp])\n",
    "    i+=1\n",
    "df['episode']=[x.strip().replace('_','') for x in df['episode']]\n",
    "\n",
    "print('df shape',df.shape)"
   ]
  },
  {
   "cell_type": "code",
   "execution_count": null,
   "metadata": {
    "scrolled": true
   },
   "outputs": [],
   "source": [
    "d=df.time\n",
    "r=datetime(2017,1,1)\n",
    "t2=[pd.to_datetime(x).replace(day=1,month=1)for x in df.time]\n",
    "t3=[(x-r)/pd.Timedelta('1 hour') for x in t2]\n",
    "df['t2']=t2\n",
    "df['t3']=t3\n",
    "df"
   ]
  },
  {
   "cell_type": "markdown",
   "metadata": {},
   "source": [
    "## Habituation or Fatigue within 20 hours?"
   ]
  },
  {
   "cell_type": "markdown",
   "metadata": {},
   "source": [
    "Plot shoaling index during closed loop skype episodes over time."
   ]
  },
  {
   "cell_type": "code",
   "execution_count": null,
   "metadata": {
    "scrolled": false
   },
   "outputs": [],
   "source": [
    "sns.tsplot(data=df, time=\"inDishTime\",value=\"si\",unit=\"animalIndex\",condition=\"episode\",estimator=np.nanmean,interpolate=False,err_style=\"ci_bars\");\n",
    "plt.xlim([0,8*60])"
   ]
  },
  {
   "cell_type": "markdown",
   "metadata": {},
   "source": [
    "# Mean response over all stimuli per animal"
   ]
  },
  {
   "cell_type": "code",
   "execution_count": null,
   "metadata": {},
   "outputs": [],
   "source": [
    "sns.set_palette('viridis',105)\n",
    "co=sns.color_palette(\"viridis\", 105)\n",
    "idx=(df['inDishTime']<400) & (df['inDishTime']>45)\n",
    "dfDR=df[idx]\n",
    "dfEpiAn=dfDR.groupby(['episode','animalIndex'],sort=True).mean().reset_index()\n",
    "sns.stripplot(data=dfEpiAn,x='episode',y='si',zorder=-1,hue='animalIndex')\n",
    "sns.pointplot(data=dfEpiAn,x='episode',y='si',hue='animalIndex',zorder=100,scale=0.2,palette=['gray'])\n",
    "sns.pointplot(data=dfEpiAn,x='episode',y='si',join=False,zorder=100)\n",
    "ax=plt.gca()\n",
    "ax.legend_.remove()"
   ]
  },
  {
   "cell_type": "code",
   "execution_count": null,
   "metadata": {},
   "outputs": [],
   "source": [
    "dfEpiAn.head()"
   ]
  },
  {
   "cell_type": "markdown",
   "metadata": {},
   "source": [
    "# Group animals by age"
   ]
  },
  {
   "cell_type": "code",
   "execution_count": null,
   "metadata": {},
   "outputs": [],
   "source": [
    "sns.set_palette('viridis',5)\n",
    "co=sns.color_palette(\"viridis\", 5)\n",
    "fig, axes = plt.subplots(figsize=(5, 5))\n",
    "sns.pointplot(data=dfEpiAn,x='episode',y='si',hue='age',zorder=100,scale=1)\n",
    "sns.despine()\n",
    "\n",
    "axes.set_ylabel('attraction index')\n",
    "axes.axhline(0,ls=':',color='k')\n",
    "axes.set_title('Frequency tuning per age group');\n",
    "plt.legend(title='age')"
   ]
  },
  {
   "cell_type": "markdown",
   "metadata": {},
   "source": [
    "The 19dpf group was lower than expected. A slow growing clutch of animals? Keep anyway"
   ]
  },
  {
   "cell_type": "markdown",
   "metadata": {},
   "source": [
    "# Combine age-groups into 3 groups to compare across panels"
   ]
  },
  {
   "cell_type": "code",
   "execution_count": null,
   "metadata": {},
   "outputs": [],
   "source": [
    "dfEpiAn['ag']=0\n",
    "dfEpiAn.loc[(dfEpiAn.age>16),'ag']=1\n",
    "dfEpiAn.loc[(dfEpiAn.age>21),'ag']=2\n"
   ]
  },
  {
   "cell_type": "code",
   "execution_count": null,
   "metadata": {},
   "outputs": [],
   "source": [
    "sns.set_palette('viridis',3)\n",
    "co=sns.color_palette(\"viridis\", 3)\n",
    "fig, axes = plt.subplots(figsize=(5, 5))\n",
    "sns.pointplot(data=dfEpiAn,x='episode',y='si',hue='ag',zorder=100,scale=1)\n",
    "sns.despine()\n",
    "\n",
    "axes.set_ylabel('attraction index')\n",
    "axes.axhline(0,ls=':',color='k')\n",
    "axes.set_title('Frequency tuning per age group');\n",
    "plt.legend(title='age')"
   ]
  },
  {
   "cell_type": "markdown",
   "metadata": {},
   "source": [
    "### To plot data with numerical X-axis, pre-calculate group means and STD"
   ]
  },
  {
   "cell_type": "code",
   "execution_count": null,
   "metadata": {},
   "outputs": [],
   "source": [
    "xax=np.array([-.5, 1/30., 1./(30./5), 1./(30./10), 1./(30./20), 1./(30./30), 1./(30./40), 1./(30./50)])\n",
    "\n",
    "g_epiAg=dfEpiAn.groupby(['episode','ag'],sort=True)[['si']]\n",
    "var_group=g_epiAg.std().unstack().values.T\n",
    "si_group=g_epiAg.mean().unstack().reset_index()\n",
    "\n",
    "si_group['xax']=xax\n",
    "fig, axes = plt.subplots(figsize=(5, 5))\n",
    "\n",
    "axes=si_group.plot(x='xax',\n",
    "                   y='si',\n",
    "                   kind='line',\n",
    "                   marker='o',\n",
    "                   linestyle=':',\n",
    "                   ax=axes,\n",
    "                   legend=True)\n",
    "\n",
    "axes.set_ylabel('attraction index')\n",
    "plt.xlim([0,xax.max()+xax.max()*0.1])\n",
    "axes.axhline(0,ls=':',color='k')\n",
    "axes.set_title('group frequency tuning');"
   ]
  },
  {
   "cell_type": "code",
   "execution_count": null,
   "metadata": {},
   "outputs": [],
   "source": [
    "sns.set_palette('viridis',3)\n",
    "co=sns.color_palette(\"viridis\", 3)\n",
    "\n",
    "fig, axes = plt.subplots(figsize=(4.5/inToCm,4.5/inToCm))\n",
    "\n",
    "# plot dots for age groups\n",
    "si_group.plot(kind='line',\n",
    "            marker='o',\n",
    "            ls='',\n",
    "            x='xax',\n",
    "            y='si',\n",
    "            ax=axes,\n",
    "            ms=5,\n",
    "            markeredgecolor='k',\n",
    "            markeredgewidth=1,\n",
    "            legend=True)\n",
    "\n",
    "#connect frequency tuning with a line\n",
    "si_group[si_group.xax>0].plot(kind='line',\n",
    "            x='xax',\n",
    "            y='si',\n",
    "            ax=axes,\n",
    "            ms=0,\n",
    "            legend=False,\n",
    "            label='')\n",
    "\n",
    "# draw error bars (+/- 1SD)\n",
    "ii=0\n",
    "for i in range(3):\n",
    "    y=si_group.si.loc[:,i].values\n",
    "    x=xax+(ii-1)*0.04\n",
    "    e=var_group[i]\n",
    "    c=np.array(co[ii])\n",
    "    axes.errorbar(x,y,e,fmt='none',color=c,alpha=0.5)\n",
    "    ii+=1\n",
    "\n",
    "\n",
    "#pretty x-axis\n",
    "axes.axhline(0,ls=':',color='gray')\n",
    "axes.set_xticks(xax);\n",
    "xls='real %.2f %.1f %.1f %.1f %.1f %.1f %.1f' % tuple(xax[1:])\n",
    "xls=[x.lstrip('0') for x in xls.split()]\n",
    "xls[2]=''\n",
    "xls[5]='1'\n",
    "axes.set_xticklabels(xls,fontsize=8);\n",
    "axes.set_yticks([0,.2,.4]);\n",
    "axes.set_ylim([-.15,.5]);\n",
    "axes.set_xlim([-0.7,2])\n",
    "axes.set_xlabel('Bout interval (sec)')\n",
    "axes.set_ylabel('Attraction')\n",
    "\n",
    "\n",
    "# pretty Legend\n",
    "handles, labels = axes.get_legend_handles_labels()\n",
    "labels=np.array(labels)\n",
    "handles=np.array(handles)\n",
    "li=np.array([0,1,2])\n",
    "L = plt.legend(handles[li], labels[li], bbox_to_anchor=(.6, 1), loc=2, borderaxespad=0.,handletextpad=0)\n",
    "L.get_texts()[0].set_text('<17')\n",
    "L.get_texts()[1].set_text('17-21')\n",
    "L.get_texts()[2].set_text('>21')\n",
    "axes.text(-.2,.45,'Age (dpf)',color='k')\n",
    "\n",
    "# save figure\n",
    "sns.despine()\n",
    "figPath=outputDir+'\\\\2C_BoutFreq.svg'\n",
    "plt.savefig(figPath)"
   ]
  },
  {
   "cell_type": "markdown",
   "metadata": {},
   "source": [
    "# Analyze Preferred bout interval over age\n",
    "## again, pre-calculate group means and STD"
   ]
  },
  {
   "cell_type": "code",
   "execution_count": null,
   "metadata": {},
   "outputs": [],
   "source": [
    "g_epiAge=dfEpiAn.groupby(['episode','age'],sort=True)[['si']]\n",
    "var_age=g_epiAge.std().unstack().values.T\n",
    "si_age=g_epiAge.mean().unstack().reset_index()\n",
    "\n",
    "si_age['xax']=xax\n",
    "\n",
    "fig, axes = plt.subplots(figsize=(3, 3))\n",
    "\n",
    "axes=si_age.plot(x='xax',\n",
    "                   y='si',\n",
    "                   kind='line',\n",
    "                   marker='o',\n",
    "                   yerr=0,\n",
    "                   linestyle=':',\n",
    "                   ax=axes,\n",
    "                   legend=True)\n",
    "\n",
    "axes.set_ylabel('attraction index')\n",
    "plt.xlim([0,xax.max()+xax.max()*0.1])\n",
    "axes.axhline(0,ls=':',color='k')\n",
    "axes.set_title('group frequency tuning');\n",
    "\n",
    "\n"
   ]
  },
  {
   "cell_type": "code",
   "execution_count": null,
   "metadata": {},
   "outputs": [],
   "source": [
    "si_age.head()"
   ]
  },
  {
   "cell_type": "markdown",
   "metadata": {},
   "source": [
    "# Begin by looking at average tuning curves over age groups\n",
    "## fit a 4th order polynomial over the tuning curve for visualization\n",
    "## But select simply the peak value as max for each group"
   ]
  },
  {
   "cell_type": "code",
   "execution_count": null,
   "metadata": {},
   "outputs": [],
   "source": [
    "maxPos=[]\n",
    "nAges=df.age.unique().shape[0]\n",
    "fig, ax = plt.subplots(nrows=nAges, \n",
    "                       ncols=1, \n",
    "                       sharex=True, \n",
    "                       sharey=True,\n",
    "                       figsize=(4.5/inToCm,15/inToCm))\n",
    "\n",
    "x=xax[1:]\n",
    "for i in range(nAges):\n",
    "    y=si_age.si.values[1:,i]\n",
    "    z=np.polyfit(x,y,4)\n",
    "    p = np.poly1d(z)\n",
    "    xp = np.linspace(0, 1.7, 1000)\n",
    "    putativeMax=x[np.argmax(y)]\n",
    "    if (y.max()>0):\n",
    "        #maxPos.append(np.argmax(p(xp)[:800])/(1000/1.7))\n",
    "        maxPos.append(putativeMax)\n",
    "        ax[i].axvline(maxPos[-1])\n",
    "    else:\n",
    "        maxPos.append(np.nan)\n",
    "\n",
    "    ax[i].plot(x, y, '.', xp, p(xp), '-')\n",
    "    ax[i].set_ylim([-.10,.4])"
   ]
  },
  {
   "cell_type": "markdown",
   "metadata": {},
   "source": [
    "Plot preferred bout frequency over age, using preference inferred from mean tuning curve"
   ]
  },
  {
   "cell_type": "code",
   "execution_count": null,
   "metadata": {},
   "outputs": [],
   "source": [
    "import scipy.stats\n",
    "pfp.paper()\n",
    "inToCm=2.54\n",
    "plt.figure(figsize=(4.5/inToCm,4.5/inToCm))\n",
    "ax = plt.gca()\n",
    "\n",
    "ys=np.array(maxPos)\n",
    "notNan=np.isfinite(ys)\n",
    "ys=ys[notNan]\n",
    "xs=df.age.unique()\n",
    "\n",
    "s,i,r,p,std=scipy.stats.linregress(xs,ys)\n",
    "t=np.linspace(10,30,100)\n",
    "l=i+s*t\n",
    "ax.plot(t,l,':',xs,ys,'.')\n",
    "\n",
    "ax.text(12,1.1,'R: {:.1f}'.format(r),color='k')\n",
    "ax.text(12,.9,\"p = {:.3f}\".format(p),color='k')\n",
    "\n",
    "\n",
    "\n",
    "ax.set_ylabel('Imax (seconds)')\n",
    "ax.set_xlabel('age (dpf)')\n",
    "ax.set_ylim([0,1.6])\n",
    "sns.despine()"
   ]
  },
  {
   "cell_type": "markdown",
   "metadata": {},
   "source": [
    "No tuning in mean curves detectable by analyzing the literal max"
   ]
  },
  {
   "cell_type": "markdown",
   "metadata": {},
   "source": [
    "# Individual animal analysis\n",
    "\n",
    "Now, run analogous analysis on individual animals"
   ]
  },
  {
   "cell_type": "code",
   "execution_count": null,
   "metadata": {},
   "outputs": [],
   "source": [
    "sns.set_palette('viridis',105)\n",
    "co=sns.color_palette(\"viridis\", 105)\n",
    "\n",
    "g_epiAn=dfEpiAn.groupby(['episode','animalIndex'],sort=True)[['si']]\n",
    "si_an=g_epiAn.mean().unstack().reset_index()\n",
    "si_an['xax']=xax\n",
    "\n",
    "fig, axes = plt.subplots(figsize=(3, 3))\n",
    "\n",
    "axes=si_an.plot(x='xax',\n",
    "                   y='si',\n",
    "                   kind='line',\n",
    "                   marker='.',\n",
    "                   yerr=0,\n",
    "                   linestyle=':',\n",
    "                   ax=axes,\n",
    "                   legend=True)\n",
    "\n",
    "axes.set_ylabel('attraction index')\n",
    "plt.xlim([0,xax.max()+xax.max()*0.1])\n",
    "axes.axhline(0,ls=':',color='k')\n",
    "axes.set_title('group frequency tuning');\n",
    "\n",
    "axes.legend_.remove()"
   ]
  },
  {
   "cell_type": "markdown",
   "metadata": {},
   "source": [
    "# Find preferred frequency for each animal\n",
    "\n",
    "interpolation was very sensitive to the degree of polinomial and I could not find convincing criteria to exclude bad fits.\n",
    "Went again with reading off the literal max of each animal curve.\n",
    "\n",
    "interpolation is still shown for visualization but not used!"
   ]
  },
  {
   "cell_type": "code",
   "execution_count": null,
   "metadata": {},
   "outputs": [],
   "source": [
    "fig, ax = plt.subplots(nrows=7, ncols=15, sharex=True, sharey=True,figsize=(30/inToCm,25/inToCm))\n",
    "ax=ax.ravel()\n",
    "col1=['gray','k']\n",
    "\n",
    "maxPosAllRawMax=[]\n",
    "maxPosAllRawMaxTr=[] \n",
    "ageAll=[]\n",
    "x=xax[1:]\n",
    "\n",
    "for i in range(si_an.si.shape[1]):\n",
    "    y=si_an.si.values[1:,i]\n",
    "    z=np.polyfit(x,y,2)\n",
    "    p = np.poly1d(z)\n",
    "    xp = np.linspace(0, 1.7, 1000)\n",
    "    ax[i].plot(x, y, '.', xp, p(xp), '-')\n",
    "    ax[i].set_ylim([-.20,.6])\n",
    "    ax[i].axis('off')\n",
    "    ax[i].set_title('Animal '+str(i))\n",
    "    putativeMax=x[np.argmax(y)]\n",
    "    maxPosAllRawMax.append(putativeMax) # all animals\n",
    "    if (y.max()>0.05): #only animals above threshold \n",
    "        maxPosAllRawMaxTr.append(putativeMax)\n",
    "        interpolated=np.argmax(p(xp))/(1000/1.7)\n",
    "        ax[i].axvline(interpolated)\n",
    "        ax[i].axvline(maxPosAllRawMaxTr[-1],color='r')\n",
    "    else:\n",
    "        maxPosAllRawMaxTr.append(np.nan)\n",
    "    ageAll.append(df[df.animalIndex==si_an.si.columns[i]].age.values[0])\n",
    "\n",
    "mpa=pd.DataFrame({'age':ageAll,'mp':maxPosAllRawMaxTr}) #mpa: max per animal, only animals above threshold\n",
    "maxPosIndMn=mpa.groupby(['age']).mean().mp\n",
    "maxPosIndSTD=mpa.groupby(['age']).std().mp\n",
    "print([maxPosIndMn,maxPosIndSTD])\n",
    "\n",
    "mpaAll=pd.DataFrame({'age':ageAll,'mp':maxPosAllRawMax}) #mpa: max per animal, all animals\n",
    "maxPosIndMnAll=mpaAll.groupby(['age']).mean().mp\n",
    "maxPosIndSTDAll=mpaAll.groupby(['age']).std().mp\n",
    "print([maxPosIndMnAll,maxPosIndSTDAll])"
   ]
  },
  {
   "cell_type": "code",
   "execution_count": null,
   "metadata": {},
   "outputs": [],
   "source": [
    "#visualize maxima per over age for individual animals. Note discrete max levels\n",
    "\n",
    "sns.jointplot(mpa.age,mpa.mp,alpha=0.2)"
   ]
  },
  {
   "cell_type": "markdown",
   "metadata": {},
   "source": [
    "# Figure 2D\n",
    "## plot the mean best frequency for each age and fit a line through the means\n",
    "## draw standard errors over the animals per age group\n",
    "\n",
    "For the final figure, plot the means of only the animals that responded above threshold.\n",
    "\n",
    "Comparison for all animals below"
   ]
  },
  {
   "cell_type": "code",
   "execution_count": null,
   "metadata": {},
   "outputs": [],
   "source": [
    "import scipy.stats\n",
    "pfp.paper()\n",
    "inToCm=2.54\n",
    "plt.figure(figsize=(4.5/inToCm,4.5/inToCm))\n",
    "ax = plt.gca()\n",
    "\n",
    "imaxCol='gray'\n",
    "\n",
    "xs=maxPosIndMn.index.values\n",
    "ys=maxPosIndMn.values\n",
    "s,i,r,p,std=scipy.stats.linregress(xs,ys)\n",
    "t=np.linspace(10,30,100)\n",
    "l=i+s*t\n",
    "\n",
    "#plot preferred interval and linear fit\n",
    "ax.plot(t,l,'--',xs,ys,'.',color=imaxCol,markersize=20)\n",
    "(_, caps, _)=ax.errorbar(xs,ys,maxPosIndSTD.values,ls='',color=imaxCol,alpha=0.5)\n",
    "\n",
    "for cap in caps:\n",
    "    cap.set_markeredgewidth(1)\n",
    "    \n",
    "    \n",
    "ax.text(22,1.3,'R: '+str(r)[:4],color=imaxCol)\n",
    "ax.text(22,1.15,\"p = {:.3f}\".format(p),color=imaxCol)\n",
    "\n",
    "#plot own bout interval and linear fit\n",
    "\n",
    "bidx=(dfEpiAn.boutDur<2) #exclude some extreme outliers where average bout duration > 2 seconds\n",
    "boutFreq=dfEpiAn[bidx].groupby('age').mean()['boutDur'].reset_index()\n",
    "x=boutFreq.age.values\n",
    "y=boutFreq.boutDur.values\n",
    "so,io,ro,po,stdo=scipy.stats.linregress(x,y)\n",
    "l2=io+so*t\n",
    "ax.plot(t,l2,'--',color='k')\n",
    "ax.plot(x,y,'.',color='k')#,t,l3,'m:')\n",
    "ax.text(22,.2,'R: {:.1f}'.format(ro),color='k')\n",
    "ax.text(22,.05,\"p = {:.3f}\".format(po),color='k')\n",
    "\n",
    "\n",
    "ax.text(11,1.7,'Preferred bout interval',color=imaxCol,fontsize=10)\n",
    "ax.text(11,1.55,'Own swim bout interval',color='k',fontsize=10)\n",
    "\n",
    "ax.set_ylabel('Interval (sec)')\n",
    "ax.set_xlabel('Age (dpf)')\n",
    "\n",
    "plt.yticks(np.arange(0,1.8,.4))\n",
    "ax.set_ylim([0,1.6])\n",
    "sns.despine()\n",
    "figPath=outputDir+'\\\\2D_BoutFreq_corr.svg'\n",
    "plt.savefig(figPath)"
   ]
  },
  {
   "cell_type": "markdown",
   "metadata": {},
   "source": [
    "### for comparison, plot the fit through all animals"
   ]
  },
  {
   "cell_type": "code",
   "execution_count": null,
   "metadata": {},
   "outputs": [],
   "source": [
    "import scipy.stats\n",
    "pfp.paper()\n",
    "inToCm=2.54\n",
    "plt.figure(figsize=(4.5/inToCm,4.5/inToCm))\n",
    "ax = plt.gca()\n",
    "\n",
    "imaxCol='gray'\n",
    "\n",
    "xs=maxPosIndMnAll.index.values\n",
    "ys=maxPosIndMnAll.values\n",
    "s,i,r,p,std=scipy.stats.linregress(xs,ys)\n",
    "t=np.linspace(10,30,100)\n",
    "l=i+s*t\n",
    "\n",
    "#plot preferred interval and linear fit\n",
    "ax.plot(t,l,'--',xs,ys,'.',color=imaxCol,markersize=20)\n",
    "(_, caps, _)=ax.errorbar(xs,ys,maxPosIndSTDAll.values,ls='',color=imaxCol,alpha=0.5)\n",
    "\n",
    "for cap in caps:\n",
    "    cap.set_markeredgewidth(1)\n",
    "    \n",
    "    \n",
    "ax.text(22,1.3,'R: '+str(r)[:4],color=imaxCol)\n",
    "ax.text(22,1.15,\"p = {:.3f}\".format(p),color=imaxCol)\n",
    "\n",
    "#plot own bout interval and linear fit\n",
    "\n",
    "bidx=(dfEpiAn.boutDur<2) #exclude some extreme outliers where average bout duration > 2 seconds\n",
    "boutFreq=dfEpiAn[bidx].groupby('age').mean()['boutDur'].reset_index()\n",
    "x=boutFreq.age.values\n",
    "y=boutFreq.boutDur.values\n",
    "so,io,ro,po,stdo=scipy.stats.linregress(x,y)\n",
    "l2=io+so*t\n",
    "ax.plot(t,l2,'--',color='k')\n",
    "ax.plot(x,y,'.',color='k')#,t,l3,'m:')\n",
    "ax.text(22,.2,'R: {:.1f}'.format(ro),color='k')\n",
    "ax.text(22,.05,\"p = {:.3f}\".format(po),color='k')\n",
    "#ax.text(11,1.7,'Preferred bout interval',color=imaxCol,fontsize=10)\n",
    "#ax.text(11,1.55,'Own swim bout interval',color='k',fontsize=10)\n",
    "ax.text(11,1.7,'all animals used - for comparison',color=imaxCol,fontsize=10)\n",
    "\n",
    "ax.set_ylabel('Interval (sec)')\n",
    "ax.set_xlabel('Age (dpf)')\n",
    "\n",
    "plt.yticks(np.arange(0,1.8,.4))\n",
    "ax.set_ylim([0,1.6])\n",
    "sns.despine()\n"
   ]
  },
  {
   "cell_type": "code",
   "execution_count": null,
   "metadata": {},
   "outputs": [],
   "source": [
    "#plot distribution of self bout frequency to justify threshold of 2 seconds \n",
    "plt.hist(dfDR[np.isfinite(dfDR.boutDur)].boutDur,bins=np.linspace(0,2.2,50));\n",
    "plt.axvline(2)"
   ]
  },
  {
   "cell_type": "markdown",
   "metadata": {},
   "source": [
    "from shutil import copy2\n",
    "\n",
    "def splitall(path):\n",
    "    allparts = []\n",
    "    while 1:\n",
    "        parts = os.path.split(path)\n",
    "        if parts[0] == path:  # sentinel for absolute paths\n",
    "            allparts.insert(0, parts[0])\n",
    "            break\n",
    "        elif parts[1] == path: # sentinel for relative paths\n",
    "            allparts.insert(0, parts[1])\n",
    "            break\n",
    "        else:\n",
    "            path = parts[0]\n",
    "            allparts.insert(0, parts[1])\n",
    "    return allparts\n",
    "\n",
    "\n",
    "\n",
    "for i,row in info.iterrows():\n",
    "    fn=row.txtPath\n",
    "    head, tail = os.path.split(fn)\n",
    "\n",
    "    copyList=[]\n",
    "    copyList.append(glob.glob(head+'\\\\ROI*.csv')[0])\n",
    "    copyList.append(glob.glob(head+'\\\\PositionTxt*.txt')[0])\n",
    "    copyList.append(glob.glob(head+'\\\\PL*.txt')[0])\n",
    "    copyList.append(glob.glob(head+'\\\\*anSize.csv')[0])\n",
    "    \n",
    "    for f in copyList:\n",
    "        print(f)\n",
    "        if f[0]=='E':\n",
    "            keepSlash=3\n",
    "        else:\n",
    "            keepSlash=4\n",
    "        toDirectory = \"e:\\\\b\\\\LarschAndBaier2018\\\\RawData\\\\\" + os.path.join(*splitall(f)[keepSlash:-1])+\"\\\\\"\n",
    "        #toDirectory = \"e:\\\\b\\\\LarschAndBaier2018\\\\RawData\\\\\" \n",
    "        if not os.path.isdir(toDirectory):\n",
    "            os.makedirs(toDirectory)\n",
    "        \n",
    "        copy2(f, toDirectory)\n",
    "        #os.chdir(toDirectory)\n",
    "        if 'nogaps.txt' in f:\n",
    "            old=glob.glob(toDirectory+'\\\\*nogaps.txt')[0]\n",
    "            t=datetime.strftime(row.expTime, '%Y-%m-%dT%H_%M_%S')\n",
    "            new=old[:-4]+str(i)+\"_\"+t+'.txt'\n",
    "            os.rename(old,new)\n",
    "            print(new)"
   ]
  },
  {
   "cell_type": "code",
   "execution_count": null,
   "metadata": {},
   "outputs": [],
   "source": []
  },
  {
   "cell_type": "code",
   "execution_count": null,
   "metadata": {},
   "outputs": [],
   "source": []
  }
 ],
 "metadata": {
  "kernelspec": {
   "display_name": "Python 3",
   "language": "python",
   "name": "python3"
  },
  "language_info": {
   "codemirror_mode": {
    "name": "ipython",
    "version": 3
   },
   "file_extension": ".py",
   "mimetype": "text/x-python",
   "name": "python",
   "nbconvert_exporter": "python",
   "pygments_lexer": "ipython3",
   "version": "3.6.5"
  }
 },
 "nbformat": 4,
 "nbformat_minor": 1
}
