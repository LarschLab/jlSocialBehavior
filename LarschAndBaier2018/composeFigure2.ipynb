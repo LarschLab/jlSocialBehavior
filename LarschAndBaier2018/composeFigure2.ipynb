{
 "cells": [
  {
   "cell_type": "code",
   "execution_count": null,
   "metadata": {},
   "outputs": [],
   "source": [
    "import svgutils.transform as sg\n",
    "import pandas as pd\n",
    "import os"
   ]
  },
  {
   "cell_type": "code",
   "execution_count": null,
   "metadata": {},
   "outputs": [],
   "source": [
    "propsFn='props.csv'\n",
    "props=pd.read_csv(propsFn, header=None, index_col=0, squeeze=True,delim_whitespace=True).to_dict()\n",
    "\n",
    "base=props['BaseDir']\n",
    "\n",
    "outputDir = os.path.join(base,props['outputDir'])+'\\\\'\n",
    "RawDataDir = os.path.join(base,'rawData\\\\')\n",
    "\n",
    "props"
   ]
  },
  {
   "cell_type": "code",
   "execution_count": null,
   "metadata": {},
   "outputs": [],
   "source": [
    "f1=RawDataDir+'artwork\\\\2A_PathAndSpeedCartoon.svg'\n",
    "f2=outputDir+'\\\\2B_PathAndSpeedPilot.svg'\n",
    "f4=outputDir+'\\\\2F_speedBoutVsConstan.svg'\n",
    "f3=outputDir+'\\\\2C_BoutFreq.svg'\n",
    "f6=outputDir+'\\\\2D_BoutFreq_corr.svg'\n",
    "f7=outputDir+'\\\\2G_Speed_corr.svg'\n",
    "f8=outputDir+'\\\\2Ea_BoutFreq_isolated.svg'\n",
    "f9=outputDir+'\\\\2Eb_BoutFreq_isolatedBar.svg'"
   ]
  },
  {
   "cell_type": "code",
   "execution_count": null,
   "metadata": {},
   "outputs": [],
   "source": [
    "from svgutils.compose import *\n",
    "fo3=outputDir+'\\\\Figure2.svg'\n",
    "Figure(\"16cm\", \"15cm\",\n",
    "        Panel(\n",
    "              Text(\"Figure 2\", 0, 0, size=12, weight='bold')\n",
    "             ).move(10, 20),\n",
    "        Panel(\n",
    "              SVG(f1).move(10,-30),\n",
    "              Text(\"A\", 0, 0, size=12, weight='bold')\n",
    "             ).move(10, 50),\n",
    "        Panel(\n",
    "              SVG(f2).move(0,-20),\n",
    "              Text(\"B\", 0, 0, size=12, weight='bold')\n",
    "             ).move(300, 50),\n",
    "        Panel(\n",
    "              SVG(f3),\n",
    "              Text(\"C\", -30, 0, size=12, weight='bold')\n",
    "             ).move(40, 200),\n",
    "        Panel(\n",
    "              SVG(f6),\n",
    "              Text(\"D\", -20, 0, size=12, weight='bold')\n",
    "             ).move(190, 200),\n",
    "\n",
    "        Panel(\n",
    "              SVG(f4),\n",
    "              Text(\"F\", -10, 0, size=12, weight='bold')\n",
    "             ).move(20, 380),\n",
    "        Panel(\n",
    "              SVG(f7),\n",
    "              Text(\"G\", -20, 0, size=12, weight='bold')\n",
    "             ).move(290, 380),\n",
    "        Panel(\n",
    "              SVG(f8),\n",
    "              Text(\"E\", -20, 0, size=12, weight='bold')\n",
    "             ).move(350, 200),\n",
    "        Panel(\n",
    "              SVG(f9),\n",
    "             ).move(515, 200)\n",
    "        ).save(fo3)"
   ]
  },
  {
   "cell_type": "code",
   "execution_count": null,
   "metadata": {},
   "outputs": [],
   "source": []
  },
  {
   "cell_type": "code",
   "execution_count": null,
   "metadata": {},
   "outputs": [],
   "source": []
  }
 ],
 "metadata": {
  "kernelspec": {
   "display_name": "Python 3",
   "language": "python",
   "name": "python3"
  },
  "language_info": {
   "codemirror_mode": {
    "name": "ipython",
    "version": 3
   },
   "file_extension": ".py",
   "mimetype": "text/x-python",
   "name": "python",
   "nbconvert_exporter": "python",
   "pygments_lexer": "ipython3",
   "version": "3.6.5"
  }
 },
 "nbformat": 4,
 "nbformat_minor": 1
}
