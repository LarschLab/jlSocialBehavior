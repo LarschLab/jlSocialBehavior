{
 "cells": [
  {
   "cell_type": "code",
   "execution_count": null,
   "metadata": {},
   "outputs": [],
   "source": [
    "import svgutils.transform as sg\n",
    "import pandas as pd\n",
    "import os"
   ]
  },
  {
   "cell_type": "code",
   "execution_count": null,
   "metadata": {},
   "outputs": [],
   "source": [
    "propsFn='props.csv'\n",
    "props=pd.read_csv(propsFn, header=None, index_col=0, squeeze=True,delim_whitespace=True).to_dict()\n",
    "\n",
    "base=props['BaseDir']\n",
    "\n",
    "outputDir = os.path.join(base,props['outputDir'])+'\\\\'\n",
    "RawDataDir = os.path.join(base,'rawData\\\\')\n",
    "\n",
    "props"
   ]
  },
  {
   "cell_type": "code",
   "execution_count": null,
   "metadata": {},
   "outputs": [],
   "source": [
    "f1=RawDataDir+'artwork\\\\4A_pairPermutationCartoon_c.svg'\n",
    "f2=outputDir+'\\\\4B_pairPermutation_b.svg'\n",
    "f3=outputDir+'\\\\4C_dyadPredictCorr.svg'\n",
    "f4=RawDataDir+'artwork\\\\4G_PairChoice_cartoon.svg'\n",
    "f5=outputDir+'\\\\4I_PairChoice.svg'\n",
    "\n",
    "f6=RawDataDir+'artwork\\\\4D_Model_cartoon.svg'\n",
    "f7=outputDir+'\\\\4E_Model_SocialCombinations.svg'\n",
    "f8=outputDir+'\\\\4F_Model_LinearCombinationsRealPs.svg'\n",
    "f9=outputDir+'\\\\4H_Model_QuartetCombinations.svg'\n",
    "f10=outputDir+'\\\\4Bb_pairPermutation_cbar.svg'"
   ]
  },
  {
   "cell_type": "code",
   "execution_count": null,
   "metadata": {},
   "outputs": [],
   "source": [
    "from svgutils.compose import *\n",
    "fo3=outputDir+'\\\\Figure4.svg'\n",
    "Figure(\"15cm\", \"11cm\", \n",
    "        Panel(\n",
    "              SVG(f1).move(10, 20).scale(2.5),\n",
    "              Text(\"A\", 20, 50, size=12, weight='bold')\n",
    "             ),\n",
    "        Panel(\n",
    "              SVG(f2),\n",
    "              Text(\"B\", 0, 10, size=12, weight='bold')\n",
    "             ).move(160, 40),\n",
    "       \n",
    "        Panel(SVG(f10)).move(250, 176),       \n",
    "       \n",
    "       Panel(\n",
    "              SVG(f3).move(0,0),\n",
    "              Text(\"C\", 0, 0, size=12, weight='bold')\n",
    "             ).move(340, 50),\n",
    "       \n",
    "        Panel(\n",
    "              SVG(f6).move(20, 240),\n",
    "              Text(\"D\", 20, 230, size=12, weight='bold')\n",
    "             ),\n",
    "        Panel(\n",
    "              SVG(f7),\n",
    "              Text(\"E\", -30, 0, size=12, weight='bold')\n",
    "             ).move(180, 230),\n",
    "       Panel(\n",
    "              SVG(f8).move(-0,0),\n",
    "              Text(\"F\", 0, 0, size=12, weight='bold')\n",
    "             ).move(340, 230),       \n",
    "\n",
    "        ).save(fo3)"
   ]
  },
  {
   "cell_type": "code",
   "execution_count": null,
   "metadata": {},
   "outputs": [],
   "source": []
  },
  {
   "cell_type": "code",
   "execution_count": null,
   "metadata": {},
   "outputs": [],
   "source": []
  }
 ],
 "metadata": {
  "kernelspec": {
   "display_name": "Python 3",
   "language": "python",
   "name": "python3"
  },
  "language_info": {
   "codemirror_mode": {
    "name": "ipython",
    "version": 3
   },
   "file_extension": ".py",
   "mimetype": "text/x-python",
   "name": "python",
   "nbconvert_exporter": "python",
   "pygments_lexer": "ipython3",
   "version": "3.6.5"
  }
 },
 "nbformat": 4,
 "nbformat_minor": 1
}
