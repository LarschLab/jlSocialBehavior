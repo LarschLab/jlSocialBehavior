{
 "cells": [
  {
   "cell_type": "markdown",
   "metadata": {},
   "source": [
    "# summary of bout to smooth path transition\n",
    "\n",
    "## is there a memory effect after dot movement transitions?\n",
    "\n",
    "### Summary of 3 experiments 20-23 dpf. did not include one experiment at 26dpf where smooth path was much more attractive than zero size path"
   ]
  },
  {
   "cell_type": "code",
   "execution_count": null,
   "metadata": {},
   "outputs": [],
   "source": [
    "%config InteractiveShellApp.pylab_import_all = False\n",
    "%matplotlib inline\n",
    "%pylab inline\n",
    "%reload_ext autoreload\n",
    "%autoreload 2\n",
    "\n",
    "import sys\n",
    "import os\n",
    "import fnmatch\n",
    "\n",
    "import numpy as np\n",
    "import math\n",
    "import matplotlib.pyplot as plt\n",
    "import pandas as pd\n",
    "from pandas import DataFrame, Series\n",
    "import seaborn as sns\n",
    "\n",
    "propsFn='props.csv'\n",
    "props=pd.read_csv(propsFn, header=None, index_col=0, squeeze=True,delim_whitespace=True).to_dict()\n",
    "\n",
    "base=props['BaseDir']\n",
    "expFile=props['allExpFn']\n",
    "\n",
    "RawDataDir = os.path.join(base,props['RawDataDir'])+'\\\\'\n",
    "ProcessingDir = os.path.join(base,props['ProcessingDir'])+'\\\\Fig3\\\\'\n",
    "outputDir = os.path.join(base,props['outputDir'])+'\\\\'\n",
    "\n",
    "if not os.path.isdir(ProcessingDir):\n",
    "    os.makedirs(ProcessingDir)\n",
    "if not os.path.isdir(outputDir):\n",
    "    os.makedirs(outputDir)\n",
    "\n",
    "os.chdir(r'C:\\\\Users\\\\johannes\\\\Dropbox\\\\python\\\\zFishBehavior\\\\dishGroupBehavior')\n",
    "\n",
    "import functions.matrixUtilities_joh as mu\n",
    "import matplotlib.pyplot as plt\n",
    "import models.experiment as xp\n",
    "import models.experiment_set as es\n",
    "import functions.paperFigureProps as pfp\n",
    "pfp.paper()\n",
    "inToCm=2.54\n"
   ]
  },
  {
   "cell_type": "code",
   "execution_count": null,
   "metadata": {},
   "outputs": [],
   "source": [
    "info=pd.read_csv(expFile, sep=',')#pd.read_csv(expFile,quotechar='\"', sep=',', converters={'bdGroup':ast.literal_eval})\n",
    "info=info[info.stimulusProtocol=='5d']\n",
    "info"
   ]
  },
  {
   "cell_type": "code",
   "execution_count": null,
   "metadata": {},
   "outputs": [],
   "source": [
    "# collect meta information and save to new csv file for batch processing\n",
    "\n",
    "aviPath=[]\n",
    "posPath=[]\n",
    "PLPath=[]\n",
    "expTime = []\n",
    "    \n",
    "for index,row in info.iterrows():\n",
    "    startDir=RawDataDir+row.path+'\\\\'\n",
    "    #startDir='D:\\\\data\\\\b\\\\2017\\\\'+row.path+'\\\\'\n",
    "    #if not os.path.isdir(startDir):\n",
    "    #    startDir='E:\\\\b\\\\2017\\\\'+row.path+'\\\\'\n",
    "        \n",
    "    posPath.append(glob.glob(startDir+'PositionTxt*.txt')[0])\n",
    "    PLPath.append(glob.glob(startDir+'PL*.txt')[0])\n",
    "    \n",
    "    head, tail = os.path.split(posPath[-1])\n",
    "    currTime=datetime.strptime(tail[-23:-4], '%Y-%m-%dT%H_%M_%S')\n",
    "    expTime.append(currTime)\n",
    "    \n",
    "info['txtPath']=posPath\n",
    "info['pairList']=PLPath\n",
    "\n",
    "info['epiDur'] = 6      # duration of individual episodes (default: 5 minutes)\n",
    "info['episodes'] = -1   # number of episodes to process: -1 to load all episodes (default: -1)\n",
    "info['inDish'] = 10#np.arange(len(posPath))*120     # time in dish before experiments started (default: 10)\n",
    "info['arenaDiameter_mm'] = 100 # arena diameter (default: 100 mm)\n",
    "info['minShift'] = 60 # minimum number of seconds to shift for control IAD\n",
    "info['episodePLcode'] = 0 # flag if first two characters of episode name encode animal pair matrix (default: 0)\n",
    "info['recomputeAnimalSize'] = 1 # flag to compute animals size from avi file (takes time, default: 1)\n",
    "info['SaveNeighborhoodMaps'] = 0 # flag to save neighborhood maps for subsequent analysis (takes time, default: 1)\n",
    "info['computeLeadership'] = 0 # flag to compute leadership index (takes time, default: 1)\n",
    "info['ComputeBouts'] = 0 # flag to compute swim bout frequency (takes time, default: 1)\n",
    "info['set'] = np.arange(len(posPath))   # experiment set: can label groups of experiments (default: 0)\n",
    "info['ProcessingDir']=ProcessingDir\n",
    "info['outputDir']=outputDir\n",
    "info['allowEpisodeSwitch']=1\n",
    "\n",
    "info['expTime']=expTime\n",
    "\n",
    "csvFile=os.path.join(ProcessingDir,'Fig3.csv')\n",
    "info.to_csv(csvFile,encoding='utf-8')\n",
    "info"
   ]
  },
  {
   "cell_type": "code",
   "execution_count": null,
   "metadata": {},
   "outputs": [],
   "source": [
    "def readExperiment(keepData=False):\n",
    "    tmp=es.experiment_set(csvFile=csvFile)\n",
    "    if keepData:\n",
    "        return tmp\n",
    "    else:\n",
    "        return 1\n",
    "\n",
    "expSet=readExperiment(keepData=True)"
   ]
  },
  {
   "cell_type": "code",
   "execution_count": null,
   "metadata": {},
   "outputs": [],
   "source": [
    "csvPath = []\n",
    "for f in [mu.splitall(x)[-1][:-4] for x in info.txtPath]:\n",
    "    csvPath.append(glob.glob(ProcessingDir+f+'*siSummary*.csv')[0])\n",
    "\n",
    "df=pd.DataFrame()\n",
    "i=0\n",
    "for fn in csvPath:\n",
    "    print(fn)\n",
    "    tmp=pd.read_csv(fn,index_col=0,sep=',')\n",
    "    tmp.animalSet=i\n",
    "    tmp.animalIndex=tmp.animalIndex+((i)*15)\n",
    "    df=pd.concat([df,tmp])\n",
    "    i+=1\n",
    "df['episode']=[x.strip().replace('_','') for x in df['episode']]\n",
    "\n",
    "print('df shape',df.shape)\n",
    "\n"
   ]
  },
  {
   "cell_type": "code",
   "execution_count": null,
   "metadata": {},
   "outputs": [],
   "source": [
    "d=df.time\n",
    "r=datetime(2017,1,1)\n",
    "t2=[pd.to_datetime(x).replace(day=1,month=1)for x in df.time]\n",
    "t3=[(x-r)/pd.Timedelta('1 hour') for x in t2]\n",
    "df['t2']=t2\n",
    "df['t3']=t3\n",
    "df.head()"
   ]
  },
  {
   "cell_type": "code",
   "execution_count": null,
   "metadata": {},
   "outputs": [],
   "source": [
    "sns.tsplot(data=df, time=\"t3\",value=\"si\",unit=\"animalIndex\",condition=\"episode\",estimator=np.nanmean,interpolate=False,err_style=\"ci_bars\");\n",
    "plt.xlim([0,24])"
   ]
  },
  {
   "cell_type": "code",
   "execution_count": null,
   "metadata": {},
   "outputs": [],
   "source": [
    "idx=(df['inDishTime']<60*10) & (df['inDishTime']>120)\n",
    "episodeNames=df['episode'].unique()\n",
    "dfDR=df[idx]\n",
    "tmp=dfDR.groupby(['episode','animalIndex'],sort=True)['si']\n",
    "xax=np.arange(episodeNames.shape[0])\n",
    "\n",
    "err=tmp.std().unstack().values.T\n",
    "\n",
    "fig, axes = plt.subplots(figsize=(10, 7))\n",
    "\n",
    "xt=xax.copy()\n",
    "xt[0]=0\n",
    "\n",
    "tmp=tmp.mean().unstack()\n",
    "tmp['xax']=xax\n",
    "\n",
    "axes=tmp.plot(x='xax',kind='line',marker='o',yerr=err,\n",
    "                                  linestyle=':',ax=axes,xticks=xt)\n",
    "\n",
    "\n",
    "axes.set_ylabel('attraction index')\n",
    "plt.xlim([0,xax.max()+xax.max()*0.1])\n",
    "\n",
    "lines, labels = axes.get_legend_handles_labels()\n",
    "axes.axhline(0,ls=':',color='k')\n",
    "axes.set_title('Individual Pair Disc Size Tuning, Night vs. Day, n=8 pairs');\n"
   ]
  },
  {
   "cell_type": "code",
   "execution_count": null,
   "metadata": {},
   "outputs": [],
   "source": [
    "tmp=dfDR.groupby(['episode','animalIndex'],sort=True)['si']\n",
    "tmp2=tmp.mean().reset_index()\n",
    "fig, ax = plt.subplots(figsize=(10,10))\n",
    "\n",
    "plt.axhline(0)\n",
    "sns.boxplot(x=tmp2['episode'],y=tmp2['si'])\n",
    "sns.swarmplot(x=tmp2['episode'],y=tmp2['si'],linewidth=1,edgecolor='gray')\n",
    "plt.ylim([-.1,.6])"
   ]
  },
  {
   "cell_type": "code",
   "execution_count": null,
   "metadata": {},
   "outputs": [],
   "source": [
    "xx=dfDR.groupby(['episode','animalIndex'],sort=True)['si'].mean().reset_index()\n",
    "useAnimals=np.where(xx[xx.episode==xx.episode.unique()[0]].si>0.1)[0]\n",
    "useAnimals"
   ]
  },
  {
   "cell_type": "code",
   "execution_count": null,
   "metadata": {},
   "outputs": [],
   "source": [
    "expAll=np.concatenate([x.pair for x in expSet.experiments])\n",
    "np.shape(expAll)"
   ]
  },
  {
   "cell_type": "code",
   "execution_count": null,
   "metadata": {},
   "outputs": [],
   "source": [
    "df.animalIndex==44"
   ]
  },
  {
   "cell_type": "code",
   "execution_count": null,
   "metadata": {},
   "outputs": [],
   "source": [
    "rng=np.arange(30*60*60*2,30*60*60*12)\n",
    "IADall=[]\n",
    "IADall_s=[]\n",
    "epiAll=[]\n",
    "\n",
    "\n",
    "for an in useAnimals:\n",
    "    idx = df.animalIndex==an\n",
    "    IADcurrent=np.concatenate([expAll[x].IAD() for x in np.where(idx)[0]])[rng]\n",
    "    IADall.append(IADcurrent)\n",
    "    IADcurrent=np.concatenate([expAll[x].spIAD_meanTrace() for x in np.where(idx)[0]])[rng]\n",
    "    IADall_s.append(IADcurrent)\n",
    "    currSet=df[df.animalIndex==an].animalSet.values[0]\n",
    "    print(an,currSet)\n",
    "    epiAll.append(expSet.experiments[currSet].episodeAll[rng])\n",
    "\n",
    "IADall=np.array(IADall)\n",
    "IADall_s=np.array(IADall_s)\n",
    "epiAll=np.array(epiAll)\n",
    "np.save(ProcessingDir+'IADall.npy',np.squeeze(np.array(IADall)))\n",
    "np.save(ProcessingDir+'IADall_s.npy',np.squeeze(np.array(IADall_s)))\n",
    "np.save(ProcessingDir+'epi.npy',epiAll)"
   ]
  },
  {
   "cell_type": "code",
   "execution_count": null,
   "metadata": {},
   "outputs": [],
   "source": [
    "iadStack=[]\n",
    "iadStack_s=[]\n",
    "epiStack=[]\n",
    "startAll=[]\n",
    "for an in range(IADall.shape[0]):\n",
    "    epi=epiAll[an]\n",
    "    subEpi=np.array([int(x[-1])for x in epi])\n",
    "    transition=(subEpi[1:]==2)&(subEpi[:-1]==1)\n",
    "    start=np.where(transition)[0]\n",
    "\n",
    "    for s in start:\n",
    "        iadStack.append(IADall[an,s-30*60:s+30*60*3])\n",
    "        iadStack_s.append(IADall[an,s-30*60:s+30*60*3])\n",
    "        epiStack.append(epi[s])\n",
    "        startAll.append(s)\n",
    "        \n",
    "\n",
    "iadStack=np.array(iadStack)\n",
    "iadStack_s=np.array(iadStack_s)\n",
    "epiStack=np.array(epiStack)\n",
    "startAll=np.array(startAll)\n",
    "iadStack.shape"
   ]
  },
  {
   "cell_type": "code",
   "execution_count": null,
   "metadata": {},
   "outputs": [],
   "source": [
    "df=pd.DataFrame(iadStack.T)"
   ]
  },
  {
   "cell_type": "code",
   "execution_count": null,
   "metadata": {},
   "outputs": [],
   "source": [
    "df.columns=epiStack\n",
    "df=df.stack().reset_index()\n",
    "df.columns=['frame','epi','iad']\n",
    "df['animal']=np.tile(np.repeat(np.arange(IADall.shape[0]),start.shape[0]),iadStack.shape[1])"
   ]
  },
  {
   "cell_type": "code",
   "execution_count": null,
   "metadata": {},
   "outputs": [],
   "source": [
    "fc=np.tile(startAll,iadStack.shape[1])\n",
    "df['fc']=df.frame+fc\n",
    "df['start']=fc\n",
    "df.shape"
   ]
  },
  {
   "cell_type": "code",
   "execution_count": null,
   "metadata": {},
   "outputs": [],
   "source": [
    "df.head(5)"
   ]
  },
  {
   "cell_type": "code",
   "execution_count": null,
   "metadata": {},
   "outputs": [],
   "source": [
    "labels=np.array(['B-B','B-S','S-S','B-X'])\n",
    "df['epiNice']=labels[np.unique(df.epi,return_inverse=True)[1]]\n",
    "df['trial']=np.unique(df.start,return_inverse=True)[1]\n",
    "df['anTrial']=df.animal+(df.animal.max()*(df.trial))\n",
    "df[:500:50]"
   ]
  },
  {
   "cell_type": "code",
   "execution_count": null,
   "metadata": {},
   "outputs": [],
   "source": [
    "df['frameR']=30*np.round(df.frame/30.)\n",
    "df['time']=df.frameR/(30*60.)\n",
    "dfx=df.groupby(['animal','epiNice','time']).mean().reset_index()\n",
    "dfx.shape\n",
    "dfx['expAn']=[['exp1x'+'%02i'%aa] for aa in dfx.animal] \n",
    "ff=ProcessingDir+'dfx.csv'\n",
    "dfx.to_csv(ff)\n",
    "print(ff)"
   ]
  },
  {
   "cell_type": "code",
   "execution_count": null,
   "metadata": {},
   "outputs": [],
   "source": [
    "dfAll=dfx\n",
    "newNames=np.array(['I-I-I','I-C-I','I-X-I','C-C-C'])\n",
    "nameIdx=np.unique(dfAll.epiNice,return_inverse=True)[1]\n",
    "dfAll['epiNew']=newNames[nameIdx]\n",
    "dfAll.head()"
   ]
  },
  {
   "cell_type": "code",
   "execution_count": null,
   "metadata": {
    "scrolled": false
   },
   "outputs": [],
   "source": [
    "pfp.paper()\n",
    "inToCm=2.54\n",
    "\n",
    "fig, ax = plt.subplots(figsize=(7/inToCm,4.5/inToCm))\n",
    "\n",
    "colOrder=np.array([2,0,1,3])\n",
    "co=[sns.color_palette(None, 8)[co] for co in colOrder]\n",
    "\n",
    "sns.tsplot(data=dfAll,time='time',value='iad',unit='animal',condition='epiNew',ax=ax,color=co)\n",
    "ax.axvline(1.0,ls=':',color='k')\n",
    "ax.axvline(2.5,ls=':',color='k')\n",
    "ax.set_ylim([25,45])\n",
    "ax.set_xticks([0,1,2,3,4])\n",
    "ax.set_xlabel('time [minutes]')\n",
    "ax.set_ylabel('inter animal \\n distance [mm]')\n",
    "box = ax.get_position()\n",
    "ax.set_position([box.x0, box.y0, box.width * 0.8, box.height])\n",
    "\n",
    "# Put a legend to the right of the current axis\n",
    "\n",
    "handles, labels = ax.get_legend_handles_labels()\n",
    "# reverse the order\n",
    "legOrder=np.array([2,3,0,1])\n",
    "ax.legend([handles[lo] for lo in legOrder], [labels[lo] for lo in legOrder],\n",
    "         loc='center left', bbox_to_anchor=(1, 0.5))\n",
    "\n",
    "#ax.legend()\n",
    "\n",
    "sns.despine()\n"
   ]
  },
  {
   "cell_type": "code",
   "execution_count": null,
   "metadata": {},
   "outputs": [],
   "source": [
    "pfp.paper()\n",
    "inToCm=2.54\n",
    "\n",
    "fig, ax = plt.subplots(figsize=(20/inToCm,10/inToCm))\n",
    "\n",
    "colOrder=np.array([2,0,1,3])\n",
    "co=[sns.color_palette(None, 8)[co] for co in colOrder]\n",
    "\n",
    "sns.tsplot(data=dfAll,time='time',value='iad',unit='animal',condition='epiNew',ax=ax,color=co)\n",
    "ax.axvline(1.0,ls=':',color='k')\n",
    "ax.axvline(2.5,ls=':',color='k')\n",
    "ax.set_ylim([15,45])\n",
    "ax.set_xticks([0,1,2,3,4])\n",
    "ax.set_xlabel('time [minutes]')\n",
    "ax.set_ylabel('inter animal \\n distance [mm]')\n",
    "box = ax.get_position()\n",
    "ax.set_position([box.x0, box.y0, box.width * 0.8, box.height])\n",
    "\n",
    "# Put a legend to the right of the current axis\n",
    "ax.legend(loc='center left', bbox_to_anchor=(1, 0.5))\n",
    "sns.despine()\n"
   ]
  },
  {
   "cell_type": "code",
   "execution_count": null,
   "metadata": {},
   "outputs": [],
   "source": [
    "dfxp=dfAll.pivot_table(index=['frame'],columns=['animal','epiNew'],values='iad')\n",
    "col=dfxp.columns\n",
    "dfxp.shape"
   ]
  },
  {
   "cell_type": "code",
   "execution_count": null,
   "metadata": {},
   "outputs": [],
   "source": [
    "dfxpRI=dfxp.reset_index()\n",
    "dif=dfxpRI-dfxpRI.loc[60].values\n",
    "nn=np.nanpercentile(dif,90,axis=0)"
   ]
  },
  {
   "cell_type": "code",
   "execution_count": null,
   "metadata": {},
   "outputs": [],
   "source": [
    "nor=np.tile(nn,dfxpRI.shape[0]).reshape((dfxpRI.shape[0],dfxpRI.shape[1]))\n",
    "nor.shape"
   ]
  },
  {
   "cell_type": "code",
   "execution_count": null,
   "metadata": {},
   "outputs": [],
   "source": [
    "dfxpn=(dfxpRI-dfxpRI.loc[60].values)/nor\n",
    "\n",
    "dfNew=pd.DataFrame(dfxpn.values[:,1:])\n",
    "dfNew.columns=col\n",
    "dfNew['frame']=dfAll.frame.unique()\n",
    "dfNew\n",
    "dfxn=dfNew.stack().stack().reset_index()\n",
    "dfxn.columns=['time','epiNew','anCont','iad']\n",
    "dfxn.time=dfxn.time/60.\n",
    "dfxn.head()"
   ]
  },
  {
   "cell_type": "code",
   "execution_count": null,
   "metadata": {},
   "outputs": [],
   "source": [
    "fig, ax = plt.subplots(figsize=(7/inToCm,4.5/inToCm))\n",
    "\n",
    "useAn=dfxn[dfxn.epiNew=='I-C-I'].pivot_table(index='time',columns='anCont',values='iad').reset_index().values.min(axis=0)>-1\n",
    "useAn1=np.where(useAn[1:])[0]#\n",
    "useAn=dfxn[dfxn.epiNew=='I-X-I'].pivot_table(index='time',columns='anCont',values='iad').reset_index().values.min(axis=0)>-1\n",
    "useAn2=np.where(useAn[1:])[0]#[1:]\n",
    "use=(dfxn.epiNew.isin(['I-C-I','I-X-I']).values)&((dfxn.anCont.isin(list(useAn1)).values)&(dfxn.anCont.isin(list(useAn2)).values))\n",
    "\n",
    "sns.tsplot(data=dfxn[use],time='time',value='iad',unit='anCont',condition='epiNew',ax=ax,legend=False)\n",
    "\n",
    "ax.axvline(1.0,ls=':',color='k')\n",
    "ax.axvline(2.5,ls=':',color='k')\n",
    "ax.axhline(0,color='gray')\n",
    "ax.set_ylim([-.3,1.2])\n",
    "ax.set_xlim([0.9,3])\n",
    "ax.set_xticks([1,2,3])\n",
    "ax.set_yticks([0,1])\n",
    "ax.set_xlabel('Time [minutes]')\n",
    "ax.set_ylabel('Normalized dot animal \\n distance (mm)')\n",
    "\n",
    "box = ax.get_position()\n",
    "ax.set_position([box.x0, box.y0, box.width * 0.8, box.height])\n",
    "\n",
    "\n",
    "sns.despine()\n",
    "figPath=outputDir+'\\\\3C_PathTransition_IadOverTimeNorm.svg'\n",
    "plt.savefig(figPath)"
   ]
  },
  {
   "cell_type": "code",
   "execution_count": null,
   "metadata": {},
   "outputs": [],
   "source": [
    "fig, ax = plt.subplots(figsize=(20/inToCm,10/inToCm))\n",
    "\n",
    "dfxn['ts']=dfxn.time*60\n",
    "sns.tsplot(data=dfxn[use],time='ts',value='iad',unit='anCont',condition='epiNew',ax=ax)\n",
    "ax.axvline(60,ls=':',color='k')\n",
    "ax.set_ylim([-.05,0.3])\n",
    "ax.set_xlim([58,65])\n",
    "#ax.set_xticks([1,2,3])\n",
    "#ax.set_yticks([0,1])\n",
    "ax.set_xlabel('time [seconds]')\n",
    "ax.set_ylabel('normalized inter animal \\n distance [mm]')\n",
    "\n",
    "box = ax.get_position()\n",
    "ax.set_position([box.x0, box.y0, box.width * 0.8, box.height])\n",
    "\n",
    "# Put a legend to the right of the current axis\n",
    "ax.legend(loc='center left', bbox_to_anchor=(1, 0.5))\n",
    "sns.despine()\n"
   ]
  },
  {
   "cell_type": "code",
   "execution_count": null,
   "metadata": {},
   "outputs": [],
   "source": [
    "dfxn[use].anCont.unique()"
   ]
  },
  {
   "cell_type": "code",
   "execution_count": null,
   "metadata": {},
   "outputs": [],
   "source": [
    "pfp.paper()\n",
    "inToCm=2.54\n",
    "\n",
    "fig, ax = plt.subplots(figsize=(7/inToCm,4.5/inToCm))\n",
    "colOrder=np.array([2,0,1,3])\n",
    "co=[sns.color_palette(None, 8)[co] for co in colOrder]\n",
    "\n",
    "sns.tsplot(data=dfAll[dfAll.animal.isin(dfxn[use].anCont.unique())],\n",
    "           time='time',value='iad',unit='animal',condition='epiNew',ax=ax,color=co)\n",
    "ax.axvline(1.0,ls=':',color='k')\n",
    "ax.axvline(2.5,ls=':',color='k')\n",
    "ax.set_ylim([22,45])\n",
    "ax.set_xticks([0,1,2,3,4])\n",
    "ax.set_xlabel('Time (minutes)')\n",
    "ax.set_ylabel('Dot animal \\n distance (mm)')\n",
    "box = ax.get_position()\n",
    "ax.set_position([box.x0, box.y0, box.width * 0.8, box.height])\n",
    "\n",
    "# Put a legend to the right of the current axis\n",
    "ax.legend(loc='center left', bbox_to_anchor=(1, 0.5))\n",
    "sns.despine()\n",
    "\n",
    "figPath=outputDir+'\\\\3B_PathTransition_IadOverTime.svg'\n",
    "plt.savefig(figPath)"
   ]
  },
  {
   "cell_type": "code",
   "execution_count": null,
   "metadata": {},
   "outputs": [],
   "source": [
    "pfp.paper()\n",
    "inToCm=2.54\n",
    "\n",
    "fig, ax = plt.subplots(figsize=(20/inToCm,10/inToCm))\n",
    "\n",
    "colOrder=np.array([2,0,1,3])\n",
    "co=[sns.color_palette(None, 8)[co] for co in colOrder]\n",
    "\n",
    "sns.tsplot(data=dfAll[dfAll.animal.isin(dfxn[use].anCont.unique())],\n",
    "           time='time',value='iad',unit='animal',condition='epiNew',ax=ax,color=co)\n",
    "\n",
    "ax.axvline(1.0,ls=':',color='k')\n",
    "ax.axvline(2.5,ls=':',color='k')\n",
    "ax.set_ylim([22,45])\n",
    "ax.set_xticks([0,1,2,3,4])\n",
    "ax.set_xlabel('time [minutes]')\n",
    "ax.set_ylabel('inter animal \\n distance [mm]')\n",
    "box = ax.get_position()\n",
    "ax.set_position([box.x0, box.y0, box.width * 0.8, box.height])\n",
    "\n",
    "# Put a legend to the right of the current axis\n",
    "ax.legend(loc='center left', bbox_to_anchor=(1, 0.5))\n",
    "sns.despine()\n",
    "\n"
   ]
  },
  {
   "cell_type": "code",
   "execution_count": null,
   "metadata": {},
   "outputs": [],
   "source": [
    "ii=use&(dfxn.epiNew=='I-C-I').values\n",
    "bs=dfxn[ii].pivot_table(index='time',columns='anCont',values='iad').reset_index().values[:,1:]\n",
    "plt.plot(bs,'.-')\n",
    "plt.ylim([-.2,.8])\n",
    "plt.xlim([50,180])\n",
    "plt.axhline(0,ls=':')"
   ]
  },
  {
   "cell_type": "code",
   "execution_count": null,
   "metadata": {},
   "outputs": [],
   "source": [
    "ii=use&(dfxn.epiNew=='I-X-I').values\n",
    "bx=dfxn[ii].pivot_table(index='time',columns='anCont',values='iad').reset_index().values[:,1:]\n",
    "plt.plot(bx,'.-')\n",
    "plt.ylim([-.2,.8])\n",
    "plt.xlim([50,180])\n",
    "plt.axhline(0,ls=':')"
   ]
  },
  {
   "cell_type": "code",
   "execution_count": null,
   "metadata": {},
   "outputs": [],
   "source": [
    "def getSlope(X,rng):\n",
    "    t=np.arange(rng.shape[0])\n",
    "    tmp=np.zeros((X.shape[1],5))\n",
    "    for i in range(X.shape[1]):\n",
    "        tmp[i,:]=stats.linregress(t,X[rng,i]) #s,i,r,p,std\n",
    "\n",
    "    return tmp\n"
   ]
  },
  {
   "cell_type": "code",
   "execution_count": null,
   "metadata": {},
   "outputs": [],
   "source": [
    "pfp.paper()\n",
    "inToCm=2.54\n",
    "\n",
    "fig, ax = plt.subplots(figsize=(2.5/inToCm,4.5/inToCm))\n",
    "\n",
    "bst=getSlope(bs,np.arange(60,65))[:,0]\n",
    "bxt=getSlope(bx,np.arange(60,65))[:,0]\n",
    "#bst=np.argmax(bs[60:80,:]>0.2,axis=0)\n",
    "#bxt=np.argmax(bx[60:80,:]>0.2,axis=0)\n",
    "\n",
    "crossThreshold=np.hstack([bst,bxt])\n",
    "lab=np.array(['I-C-I','I-X-I'])\n",
    "\n",
    "dfCT=pd.DataFrame({'ds':crossThreshold})\n",
    "dfCT['stimulus']=np.repeat(lab,bst.shape)\n",
    "#sns.boxplot(data=dfCT,x='stimulus',y='ds',ax=ax,linewidth=2)\n",
    "sns.swarmplot(data=dfCT,x='stimulus',y='ds',ax=ax,linewidth=1,edgecolor='gray',zorder=1)\n",
    "sns.pointplot(data=dfCT,x='stimulus',y='ds',ax=ax,ci='sd',markers='_',color='k',scale=3,join=False,\n",
    "              errwidth=1,\n",
    "              capsize=.3,\n",
    "             zorder=100)\n",
    "sns.pointplot(data=dfCT,x='stimulus',y='ds',ax=ax,ci=None,markers='_',color='r',scale=3,join=False)\n",
    "plt.xlabel('Transition')\n",
    "sns.despine()\n",
    "ax.set_ylabel('Separation slope \\n (%/second)')\n",
    "figPath=outputDir+'\\\\3D_dissociationTime.svg'\n",
    "plt.savefig(figPath)"
   ]
  },
  {
   "cell_type": "markdown",
   "metadata": {},
   "source": [
    "from shutil import copy2\n",
    "\n",
    "\n",
    "\n",
    "\n",
    "\n",
    "for i,row in info.iterrows():\n",
    "    fn=row.txtPath\n",
    "    head, tail = os.path.split(fn)\n",
    "\n",
    "    copyList=[]\n",
    "    copyList.append(glob.glob(head+'\\\\ROI*.csv')[0])\n",
    "    copyList.append(glob.glob(head+'\\\\PositionTxt*.txt')[0])\n",
    "    copyList.append(glob.glob(head+'\\\\PL*.txt')[0])\n",
    "    copyList.append(glob.glob(head+'\\\\*anSize.csv')[0])\n",
    "    \n",
    "    for f in copyList:\n",
    "        print(f)\n",
    "        if f[0]=='E':\n",
    "            keepSlash=3\n",
    "        else:\n",
    "            keepSlash=4\n",
    "        toDirectory = \"e:\\\\b\\\\LarschAndBaier2018\\\\RawData\\\\\" + os.path.join(*splitall(f)[keepSlash:-1])+\"\\\\\"\n",
    "        #toDirectory = \"e:\\\\b\\\\LarschAndBaier2018\\\\RawData\\\\\" \n",
    "        if not os.path.isdir(toDirectory):\n",
    "            os.makedirs(toDirectory)\n",
    "        \n",
    "        copy2(f, toDirectory)\n"
   ]
  },
  {
   "cell_type": "code",
   "execution_count": null,
   "metadata": {},
   "outputs": [],
   "source": []
  }
 ],
 "metadata": {
  "kernelspec": {
   "display_name": "Python 3",
   "language": "python",
   "name": "python3"
  },
  "language_info": {
   "codemirror_mode": {
    "name": "ipython",
    "version": 3
   },
   "file_extension": ".py",
   "mimetype": "text/x-python",
   "name": "python",
   "nbconvert_exporter": "python",
   "pygments_lexer": "ipython3",
   "version": "3.6.5"
  }
 },
 "nbformat": 4,
 "nbformat_minor": 2
}
