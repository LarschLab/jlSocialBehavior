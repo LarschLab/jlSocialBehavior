{
 "cells": [
  {
   "cell_type": "code",
   "execution_count": null,
   "metadata": {},
   "outputs": [],
   "source": [
    "import svgutils.transform as sg\n",
    "import pandas as pd\n",
    "import os"
   ]
  },
  {
   "cell_type": "code",
   "execution_count": null,
   "metadata": {},
   "outputs": [],
   "source": [
    "propsFn='props.csv'\n",
    "props=pd.read_csv(propsFn, header=None, index_col=0, squeeze=True,delim_whitespace=True).to_dict()\n",
    "\n",
    "base=props['BaseDir']\n",
    "\n",
    "outputDir = os.path.join(base,props['outputDir'])+'\\\\'\n",
    "RawDataDir = os.path.join(base,'rawData\\\\')\n",
    "\n",
    "props"
   ]
  },
  {
   "cell_type": "code",
   "execution_count": null,
   "metadata": {},
   "outputs": [],
   "source": [
    "f4=RawDataDir+'artwork\\\\4G_PairChoice_cartoon.svg'\n",
    "f5=outputDir+'\\\\4I_PairChoice.svg'\n",
    "f9=outputDir+'\\\\4H_Model_QuartetCombinations.svg'"
   ]
  },
  {
   "cell_type": "code",
   "execution_count": null,
   "metadata": {},
   "outputs": [],
   "source": [
    "from svgutils.compose import *\n",
    "fo3=outputDir+'\\\\Figure5.svg'\n",
    "Figure(\"15cm\", \"6cm\", \n",
    "        Panel(\n",
    "              Text(\"Figure 5\", 0, 0, size=12, weight='bold')\n",
    "             ).move(10, 20),\n",
    "       \n",
    "       Panel(\n",
    "              SVG(f4).scale(2).move(20, 5),\n",
    "              Text(\"A\", 20, 20, size=12, weight='bold')\n",
    "             ).move(0, 40),\n",
    "       Panel(\n",
    "              SVG(f9).move(10, 0),\n",
    "              Text(\"B\", -20, 20, size=12, weight='bold')\n",
    "             ).move(170, 40),       \n",
    "       \n",
    "       Panel(\n",
    "              SVG(f5).move(10, 0),\n",
    "              Text(\"C\", -10, 20, size=12, weight='bold')\n",
    "             ).move(320, 40),\n",
    "        ).save(fo3)"
   ]
  },
  {
   "cell_type": "code",
   "execution_count": null,
   "metadata": {},
   "outputs": [],
   "source": []
  },
  {
   "cell_type": "code",
   "execution_count": null,
   "metadata": {},
   "outputs": [],
   "source": []
  }
 ],
 "metadata": {
  "kernelspec": {
   "display_name": "Python 3",
   "language": "python",
   "name": "python3"
  },
  "language_info": {
   "codemirror_mode": {
    "name": "ipython",
    "version": 3
   },
   "file_extension": ".py",
   "mimetype": "text/x-python",
   "name": "python",
   "nbconvert_exporter": "python",
   "pygments_lexer": "ipython3",
   "version": "3.6.5"
  }
 },
 "nbformat": 4,
 "nbformat_minor": 1
}
