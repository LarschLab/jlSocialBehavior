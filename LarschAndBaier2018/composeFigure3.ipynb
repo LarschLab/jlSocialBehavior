{
 "cells": [
  {
   "cell_type": "code",
   "execution_count": null,
   "metadata": {},
   "outputs": [],
   "source": [
    "import svgutils.transform as sg\n",
    "import pandas as pd\n",
    "import os"
   ]
  },
  {
   "cell_type": "code",
   "execution_count": null,
   "metadata": {},
   "outputs": [],
   "source": [
    "propsFn='props.csv'\n",
    "props=pd.read_csv(propsFn, header=None, index_col=0, squeeze=True,delim_whitespace=True).to_dict()\n",
    "\n",
    "base=props['BaseDir']\n",
    "\n",
    "outputDir = os.path.join(base,props['outputDir'])+'\\\\'\n",
    "RawDataDir = os.path.join(base,'rawData\\\\')\n",
    "\n",
    "props"
   ]
  },
  {
   "cell_type": "code",
   "execution_count": null,
   "metadata": {},
   "outputs": [],
   "source": [
    "f1=RawDataDir+'artwork\\\\3A_PathTransition_Cartoon.svg'\n",
    "f2=outputDir+'\\\\3B_PathTransition_IadOverTime.svg'\n",
    "f3=outputDir+'\\\\3C_PathTransition_IadOverTimeNorm.svg'\n",
    "f4=outputDir+'\\\\3D_dissociationTime.svg'"
   ]
  },
  {
   "cell_type": "code",
   "execution_count": null,
   "metadata": {},
   "outputs": [],
   "source": [
    "from svgutils.compose import *\n",
    "fo3=outputDir+'\\\\Figure3.svg'\n",
    "Figure(\"12cm\", \"10cm\", \n",
    "        Panel(\n",
    "              Text(\"Figure 3\", 0, 0, size=12, weight='bold')\n",
    "             ).move(10, 20),\n",
    "        Panel(\n",
    "              SVG(f1).move(0, 40),\n",
    "              Text(\"A\", 20, 40, size=12, weight='bold')\n",
    "             ),\n",
    "        Panel(\n",
    "              SVG(f2).move(20, 0),\n",
    "              Text(\"B\", 0, 0, size=12, weight='bold')\n",
    "             ).move(220, 40),\n",
    "       Panel(\n",
    "              SVG(f3).move(20, 0),\n",
    "              Text(\"C\", 0, 0, size=12, weight='bold')\n",
    "             ).move(20, 200),\n",
    "       Panel(\n",
    "              SVG(f4).move(60, 0),\n",
    "              Text(\"D\", 0, 0, size=12, weight='bold')\n",
    "             ).move(220, 200)\n",
    "      ).save(fo3)"
   ]
  },
  {
   "cell_type": "code",
   "execution_count": null,
   "metadata": {},
   "outputs": [],
   "source": []
  },
  {
   "cell_type": "code",
   "execution_count": null,
   "metadata": {},
   "outputs": [],
   "source": []
  }
 ],
 "metadata": {
  "kernelspec": {
   "display_name": "Python 3",
   "language": "python",
   "name": "python3"
  },
  "language_info": {
   "codemirror_mode": {
    "name": "ipython",
    "version": 3
   },
   "file_extension": ".py",
   "mimetype": "text/x-python",
   "name": "python",
   "nbconvert_exporter": "python",
   "pygments_lexer": "ipython3",
   "version": "3.6.5"
  }
 },
 "nbformat": 4,
 "nbformat_minor": 1
}
