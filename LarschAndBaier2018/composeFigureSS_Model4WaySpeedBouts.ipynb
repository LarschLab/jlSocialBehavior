{
 "cells": [
  {
   "cell_type": "code",
   "execution_count": null,
   "metadata": {},
   "outputs": [],
   "source": [
    "import svgutils.transform as sg\n",
    "import pandas as pd\n",
    "import os"
   ]
  },
  {
   "cell_type": "code",
   "execution_count": null,
   "metadata": {},
   "outputs": [],
   "source": [
    "propsFn='props.csv'\n",
    "props=pd.read_csv(propsFn, header=None, index_col=0, squeeze=True,delim_whitespace=True).to_dict()\n",
    "\n",
    "base=props['BaseDir']\n",
    "\n",
    "outputDir = os.path.join(base,props['outputDir'])+'\\\\'\n",
    "RawDataDir = os.path.join(base,'rawData\\\\')\n",
    "\n",
    "props"
   ]
  },
  {
   "cell_type": "code",
   "execution_count": null,
   "metadata": {},
   "outputs": [],
   "source": [
    "f5=outputDir+'\\\\S7E_Model_QuartetSpeedBout1.svg'\n",
    "f2=outputDir+'\\\\S7B_Model_QuartetSpeedBout2.svg'\n",
    "f3=outputDir+'\\\\S7C_Model_QuartetSpeedBout3.svg'\n",
    "f4=outputDir+'\\\\S7D_Model_QuartetSpeedBout4.svg'\n",
    "f1=outputDir+'\\\\S7A_Model_QuartetExplicitPreference.svg'"
   ]
  },
  {
   "cell_type": "code",
   "execution_count": null,
   "metadata": {},
   "outputs": [],
   "source": [
    "from svgutils.compose import *\n",
    "fo3=outputDir+'\\\\FigureS7_model4WaySpeedBouts.svg'\n",
    "Figure(\"15cm\", \"22cm\", \n",
    "        \n",
    "        Panel(\n",
    "              SVG(f1).move(10, 0),\n",
    "              Text(\"A\", 0, 0, size=12, weight='bold')\n",
    "             ).move(0, 10),\n",
    "        Panel(\n",
    "              SVG(f2).move(10, 0),\n",
    "              Text(\"B\", 0, 0, size=12, weight='bold')\n",
    "             ).move(280, 10),\n",
    "       Panel(\n",
    "              SVG(f3).move(10, 0),\n",
    "              Text(\"C\", 0, 0, size=12, weight='bold')\n",
    "             ).move(0, 290),\n",
    "       Panel(\n",
    "              SVG(f4).move(10, 0),\n",
    "              Text(\"D\", 0, 0, size=12, weight='bold')\n",
    "             ).move(280, 290),\n",
    "        Panel(\n",
    "              SVG(f5).move(10, 0),\n",
    "              Text(\"E\", 0, 0, size=12, weight='bold')\n",
    "             ).move(0, 570)\n",
    "      ).save(fo3)"
   ]
  },
  {
   "cell_type": "code",
   "execution_count": null,
   "metadata": {},
   "outputs": [],
   "source": []
  },
  {
   "cell_type": "code",
   "execution_count": null,
   "metadata": {},
   "outputs": [],
   "source": []
  }
 ],
 "metadata": {
  "kernelspec": {
   "display_name": "Python 3",
   "language": "python",
   "name": "python3"
  },
  "language_info": {
   "codemirror_mode": {
    "name": "ipython",
    "version": 3
   },
   "file_extension": ".py",
   "mimetype": "text/x-python",
   "name": "python",
   "nbconvert_exporter": "python",
   "pygments_lexer": "ipython3",
   "version": "3.6.5"
  }
 },
 "nbformat": 4,
 "nbformat_minor": 1
}
