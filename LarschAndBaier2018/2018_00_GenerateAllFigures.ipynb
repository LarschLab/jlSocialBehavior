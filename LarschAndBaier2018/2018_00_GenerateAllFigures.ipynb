{
 "cells": [
  {
   "cell_type": "markdown",
   "metadata": {},
   "source": [
    "# Generate figures for Larsch & Baier 2018\n",
    "## Biological motion as a perceptual mechanism for social affiliation"
   ]
  },
  {
   "cell_type": "code",
   "execution_count": null,
   "metadata": {},
   "outputs": [],
   "source": [
    "import os\n",
    "\n",
    "if 'startDirMaster' not in locals():\n",
    "    \n",
    "    startDirMaster=os.getcwd()\n",
    "    print('setting startDirMaster to ', startDirMaster)\n",
    "else:\n",
    "    print('startDirMaster already set to', startDirMaster)"
   ]
  },
  {
   "cell_type": "markdown",
   "metadata": {},
   "source": [
    "### Figure 1"
   ]
  },
  {
   "cell_type": "code",
   "execution_count": null,
   "metadata": {},
   "outputs": [],
   "source": [
    "#Figure 1B: 1B_physicalVsVirtual_IAD_SI\n",
    "#Figure 1C: 1C_physicalVsVirtual_SI_correlation\n",
    "%run ./2018_BM_Fig1BC_TruePairVsSkype.ipynb\n",
    "os.chdir(startDirMaster)"
   ]
  },
  {
   "cell_type": "code",
   "execution_count": null,
   "metadata": {},
   "outputs": [],
   "source": [
    "#Figure 1D: 1D_physicalVsVirtual_adaptation\n",
    "%run ./2018_BM_Fig1D_habituation.ipynb\n",
    "os.chdir(startDirMaster)"
   ]
  },
  {
   "cell_type": "code",
   "execution_count": null,
   "metadata": {},
   "outputs": [],
   "source": [
    "#Figure 1E: 1E_physical_SI_overAge\n",
    "#Figure 1Fa: 1Fa_DotSizePrefCurves\n",
    "#Figure 1Fb: 1Fb_dotSizePrefCorr\n",
    "#Figure 1G: 1G_physicalVsVirtual_maps\n",
    "#Figure S3: S3_pairPlot\n",
    "#Figure S4: S4_Age_NN_profiles\n",
    "%run ./2018_BM_Fig1EFG_S34.ipynb\n",
    "os.chdir(startDirMaster)"
   ]
  },
  {
   "cell_type": "markdown",
   "metadata": {},
   "source": [
    "### Figure 2"
   ]
  },
  {
   "cell_type": "code",
   "execution_count": null,
   "metadata": {},
   "outputs": [],
   "source": [
    "#Figure 2B: 2B_PathAndSpeedPilot\n",
    "%run ./2018_BM_Fig2B.ipynb\n",
    "os.chdir(startDirMaster)"
   ]
  },
  {
   "cell_type": "code",
   "execution_count": null,
   "metadata": {},
   "outputs": [],
   "source": [
    "#Figure 2C: 2C_BoutFreq\n",
    "#Figure 2D: 2D_BoutFreq_corr\n",
    "%run ./2018_BM_Fig2CD.ipynb\n",
    "os.chdir(startDirMaster)"
   ]
  },
  {
   "cell_type": "code",
   "execution_count": null,
   "metadata": {},
   "outputs": [],
   "source": [
    "#Figure 2Ea: 2Ea_BoutFreq_isolated\n",
    "#Figure 2Eb: 2Eb_BoutFreq_isolatedBar\n",
    "%run ./2018_BM_Fig2E.ipynb\n",
    "os.chdir(startDirMaster)"
   ]
  },
  {
   "cell_type": "code",
   "execution_count": null,
   "metadata": {},
   "outputs": [],
   "source": [
    "#Figure 2F: 2F_speedBoutVsConstan\n",
    "#Figure 2G: 2G_Speed_corr\n",
    "%run ./2018_BM_Fig2FG.ipynb\n",
    "os.chdir(startDirMaster)"
   ]
  },
  {
   "cell_type": "markdown",
   "metadata": {},
   "source": [
    "### Figure 3"
   ]
  },
  {
   "cell_type": "code",
   "execution_count": null,
   "metadata": {},
   "outputs": [],
   "source": [
    "#Figure 3B: 3B_PathTransition_IadOverTime\n",
    "#Figure 3C: 3C_PathTransition_IadOverTimeNorm\n",
    "#Figure 3D: 3D_dissociationTime\n",
    "%run ./2018_BM_Fig3.ipynb\n",
    "os.chdir(startDirMaster)\n"
   ]
  },
  {
   "cell_type": "markdown",
   "metadata": {},
   "source": [
    "### Figure 4"
   ]
  },
  {
   "cell_type": "code",
   "execution_count": null,
   "metadata": {},
   "outputs": [],
   "source": [
    "#Figure 4B: 4B_pairPermutation_b\n",
    "#Figure 4Bb:4Bb_pairPermutation_cbar\n",
    "#Figure 4C: 4C_dyadPredictCorr\n",
    "#Figure 4E: 4E_Model_SocialCombinations\n",
    "#Figure 4F: 4F_Model_LinearCombinationsRealPs\n",
    "#Figure S6: S6_PairPermutationSTD\n",
    "%run ./2018_BM_Fig4BCEF_S6_skypePermutations.ipynb\n",
    "os.chdir(startDirMaster)"
   ]
  },
  {
   "cell_type": "markdown",
   "metadata": {},
   "source": [
    "### Figure 5"
   ]
  },
  {
   "cell_type": "code",
   "execution_count": null,
   "metadata": {},
   "outputs": [],
   "source": [
    "#Figure 5B: 4H_Model_QuartetCombinations\n",
    "#Figure 5C: 4I_PairChoice\n",
    "%run ./2018_BM_Fig4HI_ageSorting.ipynb\n",
    "os.chdir(startDirMaster)"
   ]
  },
  {
   "cell_type": "markdown",
   "metadata": {},
   "source": [
    "### Figure S2"
   ]
  },
  {
   "cell_type": "code",
   "execution_count": null,
   "metadata": {},
   "outputs": [],
   "source": [
    "#Figure S1a: S1a_LightsOnOff\n",
    "%run ./2018_BM_S1LightsOnOff.ipynb\n",
    "os.chdir(startDirMaster)"
   ]
  },
  {
   "cell_type": "code",
   "execution_count": null,
   "metadata": {},
   "outputs": [],
   "source": [
    "#Figure S1b: S1b_DishVsStack\n",
    "%run ./2018_BM_S1DishVsStack.ipynb\n",
    "os.chdir(startDirMaster)"
   ]
  },
  {
   "cell_type": "markdown",
   "metadata": {},
   "source": [
    "### Figure S3\n",
    "created with Figure 1"
   ]
  },
  {
   "cell_type": "markdown",
   "metadata": {},
   "source": [
    "### Figure S4\n",
    "created with Figure 1"
   ]
  },
  {
   "cell_type": "markdown",
   "metadata": {},
   "source": [
    "### Figure S5"
   ]
  },
  {
   "cell_type": "code",
   "execution_count": null,
   "metadata": {},
   "outputs": [],
   "source": [
    "#Figure S5: S5_Contrast\n",
    "%run ./2018_BM_S5_contrast.ipynb\n",
    "os.chdir(startDirMaster)"
   ]
  },
  {
   "cell_type": "markdown",
   "metadata": {},
   "source": [
    "### Figure S6\n",
    "created with Figure 4"
   ]
  },
  {
   "cell_type": "markdown",
   "metadata": {},
   "source": [
    "### Figure S7"
   ]
  },
  {
   "cell_type": "code",
   "execution_count": null,
   "metadata": {},
   "outputs": [],
   "source": [
    "#Figure S7a: S7a_Model_QuartetExplicitPreference\n",
    "#Figure S7b: S7b_Model_QuartetSpeedBout2\n",
    "#Figure S7c: S7c_Model_QuartetSpeedBout3\n",
    "#Figure S7d: S7d_Model_QuartetSpeedBout4\n",
    "#Figure S7e: S7e_Model_QuartetSpeedBout1\n",
    "%run ./2018_BM_S7_ModelControls.ipynb\n",
    "os.chdir(startDirMaster)"
   ]
  },
  {
   "cell_type": "markdown",
   "metadata": {},
   "source": [
    "# Composite Figures"
   ]
  },
  {
   "cell_type": "code",
   "execution_count": null,
   "metadata": {},
   "outputs": [],
   "source": [
    "%run ./composeFigure1.ipynb\n",
    "%run ./composeFigure2.ipynb\n",
    "%run ./composeFigure3.ipynb\n",
    "%run ./composeFigure4.ipynb\n",
    "%run ./composeFigure5.ipynb\n",
    "%run ./composeFigureS1.ipynb\n",
    "%run ./composeFigureSS_Model4WaySpeedBouts.ipynb\n",
    "%run ./composeFigureS6.ipynb"
   ]
  },
  {
   "cell_type": "code",
   "execution_count": null,
   "metadata": {},
   "outputs": [],
   "source": [
    "os.chdir(startDirMaster)"
   ]
  }
 ],
 "metadata": {
  "kernelspec": {
   "display_name": "Python 3",
   "language": "python",
   "name": "python3"
  },
  "language_info": {
   "codemirror_mode": {
    "name": "ipython",
    "version": 3
   },
   "file_extension": ".py",
   "mimetype": "text/x-python",
   "name": "python",
   "nbconvert_exporter": "python",
   "pygments_lexer": "ipython3",
   "version": "3.6.5"
  }
 },
 "nbformat": 4,
 "nbformat_minor": 2
}
