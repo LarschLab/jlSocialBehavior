{
 "cells": [
  {
   "cell_type": "code",
   "execution_count": null,
   "metadata": {},
   "outputs": [],
   "source": [
    "import svgutils.transform as sg\n",
    "import pandas as pd\n",
    "import os"
   ]
  },
  {
   "cell_type": "code",
   "execution_count": null,
   "metadata": {},
   "outputs": [],
   "source": [
    "propsFn='props.csv'\n",
    "props=pd.read_csv(propsFn, header=None, index_col=0, squeeze=True,delim_whitespace=True).to_dict()\n",
    "\n",
    "base=props['BaseDir']\n",
    "\n",
    "outputDir = os.path.join(base,props['outputDir'])+'\\\\'\n",
    "RawDataDir = os.path.join(base,'rawData\\\\')\n",
    "\n",
    "props"
   ]
  },
  {
   "cell_type": "code",
   "execution_count": null,
   "metadata": {},
   "outputs": [],
   "source": [
    "f1=outputDir+'\\\\S1b_DishVsStack.svg'\n",
    "f2=outputDir+'\\\\S1a_LightsOnOff.svg'\n",
    "f3=outputDir+'\\\\S1c_SI5minNullStimVsShift.svg'\n",
    "f4=outputDir+'\\\\S1d_SI5minShiftPair.svg'"
   ]
  },
  {
   "cell_type": "code",
   "execution_count": null,
   "metadata": {},
   "outputs": [],
   "source": [
    "from svgutils.compose import *\n",
    "fo3=outputDir+'\\\\FigureS1.svg'\n",
    "Figure(\"13cm\", \"12cm\", \n",
    "        Panel(\n",
    "              Text(\"Figure S1\", 0, 0, size=12, weight='bold')\n",
    "             ).move(10, 20),\n",
    "        Panel(\n",
    "              SVG(f1).move(60, 40),\n",
    "              Text(\"A\", 20, 40, size=12, weight='bold')\n",
    "             ),\n",
    "        Panel(\n",
    "              SVG(f2).move(40, 40),\n",
    "              Text(\"B\", 0, 40, size=12, weight='bold')\n",
    "             ).move(180, 0),\n",
    "        Panel(\n",
    "              SVG(f3).move(20, 40),\n",
    "              Text(\"C\", 20, 40, size=12, weight='bold')\n",
    "             ).move(0, 180),\n",
    "        Panel(\n",
    "              SVG(f4).move(40, 40),\n",
    "              Text(\"D\", 0, 40, size=12, weight='bold')\n",
    "             ).move(220, 180)\n",
    "        \n",
    "      ).save(fo3)"
   ]
  },
  {
   "cell_type": "code",
   "execution_count": null,
   "metadata": {},
   "outputs": [],
   "source": []
  },
  {
   "cell_type": "code",
   "execution_count": null,
   "metadata": {},
   "outputs": [],
   "source": []
  }
 ],
 "metadata": {
  "kernelspec": {
   "display_name": "Python 3",
   "language": "python",
   "name": "python3"
  },
  "language_info": {
   "codemirror_mode": {
    "name": "ipython",
    "version": 3
   },
   "file_extension": ".py",
   "mimetype": "text/x-python",
   "name": "python",
   "nbconvert_exporter": "python",
   "pygments_lexer": "ipython3",
   "version": "3.6.5"
  }
 },
 "nbformat": 4,
 "nbformat_minor": 1
}
