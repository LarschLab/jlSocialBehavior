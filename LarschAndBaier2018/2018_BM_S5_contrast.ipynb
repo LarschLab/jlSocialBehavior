{
 "cells": [
  {
   "cell_type": "markdown",
   "metadata": {
    "collapsed": true
   },
   "source": [
    "# Summary analysis: Kinetic parameters 6 - contrast\n",
    "\n",
    "## Jump Distance on Knot trajectory\n",
    "\n",
    "### speed = 0.7 px / frame\n",
    "\n"
   ]
  },
  {
   "cell_type": "markdown",
   "metadata": {},
   "source": []
  },
  {
   "cell_type": "code",
   "execution_count": null,
   "metadata": {
    "scrolled": true
   },
   "outputs": [],
   "source": [
    "%config InteractiveShellApp.pylab_import_all = False\n",
    "%matplotlib inline\n",
    "%pylab inline\n",
    "%reload_ext autoreload\n",
    "%autoreload 2\n",
    "\n",
    "import sys\n",
    "import os\n",
    "import fnmatch\n",
    "\n",
    "import numpy as np\n",
    "import math\n",
    "import matplotlib.pyplot as plt\n",
    "import pandas as pd\n",
    "from pandas import DataFrame, Series\n",
    "import seaborn as sns\n",
    "\n",
    "propsFn='props.csv'\n",
    "props=pd.read_csv(propsFn, header=None, index_col=0, squeeze=True,delim_whitespace=True).to_dict()\n",
    "\n",
    "base=props['BaseDir']\n",
    "expFile=props['allExpFn']\n",
    "\n",
    "RawDataDir = os.path.join(base,props['RawDataDir'])+'\\\\'\n",
    "ProcessingDir = os.path.join(base,props['ProcessingDir'])+'\\\\FigS5Contrast\\\\'\n",
    "outputDir = os.path.join(base,props['outputDir'])+'\\\\'\n",
    "\n",
    "if not os.path.isdir(ProcessingDir):\n",
    "    os.makedirs(ProcessingDir)\n",
    "if not os.path.isdir(outputDir):\n",
    "    os.makedirs(outputDir)\n",
    "\n",
    "os.chdir('..\\\\')\n",
    "\n",
    "import functions.matrixUtilities_joh as mu\n",
    "import matplotlib.pyplot as plt\n",
    "import models.experiment as xp\n",
    "import models.experiment_set as es\n",
    "import functions.paperFigureProps as pfp\n",
    "pfp.paper()\n",
    "inToCm=2.54\n"
   ]
  },
  {
   "cell_type": "code",
   "execution_count": null,
   "metadata": {},
   "outputs": [],
   "source": [
    "info=pd.read_csv(expFile, sep=',')#pd.read_csv(expFile,quotechar='\"', sep=',', converters={'bdGroup':ast.literal_eval})\n",
    "info=info[info.stimulusProtocol=='6']\n",
    "info"
   ]
  },
  {
   "cell_type": "code",
   "execution_count": null,
   "metadata": {},
   "outputs": [],
   "source": [
    "# collect meta information and save to new csv file for batch processing\n",
    "\n",
    "aviPath=[]\n",
    "posPath=[]\n",
    "PLPath=[]\n",
    "expTime = []\n",
    "    \n",
    "for index,row in info.iterrows():\n",
    "    startDir=RawDataDir+row.path+'\\\\'\n",
    "    #startDir='D:\\\\data\\\\b\\\\2017\\\\'+row.path+'\\\\'\n",
    "    #if not os.path.isdir(startDir):\n",
    "    #    startDir='E:\\\\b\\\\2017\\\\'+row.path+'\\\\'\n",
    "        \n",
    "    posPath.append(glob.glob(startDir+'PositionTxt*.txt')[0])\n",
    "    PLPath.append(glob.glob(startDir+'PL*.txt')[0])\n",
    "    \n",
    "    head, tail = os.path.split(posPath[-1])\n",
    "    currTime=datetime.strptime(tail[-23:-4], '%Y-%m-%dT%H_%M_%S')\n",
    "    expTime.append(currTime)\n",
    "    \n",
    "info['txtPath']=posPath\n",
    "info['pairList']=PLPath\n",
    "\n",
    "info['epiDur'] = 5      # duration of individual episodes (default: 5 minutes)\n",
    "info['episodes'] = -1   # number of episodes to process: -1 to load all episodes (default: -1)\n",
    "info['inDish'] = 10#np.arange(len(posPath))*120     # time in dish before experiments started (default: 10)\n",
    "info['arenaDiameter_mm'] = 100 # arena diameter (default: 100 mm)\n",
    "info['minShift'] = 60 # minimum number of seconds to shift for control IAD\n",
    "info['episodePLcode'] = 0 # flag if first two characters of episode name encode animal pair matrix (default: 0)\n",
    "info['recomputeAnimalSize'] = 0 # flag to compute animals size from avi file (takes time, default: 1)\n",
    "info['SaveNeighborhoodMaps'] = 0 # flag to save neighborhood maps for subsequent analysis (takes time, default: 1)\n",
    "info['computeLeadership'] = 0 # flag to compute leadership index (takes time, default: 1)\n",
    "info['ComputeBouts'] = 0 # flag to compute swim bout frequency (takes time, default: 1)\n",
    "info['set'] = np.arange(len(posPath))   # experiment set: can label groups of experiments (default: 0)\n",
    "info['ProcessingDir']=ProcessingDir\n",
    "info['outputDir']=outputDir\n",
    "\n",
    "info['expTime']=expTime\n",
    "\n",
    "csvFile=os.path.join(ProcessingDir,'FigS4.csv')\n",
    "info.to_csv(csvFile,encoding='utf-8')\n",
    "info"
   ]
  },
  {
   "cell_type": "code",
   "execution_count": null,
   "metadata": {},
   "outputs": [],
   "source": [
    "def readExperiment(keepData=False):\n",
    "    tmp=es.experiment_set(csvFile=csvFile)\n",
    "    if keepData:\n",
    "        return tmp\n",
    "    else:\n",
    "        return 1\n",
    "\n",
    "expSet=readExperiment(keepData=True)"
   ]
  },
  {
   "cell_type": "code",
   "execution_count": null,
   "metadata": {},
   "outputs": [],
   "source": [
    "csvPath = []\n",
    "for f in [mu.splitall(x)[-1][:-4] for x in info.txtPath]:\n",
    "    csvPath.append(glob.glob(ProcessingDir+f+'*siSummary*.csv')[0])\n",
    "\n",
    "df=pd.DataFrame()\n",
    "i=0\n",
    "for fn in csvPath:\n",
    "    print(fn)\n",
    "    tmp=pd.read_csv(fn,index_col=0,sep=',')\n",
    "    tmp.animalSet=i\n",
    "    tmp.animalIndex=tmp.animalIndex+((i)*15)\n",
    "    df=pd.concat([df,tmp])\n",
    "    i+=1\n",
    "df['episode']=[x.strip().replace('_','') for x in df['episode']]\n",
    "\n",
    "print('df shape',df.shape)\n",
    "d=df.time\n",
    "r=datetime(2017,1,1)\n",
    "t2=[pd.to_datetime(x).replace(day=1,month=1)for x in df.time]\n",
    "t3=[(x-r)/pd.Timedelta('1 hour') for x in t2]\n",
    "df['t2']=t2\n",
    "df['t3']=t3\n",
    "df"
   ]
  },
  {
   "cell_type": "markdown",
   "metadata": {},
   "source": [
    "## Habituation or Fatigue within 20 hours?"
   ]
  },
  {
   "cell_type": "markdown",
   "metadata": {},
   "source": [
    "Plot shoaling index during closed loop skype episodes over time."
   ]
  },
  {
   "cell_type": "code",
   "execution_count": null,
   "metadata": {
    "scrolled": false
   },
   "outputs": [],
   "source": [
    "sns.tsplot(data=df, time=\"inDishTime\",value=\"si\",unit=\"animalIndex\",condition=\"episode\",estimator=np.nanmean,interpolate=False,err_style=\"ci_bars\");\n",
    "plt.xlim([0,8*60])"
   ]
  },
  {
   "cell_type": "code",
   "execution_count": null,
   "metadata": {
    "scrolled": false
   },
   "outputs": [],
   "source": [
    "idx=(df['inDishTime']<350) & (df['inDishTime']>45) #& (df.age==22)\n",
    "episodeNames=df['episode'].unique()\n",
    "dfDR=df[idx]\n",
    "tmp=dfDR.groupby(['episode','animalIndex'],sort=True)[['si']]\n",
    "xax=np.arange(episodeNames.shape[0])\n",
    "\n",
    "err=tmp.std().unstack().values.T\n",
    "tmp=tmp.mean().unstack()\n",
    "tmp['xax']=xax\n",
    "fig, axes = plt.subplots(figsize=(10, 7))\n",
    "\n",
    "\n",
    "\n",
    "\n",
    "\n",
    "axes=tmp.plot(x='xax',kind='line',marker='o',yerr=err,\n",
    "                                  linestyle=':',ax=axes,legend=False)\n",
    "\n",
    "dfSkype=df[idx]\n",
    "dfSkype=dfSkype[dfSkype['episode']==episodeNames[-1]]\n",
    "mn=dfSkype.si.mean()\n",
    "er=dfSkype.si.std()\n",
    "\n",
    "\n",
    "\n",
    "\n",
    "axes.set_ylabel('attraction index')\n",
    "plt.xlim([0,xax.max()+xax.max()*0.1])\n",
    "axes.axhline(0,ls=':',color='k')\n",
    "axes.set_title('Individual Pair Disc Size Tuning, Night vs. Day, n=8 pairs');\n"
   ]
  },
  {
   "cell_type": "code",
   "execution_count": null,
   "metadata": {},
   "outputs": [],
   "source": [
    "tmp=dfDR.groupby(['episode','animalIndex'],sort=True)[['si']]\n",
    "tmp2=tmp.mean().reset_index()\n",
    "tmp2.head()"
   ]
  },
  {
   "cell_type": "code",
   "execution_count": null,
   "metadata": {},
   "outputs": [],
   "source": [
    "plotOrder=[1,6,4,2,7,5,3,0]\n",
    "epiNames=tmp2.episode.unique()\n",
    "fig, ax = plt.subplots(figsize=(10,10))\n",
    "\n",
    "plt.axhline(0)\n",
    "sns.boxplot(x=tmp2['episode'],y=tmp2['si'],order=epiNames[plotOrder])\n",
    "sns.swarmplot(x=tmp2['episode'],y=tmp2['si'],linewidth=1,edgecolor='gray',order=epiNames[plotOrder])\n",
    "plt.ylim([-.1,.6])"
   ]
  },
  {
   "cell_type": "code",
   "execution_count": null,
   "metadata": {},
   "outputs": [],
   "source": [
    "groupMeans=tmp2.groupby(['episode']).si.mean()[plotOrder].values\n",
    "groupStd=tmp2.groupby(['episode']).si.std()[plotOrder].values\n",
    "groupMeans=np.stack([np.hstack([groupMeans[:4],np.nan]),np.hstack([np.nan,groupMeans[4:]])]).T\n",
    "groupStd=np.stack([np.hstack([groupStd[:4],np.nan]),np.hstack([np.nan,groupStd[4:]])]).T"
   ]
  },
  {
   "cell_type": "code",
   "execution_count": null,
   "metadata": {},
   "outputs": [],
   "source": [
    "inToCm=2.54\n",
    "fig, axes = plt.subplots(nrows=2, ncols=1, sharex='col', sharey=False,\n",
    "                               gridspec_kw={'height_ratios': [5, 2]},\n",
    "                               figsize=(7/inToCm,7/inToCm))\n",
    "\n",
    "gra=np.linspace(0,1,5).repeat(5).reshape((-1,5)).T\n",
    "\n",
    "dfx=pd.DataFrame(groupMeans,columns=['black dot','white dot'])\n",
    "axes[0]=dfx.plot(kind='line',marker='o',ls='',\n",
    "                 ax=axes[0],color=['k','w'],ms=3,\n",
    "                 markeredgecolor='k',markeredgewidth=1,\n",
    "                legend=False)\n",
    "\n",
    "xax=np.repeat(np.arange(5),2)\n",
    "axes[0].errorbar(xax.ravel(),groupMeans.ravel(),groupStd.ravel(),ls='',color='k',capthick=1)\n",
    "\n",
    "plt.xlim([-.5,4.5])\n",
    "plt.ylim([0,0.6])\n",
    "axes[0].axhline(0,linestyle=':',color='k')\n",
    "axes[1].imshow(np.linspace(0,1,5).reshape((1,5)),interpolation='none',cmap='binary')#,aspect='auto')\n",
    "\n",
    "xl=[0,1,1,2,2,3,3,4]\n",
    "yl=[-.2,-.2,.2,-.2,.2,-.2,.2,.2][::-1]\n",
    "dc=[1,1,0,1,0,1,0,0][::-1]\n",
    "\n",
    "for i in range(len(xl)):\n",
    "    x=xl[i]\n",
    "    y=yl[i]\n",
    "    d=dc[i]\n",
    "    c=plt.Circle((x,y),.1,facecolor=[d,d,d],edgecolor='k',linewidth=0)\n",
    "    axes[1].add_artist(c)\n",
    "    \n",
    "axes[1].grid(b=False)\n",
    "axes[1].set_ylim([-.4,.4])\n",
    "axes[1].set_yticks([-.2,.2])\n",
    "axes[0].set_yticks([0,.2,.4])\n",
    "axes[1].set_yticklabels(['Black','White'][::-1])\n",
    "axes[1].set_xticks(range(5))\n",
    "axes[1].set_xticklabels(['']);\n",
    "axes[1].set_xlabel('Background contrast',labelpad=-5)\n",
    "axes[0].set_ylabel('Attraction')\n",
    "axes[0].set_ylim([-.05,.45]);\n",
    "axes[0].tick_params(axis='x', which='both',length=0)\n",
    "axes[1].tick_params(axis='x', which='both',length=0)\n",
    "plt.subplots_adjust(wspace=0, hspace=0)\n",
    "sns.despine()\n",
    "figPath=outputDir+'\\\\S5_Contrast.svg'\n",
    "plt.savefig(figPath,bbox_inches='tight')"
   ]
  },
  {
   "cell_type": "markdown",
   "metadata": {},
   "source": [
    "from shutil import copy2\n",
    "\n",
    "def splitall(path):\n",
    "    allparts = []\n",
    "    while 1:\n",
    "        parts = os.path.split(path)\n",
    "        if parts[0] == path:  # sentinel for absolute paths\n",
    "            allparts.insert(0, parts[0])\n",
    "            break\n",
    "        elif parts[1] == path: # sentinel for relative paths\n",
    "            allparts.insert(0, parts[1])\n",
    "            break\n",
    "        else:\n",
    "            path = parts[0]\n",
    "            allparts.insert(0, parts[1])\n",
    "    return allparts\n",
    "\n",
    "\n",
    "\n",
    "for i,row in info.iterrows():\n",
    "    fn=row.txtPath\n",
    "    head, tail = os.path.split(fn)\n",
    "\n",
    "    copyList=[]\n",
    "    copyList.append(glob.glob(head+'\\\\ROI*.csv')[0])\n",
    "    copyList.append(glob.glob(head+'\\\\PositionTxt*.txt')[0])\n",
    "    copyList.append(glob.glob(head+'\\\\PL*.txt')[0])\n",
    "    copyList.append(glob.glob(head+'\\\\*anSize.csv')[0])\n",
    "    \n",
    "    for f in copyList:\n",
    "        print(f)\n",
    "        if f[0]=='E':\n",
    "            keepSlash=3\n",
    "        else:\n",
    "            keepSlash=4\n",
    "        toDirectory = \"e:\\\\b\\\\LarschAndBaier2018\\\\RawData\\\\\" + os.path.join(*splitall(f)[keepSlash:-1])+\"\\\\\"\n",
    "        #toDirectory = \"e:\\\\b\\\\LarschAndBaier2018\\\\RawData\\\\\" \n",
    "        if not os.path.isdir(toDirectory):\n",
    "            os.makedirs(toDirectory)\n",
    "        \n",
    "        copy2(f, toDirectory)\n"
   ]
  },
  {
   "cell_type": "code",
   "execution_count": null,
   "metadata": {},
   "outputs": [],
   "source": []
  }
 ],
 "metadata": {
  "kernelspec": {
   "display_name": "Python 3",
   "language": "python",
   "name": "python3"
  },
  "language_info": {
   "codemirror_mode": {
    "name": "ipython",
    "version": 3
   },
   "file_extension": ".py",
   "mimetype": "text/x-python",
   "name": "python",
   "nbconvert_exporter": "python",
   "pygments_lexer": "ipython3",
   "version": "3.6.5"
  }
 },
 "nbformat": 4,
 "nbformat_minor": 1
}
